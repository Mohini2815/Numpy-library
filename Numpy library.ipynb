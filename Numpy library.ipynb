{
 "cells": [
  {
   "cell_type": "markdown",
   "id": "66b7fcce-75bc-4548-b901-3edc9bb714ae",
   "metadata": {},
   "source": [
    "# **Numpy** (numerical python)\n",
    "- It stand for numerical python.\n",
    "- it is used for numerical computation\n",
    "- it provide support for large multi-dimensional arrays and matrices along with a collection of highe-level mathematical function to operates on these arrays.\n",
    "\n",
    "**features of NumPy**\n",
    "1. **supports operation on N-dimensional arrays** - N-dimensional array also known as (n-D array) is a core data structure used in numpy for efficient storage and computation.\n",
    "2. **numpy allows broadcasting** i.e. arithematic operation on arrays of different shapes.\n",
    "3. **numpy also allow vectorization** i.e. eliminating needs for loops during operations on array.\n",
    "4. Numpy provides built-in support for linear algebra, statistics, trigonometry calculation\n",
    "5. numpy can be integrated with other python libraries like pandas, matplotlib, seaborn, scikit learn etc.\n",
    "\n",
    "**Data structure in numpy**\n",
    "\n",
    "- numpy primerily words with single core data structure. n-D array\n",
    "1. **n-dimensional array**\n",
    "- This can be of any (N) dimensions\n",
    "- N-D array can represent vectors (1D array) matrices (2D array) or tensors (3-D array)\n",
    "- N-D array are homogeneous which means all elements value in N-D array must be of same datatype\n",
    "- this array are of fixed size , once created we cannot change size of array\n",
    "\n",
    "2. **Structured array**\n",
    "- These arrays are **heterogeneous** arrays i.e. used to handle , store data of different datatypes similar to SQL, dataframes in pandas\n",
    "- allows accessing fields by name\n",
    "\n",
    "3. **Masked arrays**\n",
    "- These arrays are useful to deal with datasets containing missing values, invalid data or placeholder\n",
    "\n",
    "4. **Metrix**\n",
    "\n",
    "**datatypes used in structured arrays**\n",
    "\n",
    "1. Datatype - ':' or **'i4'** , python datatype equivalent - **int** , example - ('num','i4')\n",
    "2. Datatype - **'U10'** , python datatype equivalent - **str** , example - ('name','U10')\n",
    "3. Datatype - 'f' or **'f8'** , python datatype equivalent - **float** , example - ('nums','f8')\n",
    "4. Datatype -  **'bool'** , python datatype equivalent - **boolean** , example - ('accepted','bool')\n",
    "\n",
    "**Vectors** (1-D array)\n",
    "- vectors are one-dimensional array(1-D array) which stores data usually in list format\n",
    "\n",
    "**Matrix(2-D tensor)**\n",
    "- it is 2-D tensor that is arrays with rows and columns\n",
    "\n",
    "**Tensor** (N-D array)\n",
    "- tensor are arrays with 3 or more dimension"
   ]
  },
  {
   "cell_type": "code",
   "execution_count": 3,
   "id": "b2080c9d-3965-4255-ad87-bc497d1d740d",
   "metadata": {},
   "outputs": [],
   "source": [
    "import numpy as np"
   ]
  },
  {
   "cell_type": "code",
   "execution_count": 4,
   "id": "434a1c16-26c5-4d25-96df-ea2c15d63509",
   "metadata": {},
   "outputs": [
    {
     "name": "stdout",
     "output_type": "stream",
     "text": [
      "[ 1 23  4  1]\n"
     ]
    }
   ],
   "source": [
    "a = np.array([1,23,4,1]) # creating 1 dimensional array\n",
    "print(a)"
   ]
  },
  {
   "cell_type": "code",
   "execution_count": 200,
   "id": "30fac5a7-ab2f-4023-89f9-4e4726cb27dc",
   "metadata": {},
   "outputs": [
    {
     "data": {
      "text/plain": [
       "(4, 2)"
      ]
     },
     "execution_count": 200,
     "metadata": {},
     "output_type": "execute_result"
    }
   ],
   "source": [
    "a.shape"
   ]
  },
  {
   "cell_type": "code",
   "execution_count": 6,
   "id": "35c47d89-8503-4aed-90d9-b1087a2b4b3a",
   "metadata": {},
   "outputs": [
    {
     "data": {
      "text/plain": [
       "1"
      ]
     },
     "execution_count": 6,
     "metadata": {},
     "output_type": "execute_result"
    }
   ],
   "source": [
    "a.ndim"
   ]
  },
  {
   "cell_type": "code",
   "execution_count": 7,
   "id": "908f6a41-7c1e-4eeb-a764-93e834af9858",
   "metadata": {},
   "outputs": [
    {
     "name": "stdout",
     "output_type": "stream",
     "text": [
      "[[1 2]\n",
      " [4 5]]\n"
     ]
    }
   ],
   "source": [
    "# creating 2 dimensional array\n",
    "b = np.array([[1,2],[4,5]])\n",
    "print(b)"
   ]
  },
  {
   "cell_type": "code",
   "execution_count": 8,
   "id": "04b6f070-fed4-4416-8377-47638048a08a",
   "metadata": {},
   "outputs": [
    {
     "data": {
      "text/plain": [
       "(2, 2)"
      ]
     },
     "execution_count": 8,
     "metadata": {},
     "output_type": "execute_result"
    }
   ],
   "source": [
    "b.shape"
   ]
  },
  {
   "cell_type": "code",
   "execution_count": 9,
   "id": "dfee4b88-b494-4065-b153-0483e2540917",
   "metadata": {},
   "outputs": [
    {
     "data": {
      "text/plain": [
       "2"
      ]
     },
     "execution_count": 9,
     "metadata": {},
     "output_type": "execute_result"
    }
   ],
   "source": [
    "b.ndim"
   ]
  },
  {
   "cell_type": "code",
   "execution_count": 10,
   "id": "bcd10a65-1059-45f4-b772-0a5d4260f5ba",
   "metadata": {},
   "outputs": [
    {
     "name": "stdout",
     "output_type": "stream",
     "text": [
      "[[[ 2  4]\n",
      "  [ 6  8]\n",
      "  [ 9 10]\n",
      "  [56 43]]]\n"
     ]
    }
   ],
   "source": [
    "# creating 3 dimensional array or tensor\n",
    "c = np.array([[[2,4],[6,8],[9,10],[56,43]]])\n",
    "print(c)"
   ]
  },
  {
   "cell_type": "code",
   "execution_count": 11,
   "id": "b7ea21e0-b47a-4a7a-9acf-672251f310f0",
   "metadata": {},
   "outputs": [
    {
     "name": "stdout",
     "output_type": "stream",
     "text": [
      "(1, 4, 2)\n"
     ]
    }
   ],
   "source": [
    "print(c.shape)"
   ]
  },
  {
   "cell_type": "code",
   "execution_count": 12,
   "id": "c22976e3-be51-4c43-a454-aa75b413f4d4",
   "metadata": {},
   "outputs": [
    {
     "data": {
      "text/plain": [
       "3"
      ]
     },
     "execution_count": 12,
     "metadata": {},
     "output_type": "execute_result"
    }
   ],
   "source": [
    "c.ndim # check which dimensional array is"
   ]
  },
  {
   "cell_type": "markdown",
   "id": "1a5efca7-a44a-4e1e-9bbf-c2fa674bc488",
   "metadata": {},
   "source": [
    "**Structured array**"
   ]
  },
  {
   "cell_type": "code",
   "execution_count": 14,
   "id": "f32cac4b-58ab-4748-a8f8-987ce5acfb08",
   "metadata": {},
   "outputs": [
    {
     "name": "stdout",
     "output_type": "stream",
     "text": [
      "bhargavi\n"
     ]
    }
   ],
   "source": [
    "# creating structured arrays - records are on the form of rows and columns\n",
    "dtype = ([('id','i4'),('name', 'U10'),('marks','f8')])\n",
    "d1 = np.array([(1,\"mohini\",6.7),(2,\"bhargavi\",7.8),(3,\"gauri\",8.9)],dtype=dtype)\n",
    "\n",
    "print(d1['name'][1]) # accessing the feature via column name and row index"
   ]
  },
  {
   "cell_type": "code",
   "execution_count": 15,
   "id": "8203a2c1-1cbc-4c05-ae71-20ff5ceb0669",
   "metadata": {},
   "outputs": [
    {
     "name": "stdout",
     "output_type": "stream",
     "text": [
      "[(1, 'mohini', 6.7) (2, 'bhargavi', 7.8) (3, 'gauri', 8.9)]\n"
     ]
    }
   ],
   "source": [
    "print(d1) # accessing all the elements of the structured array"
   ]
  },
  {
   "cell_type": "code",
   "execution_count": 16,
   "id": "453c6989-f6d8-4d32-b657-c268122234d7",
   "metadata": {},
   "outputs": [
    {
     "name": "stdout",
     "output_type": "stream",
     "text": [
      "[1 2 3]\n",
      "['mohini' 'bhargavi' 'gauri']\n",
      "[6.7 7.8 8.9]\n"
     ]
    }
   ],
   "source": [
    "# accessing the columns in structured array\n",
    "print(d1['id'])\n",
    "print(d1['name'])\n",
    "print(d1['marks'])"
   ]
  },
  {
   "cell_type": "code",
   "execution_count": 17,
   "id": "15a7c609-c78d-43b8-a86b-16a57168866c",
   "metadata": {},
   "outputs": [
    {
     "name": "stdout",
     "output_type": "stream",
     "text": [
      "[('id', '<i4'), ('name', '<U10'), ('marks', '<f8')]\n"
     ]
    }
   ],
   "source": [
    "# will show datatypes of each column\n",
    "print(d1.dtype)"
   ]
  },
  {
   "cell_type": "code",
   "execution_count": 18,
   "id": "acc50337-d528-4108-a08d-3bf26063a6f8",
   "metadata": {},
   "outputs": [
    {
     "data": {
      "text/plain": [
       "array([[0., 0., 0.],\n",
       "       [0., 0., 0.]])"
      ]
     },
     "execution_count": 18,
     "metadata": {},
     "output_type": "execute_result"
    }
   ],
   "source": [
    "# for creating zeros array\n",
    "d = np.zeros((2,3))\n",
    "d"
   ]
  },
  {
   "cell_type": "code",
   "execution_count": 19,
   "id": "c275e7df-e593-484f-93b1-3ce1cfa1d765",
   "metadata": {},
   "outputs": [
    {
     "data": {
      "text/plain": [
       "2"
      ]
     },
     "execution_count": 19,
     "metadata": {},
     "output_type": "execute_result"
    }
   ],
   "source": [
    "d.ndim"
   ]
  },
  {
   "cell_type": "code",
   "execution_count": 20,
   "id": "89bbd368-eef0-4aef-a5ec-6144a2a5f0e4",
   "metadata": {},
   "outputs": [
    {
     "data": {
      "text/plain": [
       "(2, 3)"
      ]
     },
     "execution_count": 20,
     "metadata": {},
     "output_type": "execute_result"
    }
   ],
   "source": [
    "d.shape"
   ]
  },
  {
   "cell_type": "code",
   "execution_count": 21,
   "id": "1f4cb01e-2867-4807-a68a-2bdff4dd4a67",
   "metadata": {},
   "outputs": [
    {
     "name": "stdout",
     "output_type": "stream",
     "text": [
      "[[1. 1. 1. 1. 1.]\n",
      " [1. 1. 1. 1. 1.]\n",
      " [1. 1. 1. 1. 1.]]\n"
     ]
    }
   ],
   "source": [
    "# want to create array have value only 1\n",
    "e = np.ones((3,5))\n",
    "print(e)"
   ]
  },
  {
   "cell_type": "markdown",
   "id": "1596fef4-6f2d-4855-829d-37b1329161ed",
   "metadata": {},
   "source": [
    "**Identity matrix creation**"
   ]
  },
  {
   "cell_type": "code",
   "execution_count": 23,
   "id": "e282a97a-39d8-4f35-a989-ded8321b7bea",
   "metadata": {},
   "outputs": [
    {
     "name": "stdout",
     "output_type": "stream",
     "text": [
      "[[1. 0. 0.]\n",
      " [0. 1. 0.]\n",
      " [0. 0. 1.]]\n"
     ]
    }
   ],
   "source": [
    "f = np.eye(3) # creating identity matrix\n",
    "print(f)"
   ]
  },
  {
   "cell_type": "code",
   "execution_count": 24,
   "id": "0e6d21b9-7b4a-44a3-937e-34f30561f2a1",
   "metadata": {},
   "outputs": [
    {
     "name": "stdout",
     "output_type": "stream",
     "text": [
      "[1 3 5 7 9]\n"
     ]
    }
   ],
   "source": [
    "# creates an array with evenly spaced values specified in range\n",
    "g = np.arange(1,10,2)\n",
    "print(g)"
   ]
  },
  {
   "cell_type": "code",
   "execution_count": 25,
   "id": "09c8b178-cc24-4715-ac02-10b4c3774607",
   "metadata": {},
   "outputs": [
    {
     "name": "stdout",
     "output_type": "stream",
     "text": [
      "[0.  0.5 1.  1.5 2. ]\n"
     ]
    }
   ],
   "source": [
    "# creates array of evenly spaced numbers(specified interval - (displays in float))\n",
    "h = np.linspace(0,2,5) \n",
    "print(h)"
   ]
  },
  {
   "cell_type": "code",
   "execution_count": 26,
   "id": "c53f1f67-5666-4758-99e7-70b9267dd5b4",
   "metadata": {},
   "outputs": [
    {
     "data": {
      "text/plain": [
       "5"
      ]
     },
     "execution_count": 26,
     "metadata": {},
     "output_type": "execute_result"
    }
   ],
   "source": [
    "# specified number of elements\n",
    "h.size"
   ]
  },
  {
   "cell_type": "markdown",
   "id": "3088daa4-340d-44af-8789-1e9720297baa",
   "metadata": {},
   "source": [
    "# Assignment 1"
   ]
  },
  {
   "cell_type": "markdown",
   "id": "b3eda71b-9b59-4f20-a44e-c2033a7b6390",
   "metadata": {},
   "source": [
    "1. create a 2D array of shape(3,4) filled with all ones"
   ]
  },
  {
   "cell_type": "code",
   "execution_count": 28,
   "id": "f3968e94-f01f-4489-b9c2-8de47015339e",
   "metadata": {},
   "outputs": [
    {
     "name": "stdout",
     "output_type": "stream",
     "text": [
      "[[1. 1. 1. 1.]\n",
      " [1. 1. 1. 1.]\n",
      " [1. 1. 1. 1.]]\n"
     ]
    }
   ],
   "source": [
    "m = np.ones((3,4))\n",
    "print(m)"
   ]
  },
  {
   "cell_type": "markdown",
   "id": "2f00ae69-26af-43ce-8ee8-6febd90b8c84",
   "metadata": {},
   "source": [
    "2. create 1D numpy array with values from 10 to 50 with a step of 4"
   ]
  },
  {
   "cell_type": "code",
   "execution_count": 30,
   "id": "6cf11075-fdc8-4c0e-b8cc-e9391cd3f1e9",
   "metadata": {},
   "outputs": [
    {
     "name": "stdout",
     "output_type": "stream",
     "text": [
      "[10 14 18 22 26 30 34 38 42 46]\n"
     ]
    }
   ],
   "source": [
    "n = np.arange(10,50,4)\n",
    "print(n)"
   ]
  },
  {
   "cell_type": "markdown",
   "id": "fc518e92-e56a-4ac8-a9c3-82b9a9e7e7a1",
   "metadata": {},
   "source": [
    "3. create a 4x4 identity matrix"
   ]
  },
  {
   "cell_type": "code",
   "execution_count": 32,
   "id": "25d1959c-ad6c-41ee-bdb8-37d2b4cb647b",
   "metadata": {},
   "outputs": [
    {
     "name": "stdout",
     "output_type": "stream",
     "text": [
      "[[1. 0. 0. 0.]\n",
      " [0. 1. 0. 0.]\n",
      " [0. 0. 1. 0.]\n",
      " [0. 0. 0. 1.]]\n"
     ]
    }
   ],
   "source": [
    "p = np.eye(4)\n",
    "print(p)"
   ]
  },
  {
   "cell_type": "markdown",
   "id": "19f90bbf-bdbd-4b1a-b9c2-c91a2cffed2e",
   "metadata": {},
   "source": [
    "4. create an array with 5 values evenly spaced between 0 and 1"
   ]
  },
  {
   "cell_type": "code",
   "execution_count": 34,
   "id": "2e9d63e6-ea25-460c-9c26-23909bad6da4",
   "metadata": {},
   "outputs": [
    {
     "name": "stdout",
     "output_type": "stream",
     "text": [
      "[0.   0.25 0.5  0.75 1.  ]\n"
     ]
    }
   ],
   "source": [
    "q = np.linspace(0,1,5)\n",
    "print(q)"
   ]
  },
  {
   "cell_type": "markdown",
   "id": "2e5939da-c2c4-48f3-b67d-922edd602c96",
   "metadata": {},
   "source": [
    "5. create a 1d numpy array with values from 10 to 50 with a step of 5"
   ]
  },
  {
   "cell_type": "code",
   "execution_count": 36,
   "id": "9602a1c9-70a0-42f7-9344-803c38d5a9c7",
   "metadata": {},
   "outputs": [
    {
     "name": "stdout",
     "output_type": "stream",
     "text": [
      "[10 15 20 25 30 35 40 45]\n"
     ]
    }
   ],
   "source": [
    "r = np.arange(10,50,5)\n",
    "print(r)"
   ]
  },
  {
   "cell_type": "markdown",
   "id": "bba3ae6f-44a7-4c76-b1ef-5a45e9848641",
   "metadata": {},
   "source": [
    "6. create a 3x3 array with random integers between 10 and 99"
   ]
  },
  {
   "cell_type": "code",
   "execution_count": 67,
   "id": "38fd8249-83b7-4165-a782-d6c13cf7d306",
   "metadata": {},
   "outputs": [
    {
     "name": "stdout",
     "output_type": "stream",
     "text": [
      "[0.98688649 0.79579984 0.94687855 0.50223094 0.05595777]\n"
     ]
    }
   ],
   "source": [
    "# random number methods\n",
    "u = np.random.rand(5)\n",
    "print(u)"
   ]
  },
  {
   "cell_type": "markdown",
   "id": "66a65420-8ec3-4875-9891-07aea7b44f4a",
   "metadata": {},
   "source": [
    "7. create an array of shape(2,3) filled with zeros and another filled with sevens"
   ]
  },
  {
   "cell_type": "code",
   "execution_count": 41,
   "id": "b3e90a7a-cfb8-4c2e-8f83-09fe2e8bd541",
   "metadata": {},
   "outputs": [
    {
     "name": "stdout",
     "output_type": "stream",
     "text": [
      "[[0. 0. 0.]\n",
      " [0. 0. 0.]]\n"
     ]
    },
    {
     "data": {
      "text/plain": [
       "array([[7, 7, 7],\n",
       "       [7, 7, 7]])"
      ]
     },
     "execution_count": 41,
     "metadata": {},
     "output_type": "execute_result"
    }
   ],
   "source": [
    "s = np.zeros((2,3))\n",
    "print(s)\n",
    "# full - create an array of fiven shape and fills with specified values\n",
    "t = np.full((2,3),7)\n",
    "t"
   ]
  },
  {
   "cell_type": "markdown",
   "id": "af5677dd-20a7-4833-9f0e-8f2accbef183",
   "metadata": {},
   "source": [
    "8. create an array with values from 1 to 12 and reshape it to a 3x4 matrix"
   ]
  },
  {
   "cell_type": "code",
   "execution_count": 44,
   "id": "b9a4838f-26a5-4d1a-93f7-3c8c537b9ac0",
   "metadata": {},
   "outputs": [
    {
     "name": "stdout",
     "output_type": "stream",
     "text": [
      "[ 1  2  3  4  5  6  7  8  9 10 11 12]\n",
      "[[ 1  2  3  4]\n",
      " [ 5  6  7  8]\n",
      " [ 9 10 11 12]]\n"
     ]
    },
    {
     "data": {
      "text/plain": [
       "(3, 4)"
      ]
     },
     "execution_count": 44,
     "metadata": {},
     "output_type": "execute_result"
    }
   ],
   "source": [
    "t = np.arange(1,13)\n",
    "print(t)\n",
    "# t= np.reshape((3,4))\n",
    "re_shape = t.reshape(3,4)\n",
    "print(re_shape)\n",
    "re_shape.shape"
   ]
  },
  {
   "cell_type": "markdown",
   "id": "fd205e19-3f75-407d-ba50-92976cea6fcc",
   "metadata": {},
   "source": [
    "9. create a 2D array of shape(5,2) and display\n",
    "- number of dimensions\n",
    "- shape\n",
    "- total number of elements\n",
    "- data type"
   ]
  },
  {
   "cell_type": "code",
   "execution_count": 47,
   "id": "0e18af5c-84c1-4d20-a856-e9c3c576cb2c",
   "metadata": {},
   "outputs": [
    {
     "name": "stdout",
     "output_type": "stream",
     "text": [
      "[[2 4]\n",
      " [5 6]\n",
      " [7 6]\n",
      " [8 7]\n",
      " [9 0]]\n"
     ]
    },
    {
     "data": {
      "text/plain": [
       "2"
      ]
     },
     "execution_count": 47,
     "metadata": {},
     "output_type": "execute_result"
    }
   ],
   "source": [
    "arr = np.array([[2,4],[5,6],[7,6],[8,7],[9,0]])\n",
    "print(arr)\n",
    "# number of dimension\n",
    "arr.ndim\n"
   ]
  },
  {
   "cell_type": "code",
   "execution_count": 49,
   "id": "4897099b-5649-429c-8f4a-8e41af184ea6",
   "metadata": {},
   "outputs": [
    {
     "data": {
      "text/plain": [
       "(5, 2)"
      ]
     },
     "execution_count": 49,
     "metadata": {},
     "output_type": "execute_result"
    }
   ],
   "source": [
    "# shape\n",
    "arr.shape"
   ]
  },
  {
   "cell_type": "code",
   "execution_count": 51,
   "id": "ad41413c-4f6e-48c6-b217-4e6244144272",
   "metadata": {},
   "outputs": [
    {
     "data": {
      "text/plain": [
       "10"
      ]
     },
     "execution_count": 51,
     "metadata": {},
     "output_type": "execute_result"
    }
   ],
   "source": [
    "# number of elements\n",
    "arr.size"
   ]
  },
  {
   "cell_type": "code",
   "execution_count": 53,
   "id": "f5f6d207-d2e9-4e6e-b471-25946bb10cef",
   "metadata": {},
   "outputs": [
    {
     "data": {
      "text/plain": [
       "dtype('int32')"
      ]
     },
     "execution_count": 53,
     "metadata": {},
     "output_type": "execute_result"
    }
   ],
   "source": [
    "# datatype\n",
    "arr.dtype"
   ]
  },
  {
   "cell_type": "markdown",
   "id": "1ae3d889-33d6-4531-99cb-8f2e01bc3b6f",
   "metadata": {},
   "source": [
    "10. create a 2D array and access:\n",
    "- the first row\n",
    "- the second column\n",
    "- the last element"
   ]
  },
  {
   "cell_type": "code",
   "execution_count": 56,
   "id": "d65f481c-31b0-4fcc-9354-1b16299f837a",
   "metadata": {},
   "outputs": [
    {
     "name": "stdout",
     "output_type": "stream",
     "text": [
      "[[1 2]\n",
      " [3 4]]\n"
     ]
    }
   ],
   "source": [
    "array_2d = np.array([[1,2],[3,4]])\n",
    "print(array_2d)"
   ]
  },
  {
   "cell_type": "code",
   "execution_count": 58,
   "id": "c18744b2-3248-4ef6-9d3f-d738a2c3202d",
   "metadata": {},
   "outputs": [
    {
     "data": {
      "text/plain": [
       "array([1, 2])"
      ]
     },
     "execution_count": 58,
     "metadata": {},
     "output_type": "execute_result"
    }
   ],
   "source": [
    "# first row\n",
    "array_2d[0]"
   ]
  },
  {
   "cell_type": "code",
   "execution_count": 60,
   "id": "d61575d4-7bb6-4648-add7-4e015eb9b7f7",
   "metadata": {},
   "outputs": [
    {
     "data": {
      "text/plain": [
       "array([3, 4])"
      ]
     },
     "execution_count": 60,
     "metadata": {},
     "output_type": "execute_result"
    }
   ],
   "source": [
    "# second column\n",
    "array_2d[1]"
   ]
  },
  {
   "cell_type": "code",
   "execution_count": 62,
   "id": "f20744ef-681c-4fc5-b139-fa0ba6f871f5",
   "metadata": {},
   "outputs": [
    {
     "data": {
      "text/plain": [
       "4"
      ]
     },
     "execution_count": 62,
     "metadata": {},
     "output_type": "execute_result"
    }
   ],
   "source": [
    "# last element\n",
    "array_2d[(1,1)]"
   ]
  },
  {
   "cell_type": "code",
   "execution_count": 74,
   "id": "89bf4e4a-accc-4567-b955-ee07e6b0a3ed",
   "metadata": {},
   "outputs": [
    {
     "name": "stdout",
     "output_type": "stream",
     "text": [
      "[[74 70 71]\n",
      " [70 12 79]\n",
      " [33 25 74]]\n"
     ]
    }
   ],
   "source": [
    "#np.random.randint() - generates an array of the given size and the numbers in th range\n",
    "\n",
    "c = np.random.randint(10,99,(3,3))\n",
    "print(c)"
   ]
  },
  {
   "cell_type": "code",
   "execution_count": 76,
   "id": "17323859-c9f2-4136-b947-16b82eed994a",
   "metadata": {},
   "outputs": [
    {
     "data": {
      "text/plain": [
       "array([[ 1.38367584, -0.84621962, -1.46143637],\n",
       "       [ 1.66946613, -0.48554976,  0.99501809],\n",
       "       [-1.08450996, -0.05293416,  0.66383823]])"
      ]
     },
     "execution_count": 76,
     "metadata": {},
     "output_type": "execute_result"
    }
   ],
   "source": [
    "d = np.random.randn(3,3)\n",
    "d"
   ]
  },
  {
   "cell_type": "code",
   "execution_count": 78,
   "id": "55b310bb-5f4d-48f0-aee7-5df6d4f9bfbf",
   "metadata": {},
   "outputs": [
    {
     "name": "stdout",
     "output_type": "stream",
     "text": [
      "[ 9.47584714 11.34359749  9.76538072 10.29946191  9.61805032 11.74707948\n",
      " 11.07018407]\n"
     ]
    }
   ],
   "source": [
    "e = np.random.randn(7) + 10 # 10 is mean\n",
    "print(e)"
   ]
  },
  {
   "cell_type": "code",
   "execution_count": 90,
   "id": "deec72af-da10-4997-89a3-7c58da1daaf8",
   "metadata": {},
   "outputs": [
    {
     "name": "stdout",
     "output_type": "stream",
     "text": [
      "[2 4 6 8]\n",
      "20\n",
      "5.0\n",
      "2.23606797749979\n",
      "8\n",
      "2\n",
      "0\n",
      "3\n"
     ]
    }
   ],
   "source": [
    "# mathematical operations of array\n",
    "\n",
    "# np.sum() - returns the total(sum) of all the elements\n",
    "\n",
    "f = np.array([2,4,6,8])\n",
    "print(f)\n",
    "print(np.sum(f))\n",
    "\n",
    "# np.mean() - return the mean(average) of all the items in the array\n",
    "print(np.mean(f))\n",
    "\n",
    "# np.std() - returns the standard deviation of all the items in the array\n",
    "print(np.std(f))\n",
    "\n",
    "# np.max and np.min\n",
    "print(np.max(f))\n",
    "print(np.min(f))\n",
    "\n",
    "# np.argmin and np.argmax - retuens the index value of max and min values\n",
    "print(np.argmin(f))\n",
    "print(np.argmax(f))"
   ]
  },
  {
   "cell_type": "markdown",
   "id": "3647bac7-9128-4673-a5ed-e34d9c2befe2",
   "metadata": {},
   "source": [
    "**Array manipulation**\n"
   ]
  },
  {
   "cell_type": "code",
   "execution_count": 116,
   "id": "15d374dc-6b8c-4b2d-ae78-737d4ae546ce",
   "metadata": {},
   "outputs": [
    {
     "name": "stdout",
     "output_type": "stream",
     "text": [
      "[  78 1220   30   40   67   40   50  123  145  654  678]\n",
      "[  30   40   40   50   67   78  123  145  654  678 1220]\n",
      "[  30   40   50   67   78  123  145  654  678 1220]\n",
      "[45 65 78 10 33 98]\n",
      "[  78 1220   30   40   67   40   50  123  145  654  678   45   65   78\n",
      "   10   33   98]\n",
      "[  10   30   33   40   40   45   50   65   67   78   78   98  123  145\n",
      "  654  678 1220]\n"
     ]
    }
   ],
   "source": [
    "g = np.array([78,1220,30,40,67,40,50,123,145,654,678])\n",
    "print(g)\n",
    "\n",
    "# np.sort() - returns sorted values in the array\n",
    "print(np.sort(g))\n",
    "\n",
    "# np.unique() - returns an array with sorted and unique elements\n",
    "print(np.unique(g))\n",
    "\n",
    "h = np.array([45,65,78,10,33,98])\n",
    "print(h)\n",
    "\n",
    "# np.concatenate() - returns the merged arrays , can join two or more than two arrays\n",
    "i= np.concatenate((g,h))\n",
    "print(i)\n",
    "print(np.sort(i))"
   ]
  },
  {
   "cell_type": "markdown",
   "id": "f330fece-dfbe-4c1b-b89f-746d28cb15de",
   "metadata": {},
   "source": [
    "# Assignment 2"
   ]
  },
  {
   "cell_type": "markdown",
   "id": "55caaba0-a6e4-47f9-ac7e-bd186f7c18ff",
   "metadata": {},
   "source": [
    "1. create 1D array of numbers from 0 to 9"
   ]
  },
  {
   "cell_type": "code",
   "execution_count": 16,
   "id": "f25a7056-15e8-47f4-8af3-a48a63b26b24",
   "metadata": {},
   "outputs": [],
   "source": [
    "import numpy as np\n"
   ]
  },
  {
   "cell_type": "code",
   "execution_count": 18,
   "id": "b8e5583f-cb8e-40f7-b326-a99f00d2186b",
   "metadata": {},
   "outputs": [
    {
     "name": "stdout",
     "output_type": "stream",
     "text": [
      "[0 1 2 3 4 5 6 7 8 9]\n"
     ]
    }
   ],
   "source": [
    "a = np.arange(0,10)\n",
    "print(a)"
   ]
  },
  {
   "cell_type": "markdown",
   "id": "a130f5be-a224-4587-83c3-f2d1b99a6085",
   "metadata": {},
   "source": [
    "2. find the mean , median,standard deviation and sum of elements in an array"
   ]
  },
  {
   "cell_type": "code",
   "execution_count": 21,
   "id": "8d017834-676a-48af-8c36-3de922d2c2dc",
   "metadata": {},
   "outputs": [
    {
     "name": "stdout",
     "output_type": "stream",
     "text": [
      "4.5\n"
     ]
    }
   ],
   "source": [
    "print(np.mean(a))"
   ]
  },
  {
   "cell_type": "code",
   "execution_count": 23,
   "id": "80d8483e-1351-41ae-8f0e-c357979e07d8",
   "metadata": {},
   "outputs": [
    {
     "name": "stdout",
     "output_type": "stream",
     "text": [
      "4.5\n"
     ]
    }
   ],
   "source": [
    "print(np.median(a))"
   ]
  },
  {
   "cell_type": "code",
   "execution_count": 25,
   "id": "ee2add9a-73d7-42a3-bb4c-aed233ef47f2",
   "metadata": {},
   "outputs": [
    {
     "name": "stdout",
     "output_type": "stream",
     "text": [
      "2.8722813232690143\n"
     ]
    }
   ],
   "source": [
    "print(np.std(a))"
   ]
  },
  {
   "cell_type": "code",
   "execution_count": 27,
   "id": "072895d4-961f-492c-aee9-65af3febd736",
   "metadata": {},
   "outputs": [
    {
     "name": "stdout",
     "output_type": "stream",
     "text": [
      "45\n"
     ]
    }
   ],
   "source": [
    "print(np.sum(a))"
   ]
  },
  {
   "cell_type": "markdown",
   "id": "c470fff6-ae75-435f-86a3-cb17785ed5bc",
   "metadata": {},
   "source": [
    "3. Find the maximum and minimum values in an array and their indices."
   ]
  },
  {
   "cell_type": "code",
   "execution_count": 30,
   "id": "dbef5e7c-8de4-4cb8-b058-0d86f03b24c3",
   "metadata": {},
   "outputs": [
    {
     "name": "stdout",
     "output_type": "stream",
     "text": [
      "9\n"
     ]
    }
   ],
   "source": [
    "print(np.max(a))"
   ]
  },
  {
   "cell_type": "code",
   "execution_count": 32,
   "id": "c3ce5945-b9e0-4ef1-bb22-5048c4770a3f",
   "metadata": {},
   "outputs": [
    {
     "name": "stdout",
     "output_type": "stream",
     "text": [
      "0\n"
     ]
    }
   ],
   "source": [
    "print(np.min(a))"
   ]
  },
  {
   "cell_type": "code",
   "execution_count": 34,
   "id": "5fc85599-8977-4928-aa0f-1d6345cba352",
   "metadata": {},
   "outputs": [
    {
     "name": "stdout",
     "output_type": "stream",
     "text": [
      "9\n"
     ]
    }
   ],
   "source": [
    "print(np.argmax(a))"
   ]
  },
  {
   "cell_type": "code",
   "execution_count": 36,
   "id": "a49d7e30-0f96-4e0f-b65f-200deeaf6294",
   "metadata": {},
   "outputs": [
    {
     "name": "stdout",
     "output_type": "stream",
     "text": [
      "0\n"
     ]
    }
   ],
   "source": [
    "print(np.argmin(a))"
   ]
  },
  {
   "cell_type": "markdown",
   "id": "8c1f469e-7364-49b4-9f47-83cfbde65e06",
   "metadata": {},
   "source": [
    "4. Generate a 1D array of 10 random integers between 1 and 100."
   ]
  },
  {
   "cell_type": "code",
   "execution_count": 68,
   "id": "b2ac3eee-310a-4b3f-a225-16be63e7a41d",
   "metadata": {},
   "outputs": [
    {
     "name": "stdout",
     "output_type": "stream",
     "text": [
      "[35  1 79 65 69 63 12 42 97 84]\n"
     ]
    }
   ],
   "source": [
    "b = np.random.randint(1,100,(10))\n",
    "print(b)"
   ]
  },
  {
   "cell_type": "markdown",
   "id": "fec97c14-c90d-40b4-8c29-8ac39f72b014",
   "metadata": {},
   "source": [
    "5. Create a 3x3 array of random floats."
   ]
  },
  {
   "cell_type": "code",
   "execution_count": 75,
   "id": "6baa552b-a9d1-4291-bef8-407b9b88aaf9",
   "metadata": {},
   "outputs": [
    {
     "name": "stdout",
     "output_type": "stream",
     "text": [
      "[[ 0.08532143 -0.52942418  1.50070776]\n",
      " [-0.16199814  0.29386741 -1.87446695]\n",
      " [ 0.91045522  0.91023321  1.08472124]]\n"
     ]
    }
   ],
   "source": [
    "c = np.random.randn(3,3)\n",
    "print(c)"
   ]
  },
  {
   "cell_type": "markdown",
   "id": "0798309f-62fb-4bf6-8a19-5c9e7b1a5b8f",
   "metadata": {},
   "source": [
    "6. Generate 1000 samples from a normal distribution and compute mean and std."
   ]
  },
  {
   "cell_type": "code",
   "execution_count": 86,
   "id": "9eecf6ce-b899-42a1-b42f-e065e9640ad8",
   "metadata": {},
   "outputs": [
    {
     "name": "stdout",
     "output_type": "stream",
     "text": [
      "[1331  620 1898 2033  682  698 3698 2202  678 2289 4589 4160 3541 4317\n",
      "  426 4668 2270 1705 3706  171 3506 4168 4352 4483 2707 2380 3955 2859\n",
      " 1233 1270 4508  410 3818 4415 3710 1113 1781 2462 3883 3161 4952 1275\n",
      " 1709 2497  720 2793 4540 3767 1636 2922   61 3632 3892 2189 4471 1340\n",
      " 1500 4945 4118 4539 4267 1320 3328 1151 2822 4708 4523 1595 2425  146\n",
      " 2592 3644 4197 1725  554  129 1189  649 1523 4463 1701 1204 4794 3203\n",
      " 3949 1200 2891  129  918 2387 4266 1794 1361 4164 1837 3637 2438 1555\n",
      " 4290 3544  680 4170    4 2413 3131  877 3344 3947 2209 2825 4193 1594\n",
      "  675 1330 3364 4422 4398 2603 2480 1817 1540 3146 3232 3274 2963 2825\n",
      " 3915 1120 3254  441  511 1746 1428 2833 2260 2467 1997 3015 4528 3689\n",
      "  630 2963 2500 1362 1917  679 2129 3776 3633 2414  382  497 4517  884\n",
      " 2413  543   49 2017 4231 2957  335 3051 3910 3637 1997 2163 3882 2494\n",
      " 2334 3935 2363 3355 1824  190 4513 4826 3383  258 4864  986 1182 2514\n",
      "  266  704 3804  624 1032  877 1688 1913 3894  821 4806 2514 2969 3355\n",
      " 3195 1972  151  740 4188 2742 2259 4932 4395  817  895  597 3781  976\n",
      " 1377 3337  908 4276 3931  427  897 1918 2495 2481  993 3709  617 3066\n",
      " 4255 3124   12  366 3569  552  897 1948 1895 2606 2376 4827 1155 3588\n",
      " 4761  471 2673 3626  798  370  239  161 3395 3210 3458 2513 4108  715\n",
      " 3654  977  489 1459 4513 1361 1735 1153  125 2433 4871  679  770 2112\n",
      "  905 3795 2620 3915 3111 4586 3303 1637 4601 2303 1160 1512  799  587\n",
      " 1426 1900 2218  310 3744 4639 3169 3349 4975 2779 3353 3916 4698 2912\n",
      "   42 1839 4343  124 3305 2788 1011 3290  839 3118  456 1075  683 2775\n",
      " 3208 2767 1452 3448  994 2918  956 3410 4004 3992 2305  790 3851 2708\n",
      " 2505 3279 4090  932 4566 2757 1160 3968 2665  983  729  650 1729 3728\n",
      " 1631   23  912  767   66 1574 2549  274  435 3695 1783 4471  519 2748\n",
      "  177 1596 2012 3229 2474  885 1908 2699 3356 2218 3604 4961 2185  834\n",
      " 4587 4594   89 3493 1477 2232 3250 3615 3317 3642 3510 1783 1594 3752\n",
      "  421 3133 4730  567  190   66 4379 1907 2677 1768  229 4721 1134 3084\n",
      " 1876 3426 4718 4742 1356 2844 2950   19 1731 3130 2612 1037 2242 2502\n",
      " 1747 2630 1867 2680  256 2533  498 4165 2774  988 4902 3792 4097   69\n",
      " 4941 1647 3590 1668 3104 4459 1053 2874  443 1493 1618 4552 1685 2295\n",
      "  112 4947 3769 1075 2339 3594 4314 2995  348 3009 4893 1805 3501 3351\n",
      " 2218 1283 4920 4545 1563 2300 1184  748  668 2984 1143 1092  779 4747\n",
      " 1928 1748  390 2603 1187 4341  407 4946 3225 3135 3865 3918 1368 2170\n",
      " 4942 3596 1413 1591  156 3117 1459  234  830 1948 4512  613 4141 2958\n",
      " 4429 1463 1338 4817 3517 4420 2467 4146 1608 1391   69  671 3780   30\n",
      " 4450 3022 1284 1140 2665 2102  110  722 1562 4772 2192 2440 4216 2372\n",
      " 2082 4424  956 4768 4410 2754 1660 3848 4777 2645 1217 3782 4104 2608\n",
      "  624 2977  943 3372 2803 3753  882  279  909   86 3983 1359 4040 3817\n",
      " 1040 3652 3392 3621  112  350 4880 3118 3444 2729  566 1631 2458 2647\n",
      " 1220  540 2168 2966  793  668 2738 4324 1351 2727 1727  205 4847 1546\n",
      "  464 1034 4340 2717 3901 4589 3747 3551 1499 4999 4382  554 1959 4512\n",
      " 1634 1167 4257  436  531 1584 1726 4548 1640 4227 1943 1739  972 1239\n",
      " 4287  669  674  402 4012 2436 4792 3240 2555  487  615  803  876 4206\n",
      " 2427   90  712 3334 1812 1943  476  556 1612 4785 3488  246 3378  980\n",
      " 3577 2985  152 2043 2570 2094  589   90 1006 1092 3003 4878 2068  148\n",
      " 3475 1988 3574   78 1930  747 2084 4210  562 3478 1325 4547 4596 1861\n",
      " 3186 2617 2734 4784 4754 2042 4396 4643  263  234 3882 4799  696 3898\n",
      " 2632 3270 3121 2888 4944 3194 4912 3209 2475 1375   63 2232  367  860\n",
      " 3710 3421 3381 3493  523 4843 4871 2761  312 3817 2512   51  912 4320\n",
      " 1586 4017 4847 4665 4427   47  882  884 3342 4303  422 3514 4170  982\n",
      "    9 2838  810 2427  581  377 3209 2689 2725  888 4786 3563 3755 1419\n",
      "  222 3548 2788 4121 2234 3363  615  345 4119 3859 1667 3819 2360  661\n",
      "  371 1244 1765 2088  980 3375 4607   54  166 1725 2243 4936 4590 4093\n",
      " 4249 3686 4468 4084 2086 2408 3198 1324 3848  200 1867 1484 4263 4423\n",
      " 2414  636 3874 1196 3500  168 1405 2459  206 4797 4287  988 1802 1037\n",
      " 4920 2182 2219 4469  866 2236 4025 2210 3586 1506 1318  666 3325 1058\n",
      " 3145 1459  147 2817 1323 3279 4825 4245  696  701 4247   39 4218 4645\n",
      " 4132 1812 4214 1952 3707 1873 2551  971 3381 3547 1687 3837 4441 2463\n",
      " 1942 1559 2684 3938 4473 4423 4244 4671 2236 4418 1581 1116 4842 1216\n",
      " 3776 1787   99 4112 1859 1674  304 2010 1079 2791 4222 2495 3124  881\n",
      " 1079 2610 3006 3807 3057  290 1267 1298  104  914  141 2223  878  888\n",
      " 3371 3992 3672 2729 3735 4653 1710 1553 3910 2944 3329 3678 1060 2643\n",
      " 3604  751 1469 3096  332 3785 1099 3763 2208 4462 1941 4141 2803 1641\n",
      " 1332 3185 3464  255 3379 2353 3318  758 2326 1336 4467  511 4688 1019\n",
      " 3866 2207 3018 3707 3889 1313 3138 2880  575 2854  604 2142 4462 4661\n",
      " 2746 3763 1637 1018 1197 4258  411  378 2054 2143 3747 3761 2085 4099\n",
      " 2515 4750 4652 4248  837 4710 1628 3642  918  777 2003 4653 4936  996\n",
      " 3016 2710 1964 3574 2036 1661 1628 1620  620  537  439  111 3862 3056\n",
      " 1974 1085 2108 2035 4297 4432 1758 3334 4382 4416   70 4849  110 2444\n",
      " 4567 3238 4723 3160 4118 3479 1427 1557 2972 1036 4212 3693  587  345\n",
      " 3220  873 4367   65 2799 4430]\n"
     ]
    }
   ],
   "source": [
    "d = np.random.randint(1,5000,(1000))\n",
    "print(d)"
   ]
  },
  {
   "cell_type": "code",
   "execution_count": 88,
   "id": "1c4cf807-163a-4fc3-bb35-e7986b854c7a",
   "metadata": {},
   "outputs": [
    {
     "name": "stdout",
     "output_type": "stream",
     "text": [
      "2438.929\n"
     ]
    }
   ],
   "source": [
    "print(np.mean(d))"
   ]
  },
  {
   "cell_type": "code",
   "execution_count": 90,
   "id": "e314bc5f-aa1e-403b-8fa6-086adfb8d79d",
   "metadata": {},
   "outputs": [
    {
     "name": "stdout",
     "output_type": "stream",
     "text": [
      "1458.5772409985698\n"
     ]
    }
   ],
   "source": [
    "print(np.std(d))"
   ]
  },
  {
   "cell_type": "markdown",
   "id": "0480505c-a513-4b8a-88d8-82060aae4b16",
   "metadata": {},
   "source": [
    "7. Get unique values from an array and their counts."
   ]
  },
  {
   "cell_type": "code",
   "execution_count": 93,
   "id": "cfe681c1-8069-44b3-b6cb-4a236be484ad",
   "metadata": {},
   "outputs": [
    {
     "name": "stdout",
     "output_type": "stream",
     "text": [
      "[11 23 11 45 32 65 78 21 55 65 87 90 21]\n"
     ]
    }
   ],
   "source": [
    "e = np.array([11,23,11,45,32,65,78,21,55,65,87,90,21])\n",
    "print(e)"
   ]
  },
  {
   "cell_type": "code",
   "execution_count": 95,
   "id": "9c11550b-ea09-446a-a116-c06f5cadb909",
   "metadata": {},
   "outputs": [
    {
     "name": "stdout",
     "output_type": "stream",
     "text": [
      "[11 21 23 32 45 55 65 78 87 90]\n"
     ]
    }
   ],
   "source": [
    "print(np.unique(e))"
   ]
  },
  {
   "cell_type": "markdown",
   "id": "f6b2d899-a864-4ff3-bd0d-f7922062efa7",
   "metadata": {},
   "source": [
    "8. Generate a 2D array of shape (5, 5) from a normal distribution with mean=50 and std=10."
   ]
  },
  {
   "cell_type": "code",
   "execution_count": 108,
   "id": "79dd43cf-b65a-41b3-8d99-f4d73d86595e",
   "metadata": {},
   "outputs": [
    {
     "name": "stdout",
     "output_type": "stream",
     "text": [
      "[[ 1  2  3  4  5]\n",
      " [ 6  7  8  9 10]\n",
      " [11 12 13 14 15]\n",
      " [16 17 18 19 20]\n",
      " [21 22 23 24 25]]\n"
     ]
    }
   ],
   "source": [
    "f = np.array([[1,2,3,4,5],[6,7,8,9,10],[11,12,13,14,15],[16,17,18,19,20],[21,22,23,24,25]])\n",
    "print(f)"
   ]
  },
  {
   "cell_type": "code",
   "execution_count": 110,
   "id": "f5ae6e1a-6b36-41ef-908f-0ecb3369dd8b",
   "metadata": {},
   "outputs": [
    {
     "data": {
      "text/plain": [
       "(5, 5)"
      ]
     },
     "execution_count": 110,
     "metadata": {},
     "output_type": "execute_result"
    }
   ],
   "source": [
    "f.shape"
   ]
  },
  {
   "cell_type": "code",
   "execution_count": 112,
   "id": "82f944c7-b0a6-4bf4-be7d-9d80c5ecd42e",
   "metadata": {},
   "outputs": [
    {
     "name": "stdout",
     "output_type": "stream",
     "text": [
      "[[51 52 53 54 55]\n",
      " [56 57 58 59 60]\n",
      " [61 62 63 64 65]\n",
      " [66 67 68 69 70]\n",
      " [71 72 73 74 75]]\n"
     ]
    }
   ],
   "source": [
    "print(f + 50)"
   ]
  },
  {
   "cell_type": "code",
   "execution_count": 114,
   "id": "646cdb34-52ed-4492-bbeb-ac86b294c22b",
   "metadata": {},
   "outputs": [
    {
     "data": {
      "text/plain": [
       "array([[11, 12, 13, 14, 15],\n",
       "       [16, 17, 18, 19, 20],\n",
       "       [21, 22, 23, 24, 25],\n",
       "       [26, 27, 28, 29, 30],\n",
       "       [31, 32, 33, 34, 35]])"
      ]
     },
     "execution_count": 114,
     "metadata": {},
     "output_type": "execute_result"
    }
   ],
   "source": [
    "f + 10"
   ]
  },
  {
   "cell_type": "markdown",
   "id": "0c71184c-ed99-4005-8b45-3a412ef48470",
   "metadata": {},
   "source": [
    "9. create a numpy array of even numbers between 2 and 20"
   ]
  },
  {
   "cell_type": "code",
   "execution_count": 120,
   "id": "b97db918-09d1-4c83-9905-f9178b5e0945",
   "metadata": {},
   "outputs": [
    {
     "data": {
      "text/plain": [
       "array([ 2,  4,  6,  8, 10, 12, 14, 16, 18])"
      ]
     },
     "execution_count": 120,
     "metadata": {},
     "output_type": "execute_result"
    }
   ],
   "source": [
    "even = np.arange(2,20,(2))\n",
    "even"
   ]
  },
  {
   "cell_type": "markdown",
   "id": "e3bce659-9f4c-42fb-b7b4-8c5a4f77cd5c",
   "metadata": {},
   "source": [
    "10. Find the shape, size, and data type of the array a = np.array([[1, 2], [3, 4]])."
   ]
  },
  {
   "cell_type": "code",
   "execution_count": 123,
   "id": "57455c0b-b8eb-497a-8779-c6fe9ec2a883",
   "metadata": {},
   "outputs": [
    {
     "name": "stdout",
     "output_type": "stream",
     "text": [
      "[[1 2]\n",
      " [3 4]]\n"
     ]
    }
   ],
   "source": [
    "a = np.array([[1,2],[3,4]])\n",
    "print(a)"
   ]
  },
  {
   "cell_type": "code",
   "execution_count": 125,
   "id": "7105b92c-5bb0-4057-bdbe-00bb0625b18a",
   "metadata": {},
   "outputs": [
    {
     "data": {
      "text/plain": [
       "(2, 2)"
      ]
     },
     "execution_count": 125,
     "metadata": {},
     "output_type": "execute_result"
    }
   ],
   "source": [
    "a.shape"
   ]
  },
  {
   "cell_type": "code",
   "execution_count": 127,
   "id": "79c483ce-1fe7-4015-8ccc-3d7e96c3e8e2",
   "metadata": {},
   "outputs": [
    {
     "data": {
      "text/plain": [
       "4"
      ]
     },
     "execution_count": 127,
     "metadata": {},
     "output_type": "execute_result"
    }
   ],
   "source": [
    "a.size"
   ]
  },
  {
   "cell_type": "code",
   "execution_count": 137,
   "id": "27716dce-0080-4c10-88e3-f59019f8cb49",
   "metadata": {},
   "outputs": [
    {
     "data": {
      "text/plain": [
       "dtype('int32')"
      ]
     },
     "execution_count": 137,
     "metadata": {},
     "output_type": "execute_result"
    }
   ],
   "source": [
    "a.dtype"
   ]
  },
  {
   "cell_type": "markdown",
   "id": "c0bf4937-2a25-46af-98ff-1b85e4e9479f",
   "metadata": {},
   "source": [
    "11. Generate a 1D array of 5 random numbers between 0 and 1."
   ]
  },
  {
   "cell_type": "code",
   "execution_count": 152,
   "id": "7839fa3b-5a01-4886-a045-f9bd6279d792",
   "metadata": {},
   "outputs": [
    {
     "name": "stdout",
     "output_type": "stream",
     "text": [
      "[0 0 0 0 0]\n"
     ]
    }
   ],
   "source": [
    "g = np.random.randint(0,1,(5))\n",
    "print(g)"
   ]
  },
  {
   "cell_type": "code",
   "execution_count": 154,
   "id": "1710dab7-03f1-4411-89b8-85676f2ef4c2",
   "metadata": {},
   "outputs": [],
   "source": [
    "g = np.random.rand(5)"
   ]
  },
  {
   "cell_type": "code",
   "execution_count": 156,
   "id": "5ff9b246-5128-4329-9ccf-217d7bf8f8e3",
   "metadata": {},
   "outputs": [
    {
     "data": {
      "text/plain": [
       "array([0.39782965, 0.1441615 , 0.62040466, 0.33517896, 0.39359235])"
      ]
     },
     "execution_count": 156,
     "metadata": {},
     "output_type": "execute_result"
    }
   ],
   "source": [
    "g"
   ]
  },
  {
   "cell_type": "markdown",
   "id": "45300041-4260-49af-8762-71c1213b8fbc",
   "metadata": {},
   "source": [
    "12. Find the maximum, minimum, and sum of elements in the array [5, 8, 2, 9, 1]."
   ]
  },
  {
   "cell_type": "code",
   "execution_count": 159,
   "id": "84378747-d054-478e-a1e4-02f0afcbe96c",
   "metadata": {},
   "outputs": [
    {
     "name": "stdout",
     "output_type": "stream",
     "text": [
      "[5 8 2 9 1]\n"
     ]
    }
   ],
   "source": [
    "h = np.array([5,8,2,9,1])\n",
    "print(h)"
   ]
  },
  {
   "cell_type": "code",
   "execution_count": 161,
   "id": "f4a28a31-078b-4079-a005-4e2bd5cc85ce",
   "metadata": {},
   "outputs": [
    {
     "name": "stdout",
     "output_type": "stream",
     "text": [
      "9\n"
     ]
    }
   ],
   "source": [
    "print(np.max(h))"
   ]
  },
  {
   "cell_type": "code",
   "execution_count": 163,
   "id": "a91ffb2f-c7e8-40e6-95d5-722c80c71384",
   "metadata": {},
   "outputs": [
    {
     "name": "stdout",
     "output_type": "stream",
     "text": [
      "1\n"
     ]
    }
   ],
   "source": [
    "print(np.min(h))"
   ]
  },
  {
   "cell_type": "code",
   "execution_count": 165,
   "id": "ffa60d41-096d-4e13-89fb-b681dce75a8f",
   "metadata": {},
   "outputs": [
    {
     "name": "stdout",
     "output_type": "stream",
     "text": [
      "25\n"
     ]
    }
   ],
   "source": [
    "print(np.sum(h))"
   ]
  },
  {
   "cell_type": "markdown",
   "id": "db467d40-ffc6-4873-8a23-39a3bc0baea1",
   "metadata": {},
   "source": [
    "13. Get the first 3 elements from the array [10, 20, 30, 40, 50]."
   ]
  },
  {
   "cell_type": "code",
   "execution_count": 170,
   "id": "164f00ee-1fd4-4213-860e-95916ef25246",
   "metadata": {},
   "outputs": [
    {
     "name": "stdout",
     "output_type": "stream",
     "text": [
      "[10 20 30 40 50]\n"
     ]
    }
   ],
   "source": [
    "array1 = np.array([10,20,30,40,50])\n",
    "print(array1)"
   ]
  },
  {
   "cell_type": "code",
   "execution_count": 178,
   "id": "d2b6d745-32a9-47c8-a6be-9569dea099fc",
   "metadata": {},
   "outputs": [
    {
     "data": {
      "text/plain": [
       "array([10, 20, 30])"
      ]
     },
     "execution_count": 178,
     "metadata": {},
     "output_type": "execute_result"
    }
   ],
   "source": [
    "array1[:3]"
   ]
  },
  {
   "cell_type": "markdown",
   "id": "c0b8d2d4-a2c4-45be-bdc6-275b6ddcaa5a",
   "metadata": {},
   "source": [
    "# **Matrix operations**"
   ]
  },
  {
   "cell_type": "code",
   "execution_count": 2,
   "id": "7803b5af-19dc-40b1-9f14-28c902eaf302",
   "metadata": {},
   "outputs": [],
   "source": [
    "import numpy as np"
   ]
  },
  {
   "cell_type": "code",
   "execution_count": 20,
   "id": "d6eb5a67-5805-48a0-9ebe-f24faf386d6a",
   "metadata": {},
   "outputs": [
    {
     "name": "stdout",
     "output_type": "stream",
     "text": [
      "[[3 4]\n",
      " [5 6]]\n",
      "[[10 12]\n",
      " [ 3  6]]\n"
     ]
    }
   ],
   "source": [
    "a = np.array([[3,4],[5,6]]) # matrix 1\n",
    "b = np.array([[10,12],[3,6]]) # matrix 2\n",
    "print(a)\n",
    "print(b)"
   ]
  },
  {
   "cell_type": "code",
   "execution_count": 22,
   "id": "e2933969-c11f-4c4c-8638-dd4f0948e7e5",
   "metadata": {},
   "outputs": [
    {
     "name": "stdout",
     "output_type": "stream",
     "text": [
      "[[13 16]\n",
      " [ 8 12]]\n"
     ]
    }
   ],
   "source": [
    "print(a + b) # addition"
   ]
  },
  {
   "cell_type": "code",
   "execution_count": 24,
   "id": "266eaa5a-5ad6-42c0-a24c-17c5fd73a7aa",
   "metadata": {},
   "outputs": [
    {
     "name": "stdout",
     "output_type": "stream",
     "text": [
      "[[-7 -8]\n",
      " [ 2  0]]\n"
     ]
    }
   ],
   "source": [
    "print(a - b) # subtraction"
   ]
  },
  {
   "cell_type": "code",
   "execution_count": 26,
   "id": "a5cc503b-f32e-41ae-90cd-a2061207477c",
   "metadata": {},
   "outputs": [
    {
     "name": "stdout",
     "output_type": "stream",
     "text": [
      "[[30 48]\n",
      " [15 36]]\n"
     ]
    }
   ],
   "source": [
    "print(a * b) # multiplication"
   ]
  },
  {
   "cell_type": "code",
   "execution_count": 28,
   "id": "4ad2fc2a-8fc8-4b6b-8937-8742d9b4bda3",
   "metadata": {},
   "outputs": [
    {
     "name": "stdout",
     "output_type": "stream",
     "text": [
      "[[42 60]\n",
      " [68 96]]\n"
     ]
    }
   ],
   "source": [
    "print(np.dot(a,b)) # matrix dot product"
   ]
  },
  {
   "cell_type": "code",
   "execution_count": 30,
   "id": "5d217c19-6721-46c1-a979-2e7166a38c9c",
   "metadata": {},
   "outputs": [
    {
     "name": "stdout",
     "output_type": "stream",
     "text": [
      "[[3 5]\n",
      " [4 6]]\n"
     ]
    }
   ],
   "source": [
    "print(a.T) # transpose of a"
   ]
  },
  {
   "cell_type": "code",
   "execution_count": 32,
   "id": "18c98ed7-8320-4da5-a9ab-a9e3d7d5f83e",
   "metadata": {},
   "outputs": [
    {
     "name": "stdout",
     "output_type": "stream",
     "text": [
      "[[10  3]\n",
      " [12  6]]\n"
     ]
    }
   ],
   "source": [
    "print(b.T) # transpose of b"
   ]
  },
  {
   "cell_type": "code",
   "execution_count": 34,
   "id": "14f69d8c-fd43-42bf-bfb2-c938e08ebc39",
   "metadata": {},
   "outputs": [
    {
     "name": "stdout",
     "output_type": "stream",
     "text": [
      "-2.0000000000000004\n"
     ]
    }
   ],
   "source": [
    "from numpy.linalg import det # important to import if using determinant\n",
    "print(det(a)) # matrix determinant"
   ]
  },
  {
   "cell_type": "code",
   "execution_count": 36,
   "id": "7b6df891-dea0-4a2a-82ca-803b21926099",
   "metadata": {},
   "outputs": [
    {
     "name": "stdout",
     "output_type": "stream",
     "text": [
      "Matrix A is: \n",
      " [[1 3]\n",
      " [4 5]]\n",
      "Vector V is: \n",
      " [2 3]\n",
      "Dot product is : \n",
      " [11 23]\n"
     ]
    }
   ],
   "source": [
    "# dot product of matrix and vector\n",
    "A = np.array([[1,3],[4,5]]) # 2D array\n",
    "V = np.array([2,3]) # 1D array\n",
    "\n",
    "print('Matrix A is: \\n',A)\n",
    "print('Vector V is: \\n',V)\n",
    "\n",
    "print('Dot product is : \\n',np.dot(A,V))"
   ]
  },
  {
   "cell_type": "markdown",
   "id": "339e27dd-337d-4443-8e43-66859da899bc",
   "metadata": {},
   "source": [
    "**Random Sampling** : randomly picks values from a given array"
   ]
  },
  {
   "cell_type": "code",
   "execution_count": 59,
   "id": "13f1135d-01da-4415-abc1-825c656da7ea",
   "metadata": {},
   "outputs": [
    {
     "name": "stdout",
     "output_type": "stream",
     "text": [
      "[1 2 2 9 4]\n",
      "[3 6 5 4 7]\n",
      "[0 1]\n",
      "[[5 3]\n",
      " [8 6]]\n",
      "[[3 4 5]\n",
      " [6 7 8]]\n"
     ]
    }
   ],
   "source": [
    "c = np.array([1,2,3,4,5,6,7,8,9,10])\n",
    "d = np.random.choice(c,size = 5)\n",
    "print(d)\n",
    "\n",
    "e = np.array([[3,4,5],[6,7,8]])\n",
    "f = np.random.choice(e.flatten(),size = 5,replace = False) # flatten() - converts 2d array in 1d and replace = False will not repeat any value\n",
    "print(f)\n",
    "\n",
    "# .shape[] selects row randomly\n",
    "r = np.random.choice(e.shape[0], size = 2, replace = False) \n",
    "print(r)\n",
    "\n",
    "# randomly selects column\n",
    "col = np.random.choice(e.shape[1], size = 2, replace = False)\n",
    "print(e[:,col])\n",
    "print(e[r])"
   ]
  },
  {
   "cell_type": "markdown",
   "id": "8525b39a-58ab-49b5-bbf8-3e6417f441dd",
   "metadata": {},
   "source": [
    "**Random shuffling** - change array elements positions randomly"
   ]
  },
  {
   "cell_type": "code",
   "execution_count": 67,
   "id": "1aa30e84-f330-4b35-8b72-02a4318d3ac0",
   "metadata": {},
   "outputs": [
    {
     "name": "stdout",
     "output_type": "stream",
     "text": [
      "[ 2  4  6  8 10]\n",
      "[10  6  2  4  8]\n",
      "[[2 4 6]\n",
      " [1 2 3]\n",
      " [7 8 9]]\n",
      "[[1 2 3]\n",
      " [7 8 9]\n",
      " [2 4 6]]\n"
     ]
    }
   ],
   "source": [
    "g = np.array([2,4,6,8,10])\n",
    "print(g)\n",
    "np.random.shuffle(g)\n",
    "print(g)\n",
    "\n",
    "# random shuffling on 2d array\n",
    "h = np.array([[2,4,6],[1,2,3],[7,8,9]])\n",
    "print(h)\n",
    "np.random.shuffle(h)\n",
    "print(h)"
   ]
  },
  {
   "cell_type": "markdown",
   "id": "e4c52298-d41e-45a2-b8e2-2e12bd65bb88",
   "metadata": {},
   "source": [
    "**Comparison in array**"
   ]
  },
  {
   "cell_type": "code",
   "execution_count": 195,
   "id": "f0c179c0-2b4b-4a9e-91dd-35489a65ca83",
   "metadata": {},
   "outputs": [
    {
     "name": "stdout",
     "output_type": "stream",
     "text": [
      "[False False False]\n",
      "[ True  True  True]\n",
      "[False False False]\n",
      "[ True  True  True]\n",
      "[False False False]\n",
      "[ True  True  True]\n"
     ]
    }
   ],
   "source": [
    "i = np.array([1,2,3])\n",
    "j = np.array([4,5,6])\n",
    "print(i == j)\n",
    "print(i != j)\n",
    "print(i >= j)\n",
    "print(i <= j)\n",
    "print(i > j)\n",
    "print(i < j)\n"
   ]
  },
  {
   "cell_type": "markdown",
   "id": "a69380da-cb08-4260-adfe-fb351467d774",
   "metadata": {},
   "source": [
    "# Assignment 3"
   ]
  },
  {
   "cell_type": "markdown",
   "id": "d97cd062-e38f-4c82-a0fa-92965a3aac0f",
   "metadata": {},
   "source": [
    "1. Given two arrays add , subtract , multiply them element - wise"
   ]
  },
  {
   "cell_type": "code",
   "execution_count": 85,
   "id": "f5198d55-df57-42c2-bacc-ab4c982ed586",
   "metadata": {},
   "outputs": [
    {
     "name": "stdout",
     "output_type": "stream",
     "text": [
      "[5 7 9]\n",
      "[-3 -3 -3]\n",
      "[ 4 10 18]\n"
     ]
    }
   ],
   "source": [
    "a = np.array([1,2,3])\n",
    "b = np.array([4,5,6])\n",
    "print(a+b)\n",
    "print(a-b)\n",
    "print(a*b)"
   ]
  },
  {
   "cell_type": "markdown",
   "id": "fe48f929-4678-42e6-8294-10978f7bcc97",
   "metadata": {},
   "source": [
    "2. Create two 2×2 NumPy arrays and perform matrix addition.\n"
   ]
  },
  {
   "cell_type": "code",
   "execution_count": 90,
   "id": "822761ca-95eb-4782-afa4-e0b44ea621e7",
   "metadata": {},
   "outputs": [
    {
     "name": "stdout",
     "output_type": "stream",
     "text": [
      "[[12 10]\n",
      " [ 6  9]]\n",
      "[[ 4 67]\n",
      " [10 31]]\n",
      "[[16 77]\n",
      " [16 40]]\n"
     ]
    }
   ],
   "source": [
    "matrix1 = np.array([[12,10],[6,9]])\n",
    "matrix2 = np.array([[4,67],[10,31]])\n",
    "print(matrix1)\n",
    "print(matrix2)\n",
    "print(matrix1 + matrix2)"
   ]
  },
  {
   "cell_type": "markdown",
   "id": "c10e8cb5-5bdb-4d22-8aa6-be6aa3784ac7",
   "metadata": {},
   "source": [
    "3. Create a 2×3 matrix and a 3×2 matrix, then perform matrix multiplication using NumPy.\n"
   ]
  },
  {
   "cell_type": "code",
   "execution_count": 95,
   "id": "ba7365a7-2f64-43bd-b600-42794e4c3651",
   "metadata": {},
   "outputs": [
    {
     "name": "stdout",
     "output_type": "stream",
     "text": [
      "[[1 2 3]\n",
      " [4 5 6]]\n",
      "[[1 2]\n",
      " [6 5]\n",
      " [9 1]]\n"
     ]
    }
   ],
   "source": [
    "a = np.array([[1,2,3],[4,5,6]])\n",
    "b = np.array([[1,2],[6,5],[9,1]])\n",
    "print(a)\n",
    "print(b)"
   ]
  },
  {
   "cell_type": "code",
   "execution_count": 101,
   "id": "c362d0db-595d-4d53-a636-c11ceac6e181",
   "metadata": {},
   "outputs": [
    {
     "name": "stdout",
     "output_type": "stream",
     "text": [
      "[[40 15]\n",
      " [88 39]]\n"
     ]
    }
   ],
   "source": [
    "print(np.dot(a,b))"
   ]
  },
  {
   "cell_type": "markdown",
   "id": "39756a39-3420-4a46-bc7b-23c82aee22df",
   "metadata": {},
   "source": [
    "4. Create two 3×3 matrices and subtract the second from the first.\n"
   ]
  },
  {
   "cell_type": "code",
   "execution_count": 104,
   "id": "ff17770e-6f19-409a-94ca-bfd3e8cc5967",
   "metadata": {},
   "outputs": [
    {
     "name": "stdout",
     "output_type": "stream",
     "text": [
      "[[[ 1 34 21]\n",
      "  [56 88 10]]]\n",
      "[[[36 12 18]\n",
      "  [56 43 21]]]\n"
     ]
    }
   ],
   "source": [
    "a = np.array([[[1,34,21],[56,88,10]]])\n",
    "b = np.array([[[36,12,18],[56,43,21]]])\n",
    "print(a)\n",
    "print(b)"
   ]
  },
  {
   "cell_type": "code",
   "execution_count": 110,
   "id": "2cc1a2a1-e476-4671-afdc-a914d4986c55",
   "metadata": {},
   "outputs": [
    {
     "name": "stdout",
     "output_type": "stream",
     "text": [
      "[[[-35  22   3]\n",
      "  [  0  45 -11]]]\n"
     ]
    }
   ],
   "source": [
    "print(a-b)"
   ]
  },
  {
   "cell_type": "markdown",
   "id": "6d4b87aa-c690-4f3c-972e-3e4c3c4ba977",
   "metadata": {},
   "source": [
    "5. Create a 1D array with values from 10 to 20. Randomly pick 3 elements without replacement.\n"
   ]
  },
  {
   "cell_type": "code",
   "execution_count": 115,
   "id": "6b9ea1f4-0c74-4712-870a-a5bfdb0b861c",
   "metadata": {},
   "outputs": [
    {
     "name": "stdout",
     "output_type": "stream",
     "text": [
      "[10 11 12 13 14 15 16 17 18 19]\n"
     ]
    }
   ],
   "source": [
    "arr = np.arange(10,20)\n",
    "print(arr)"
   ]
  },
  {
   "cell_type": "code",
   "execution_count": 117,
   "id": "6601e5bb-bbc2-4c84-a991-346b034be90d",
   "metadata": {},
   "outputs": [],
   "source": [
    "r = np.random.choice(arr,size = 3,replace = False)"
   ]
  },
  {
   "cell_type": "code",
   "execution_count": 119,
   "id": "b1b1e1e5-c2fe-4ffc-ac00-0c9ae2f42a92",
   "metadata": {},
   "outputs": [
    {
     "data": {
      "text/plain": [
       "array([14, 17, 11])"
      ]
     },
     "execution_count": 119,
     "metadata": {},
     "output_type": "execute_result"
    }
   ],
   "source": [
    "r"
   ]
  },
  {
   "cell_type": "markdown",
   "id": "494959d6-6002-4b3f-b82c-cba914a2261a",
   "metadata": {},
   "source": [
    "6. Create a 4×3 matrix. Randomly select one of the rows.\n"
   ]
  },
  {
   "cell_type": "code",
   "execution_count": 180,
   "id": "96c15a11-8c8b-4171-87ec-12821b14c22d",
   "metadata": {},
   "outputs": [
    {
     "name": "stdout",
     "output_type": "stream",
     "text": [
      "[[ 1  2  3]\n",
      " [21  4  5]\n",
      " [ 5  7  6]\n",
      " [32  1  7]]\n",
      "[0 2]\n"
     ]
    }
   ],
   "source": [
    "a = np.array([[1,2,3],[21,4,5],[5,7,6],[32,1,7]])\n",
    "print(a)\n",
    "random_row = np.random.choice(a.shape[0],size = 2,replace = False)\n",
    "print(random_row)"
   ]
  },
  {
   "cell_type": "markdown",
   "id": "ecf7d4d9-be42-4a25-993d-74f812fb8977",
   "metadata": {},
   "source": [
    "7. Create an array with values from 1 to 10 and shuffle it in place.\n"
   ]
  },
  {
   "cell_type": "code",
   "execution_count": 159,
   "id": "055ae35c-75b2-4ea3-8fd0-f42e3213e285",
   "metadata": {},
   "outputs": [
    {
     "name": "stdout",
     "output_type": "stream",
     "text": [
      "[1 2 3 4 5 6 7 8 9]\n",
      "[2 8 4 3 6 1 9 5 7]\n"
     ]
    }
   ],
   "source": [
    "a = np.arange(1,10)\n",
    "print(a)\n",
    "np.random.shuffle(a)\n",
    "print(a)"
   ]
  },
  {
   "cell_type": "markdown",
   "id": "9f13477a-266d-4f49-a974-a86b3d6ed4df",
   "metadata": {},
   "source": [
    "8. Create two 2×2 matrices and return a boolean matrix where the first is greater than the second.\n"
   ]
  },
  {
   "cell_type": "code",
   "execution_count": 162,
   "id": "616f5ccf-1e3a-4835-b43a-90529cdbe0f6",
   "metadata": {},
   "outputs": [
    {
     "name": "stdout",
     "output_type": "stream",
     "text": [
      "False\n"
     ]
    }
   ],
   "source": [
    "m1 = ([[1,2],[4,5]])\n",
    "m2 = ([[67,1],[8,10]])\n",
    "print(m1 > m2)"
   ]
  },
  {
   "cell_type": "markdown",
   "id": "3dbd3f49-8bce-4243-9dd4-efabd8cb6cb6",
   "metadata": {},
   "source": [
    "9. Create a 3×3 matrix with random integers (0–20). Count how many elements are greater than 10.\n"
   ]
  },
  {
   "cell_type": "code",
   "execution_count": 167,
   "id": "6b4bc6da-88c8-48d8-be49-8bcd1fb890a4",
   "metadata": {},
   "outputs": [
    {
     "name": "stdout",
     "output_type": "stream",
     "text": [
      "[[15 19 14]\n",
      " [ 7 11  6]\n",
      " [ 8  5  5]]\n"
     ]
    }
   ],
   "source": [
    "m = np.random.randint(0,20,(3,3))\n",
    "print(m)"
   ]
  },
  {
   "cell_type": "code",
   "execution_count": 177,
   "id": "c3f6bae8-7a1b-4d86-aef6-2a90acab2c23",
   "metadata": {},
   "outputs": [
    {
     "name": "stdout",
     "output_type": "stream",
     "text": [
      "[[ True  True  True]\n",
      " [False  True False]\n",
      " [False False False]]\n"
     ]
    }
   ],
   "source": [
    "print(m > 10)"
   ]
  },
  {
   "cell_type": "markdown",
   "id": "38db4607-6692-4c22-9b04-c2470793bd9a",
   "metadata": {},
   "source": [
    "10. Convert a 2D array to a 1D array (flatten it)."
   ]
  },
  {
   "cell_type": "code",
   "execution_count": 188,
   "id": "e8215c4d-38ac-453f-b571-b1cd633918ca",
   "metadata": {},
   "outputs": [
    {
     "name": "stdout",
     "output_type": "stream",
     "text": [
      "[[ 1  2]\n",
      " [21  4]\n",
      " [ 5  7]\n",
      " [32  1]]\n",
      "[32  4 32  1  5  2  4  4  7 21]\n"
     ]
    }
   ],
   "source": [
    "a = np.array([[1,2],[21,4],[5,7],[32,1]])\n",
    "print(a)\n",
    "b = np.random.choice(a.flatten(),size = 10)\n",
    "print(b)"
   ]
  },
  {
   "cell_type": "code",
   "execution_count": null,
   "id": "34febc82-3058-456a-ae97-a9f64c74c504",
   "metadata": {},
   "outputs": [],
   "source": []
  }
 ],
 "metadata": {
  "kernelspec": {
   "display_name": "Python 3 (ipykernel)",
   "language": "python",
   "name": "python3"
  },
  "language_info": {
   "codemirror_mode": {
    "name": "ipython",
    "version": 3
   },
   "file_extension": ".py",
   "mimetype": "text/x-python",
   "name": "python",
   "nbconvert_exporter": "python",
   "pygments_lexer": "ipython3",
   "version": "3.12.4"
  }
 },
 "nbformat": 4,
 "nbformat_minor": 5
}
