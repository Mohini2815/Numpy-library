{
 "cells": [
  {
   "cell_type": "markdown",
   "id": "66b7fcce-75bc-4548-b901-3edc9bb714ae",
   "metadata": {},
   "source": [
    "# **Numpy** (numerical python)\n",
    "- It stand for numerical python.\n",
    "- it is used for numerical computation\n",
    "- it provide support for large multi-dimensional arrays and matrices along with a collection of highe-level mathematical function to operates on these arrays.\n",
    "\n",
    "**features of NumPy**\n",
    "1. **supports operation on N-dimensional arrays** - N-dimensional array also known as (n-D array) is a core data structure used in numpy for efficient storage and computation.\n",
    "2. **numpy allows broadcasting** i.e. arithematic operation on arrays of different shapes.\n",
    "3. **numpy also allow vectorization** i.e. eliminating needs for loops during operations on array.\n",
    "4. Numpy provides built-in support for linear algebra, statistics, trigonometry calculation\n",
    "5. numpy can be integrated with other python libraries like pandas, matplotlib, seaborn, scikit learn etc.\n",
    "\n",
    "**Data structure in numpy**\n",
    "\n",
    "- numpy primerily words with single core data structure. n-D array\n",
    "1. **n-dimensional array**\n",
    "- This can be of any (N) dimensions\n",
    "- N-D array can represent vectors (1D array) matrices (2D array) or tensors (3-D array)\n",
    "- N-D array are homogeneous which means all elements value in N-D array must be of same datatype\n",
    "- this array are of fixed size , once created we cannot change size of array\n",
    "\n",
    "2. **Structured array**\n",
    "- These arrays are **heterogeneous** arrays i.e. used to handle , store data of different datatypes similar to SQL, dataframes in pandas\n",
    "- allows accessing fields by name\n",
    "\n",
    "3. **Masked arrays**\n",
    "- These arrays are useful to deal with datasets containing missing values, invalid data or placeholder\n",
    "\n",
    "4. **Metrix**\n",
    "\n",
    "**datatypes used in structured arrays**\n",
    "\n",
    "1. Datatype - ':' or **'i4'** , python datatype equivalent - **int** , example - ('num','i4')\n",
    "2. Datatype - **'U10'** , python datatype equivalent - **str** , example - ('name','U10')\n",
    "3. Datatype - 'f' or **'f8'** , python datatype equivalent - **float** , example - ('nums','f8')\n",
    "4. Datatype -  **'bool'** , python datatype equivalent - **boolean** , example - ('accepted','bool')\n",
    "\n",
    "**Vectors** (1-D array)\n",
    "- vectors are one-dimensional array(1-D array) which stores data usually in list format\n",
    "\n",
    "**Matrix(2-D tensor)**\n",
    "- it is 2-D tensor that is arrays with rows and columns\n",
    "\n",
    "**Tensor** (N-D array)\n",
    "- tensor are arrays with 3 or more dimension"
   ]
  },
  {
   "cell_type": "code",
   "execution_count": 1,
   "id": "b2080c9d-3965-4255-ad87-bc497d1d740d",
   "metadata": {},
   "outputs": [],
   "source": [
    "import numpy as np"
   ]
  },
  {
   "cell_type": "code",
   "execution_count": 4,
   "id": "a2c63714-320c-417f-ae7f-4f5724335213",
   "metadata": {},
   "outputs": [
    {
     "name": "stdout",
     "output_type": "stream",
     "text": [
      "['ALLOW_THREADS', 'BUFSIZE', 'CLIP', 'DataSource', 'ERR_CALL', 'ERR_DEFAULT', 'ERR_IGNORE', 'ERR_LOG', 'ERR_PRINT', 'ERR_RAISE', 'ERR_WARN', 'FLOATING_POINT_SUPPORT', 'FPE_DIVIDEBYZERO', 'FPE_INVALID', 'FPE_OVERFLOW', 'FPE_UNDERFLOW', 'False_', 'Inf', 'Infinity', 'MAXDIMS', 'MAY_SHARE_BOUNDS', 'MAY_SHARE_EXACT', 'NAN', 'NINF', 'NZERO', 'NaN', 'PINF', 'PZERO', 'RAISE', 'RankWarning', 'SHIFT_DIVIDEBYZERO', 'SHIFT_INVALID', 'SHIFT_OVERFLOW', 'SHIFT_UNDERFLOW', 'ScalarType', 'True_', 'UFUNC_BUFSIZE_DEFAULT', 'UFUNC_PYVALS_NAME', 'WRAP', '_CopyMode', '_NoValue', '_UFUNC_API', '__NUMPY_SETUP__', '__all__', '__builtins__', '__cached__', '__config__', '__deprecated_attrs__', '__dir__', '__doc__', '__expired_functions__', '__file__', '__former_attrs__', '__future_scalars__', '__getattr__', '__loader__', '__name__', '__package__', '__path__', '__spec__', '__version__', '_add_newdoc_ufunc', '_builtins', '_distributor_init', '_financial_names', '_get_promotion_state', '_globals', '_int_extended_msg', '_mat', '_no_nep50_warning', '_pyinstaller_hooks_dir', '_pytesttester', '_set_promotion_state', '_specific_msg', '_typing', '_using_numpy2_behavior', '_utils', 'abs', 'absolute', 'add', 'add_docstring', 'add_newdoc', 'add_newdoc_ufunc', 'all', 'allclose', 'alltrue', 'amax', 'amin', 'angle', 'any', 'append', 'apply_along_axis', 'apply_over_axes', 'arange', 'arccos', 'arccosh', 'arcsin', 'arcsinh', 'arctan', 'arctan2', 'arctanh', 'argmax', 'argmin', 'argpartition', 'argsort', 'argwhere', 'around', 'array', 'array2string', 'array_equal', 'array_equiv', 'array_repr', 'array_split', 'array_str', 'asanyarray', 'asarray', 'asarray_chkfinite', 'ascontiguousarray', 'asfarray', 'asfortranarray', 'asmatrix', 'atleast_1d', 'atleast_2d', 'atleast_3d', 'average', 'bartlett', 'base_repr', 'binary_repr', 'bincount', 'bitwise_and', 'bitwise_not', 'bitwise_or', 'bitwise_xor', 'blackman', 'block', 'bmat', 'bool_', 'broadcast', 'broadcast_arrays', 'broadcast_shapes', 'broadcast_to', 'busday_count', 'busday_offset', 'busdaycalendar', 'byte', 'byte_bounds', 'bytes_', 'c_', 'can_cast', 'cast', 'cbrt', 'cdouble', 'ceil', 'cfloat', 'char', 'character', 'chararray', 'choose', 'clip', 'clongdouble', 'clongfloat', 'column_stack', 'common_type', 'compare_chararrays', 'compat', 'complex128', 'complex64', 'complex_', 'complexfloating', 'compress', 'concatenate', 'conj', 'conjugate', 'convolve', 'copy', 'copysign', 'copyto', 'corrcoef', 'correlate', 'cos', 'cosh', 'count_nonzero', 'cov', 'cross', 'csingle', 'ctypeslib', 'cumprod', 'cumproduct', 'cumsum', 'datetime64', 'datetime_as_string', 'datetime_data', 'deg2rad', 'degrees', 'delete', 'deprecate', 'deprecate_with_doc', 'diag', 'diag_indices', 'diag_indices_from', 'diagflat', 'diagonal', 'diff', 'digitize', 'disp', 'divide', 'divmod', 'dot', 'double', 'dsplit', 'dstack', 'dtype', 'dtypes', 'e', 'ediff1d', 'einsum', 'einsum_path', 'emath', 'empty', 'empty_like', 'equal', 'errstate', 'euler_gamma', 'exceptions', 'exp', 'exp2', 'expand_dims', 'expm1', 'expm1x', 'extract', 'eye', 'fabs', 'fastCopyAndTranspose', 'fft', 'fill_diagonal', 'find_common_type', 'finfo', 'fix', 'flatiter', 'flatnonzero', 'flexible', 'flip', 'fliplr', 'flipud', 'float16', 'float32', 'float64', 'float_', 'float_power', 'floating', 'floor', 'floor_divide', 'fmax', 'fmin', 'fmod', 'format_float_positional', 'format_float_scientific', 'format_parser', 'frexp', 'from_dlpack', 'frombuffer', 'fromfile', 'fromfunction', 'fromiter', 'frompyfunc', 'fromregex', 'fromstring', 'full', 'full_like', 'gcd', 'generic', 'genfromtxt', 'geomspace', 'get_array_wrap', 'get_include', 'get_printoptions', 'getbufsize', 'geterr', 'geterrcall', 'geterrobj', 'gradient', 'greater', 'greater_equal', 'half', 'hamming', 'hanning', 'heaviside', 'histogram', 'histogram2d', 'histogram_bin_edges', 'histogramdd', 'hsplit', 'hstack', 'hypot', 'i0', 'identity', 'iinfo', 'imag', 'in1d', 'index_exp', 'indices', 'inexact', 'inf', 'info', 'infty', 'inner', 'insert', 'int16', 'int32', 'int64', 'int8', 'int_', 'intc', 'integer', 'interp', 'intersect1d', 'intp', 'invert', 'is_busday', 'isclose', 'iscomplex', 'iscomplexobj', 'isfinite', 'isfortran', 'isin', 'isinf', 'isnan', 'isnat', 'isneginf', 'isposinf', 'isreal', 'isrealobj', 'isscalar', 'issctype', 'issubclass_', 'issubdtype', 'issubsctype', 'iterable', 'ix_', 'kaiser', 'kron', 'lcm', 'ldexp', 'left_shift', 'less', 'less_equal', 'lexsort', 'lib', 'linalg', 'linspace', 'little_endian', 'load', 'loadtxt', 'log', 'log10', 'log1p', 'log2', 'logaddexp', 'logaddexp2', 'logical_and', 'logical_not', 'logical_or', 'logical_xor', 'logspace', 'longcomplex', 'longdouble', 'longfloat', 'longlong', 'lookfor', 'ma', 'mask_indices', 'mat', 'matmul', 'matrix', 'max', 'maximum', 'maximum_sctype', 'may_share_memory', 'mean', 'median', 'memmap', 'meshgrid', 'mgrid', 'min', 'min_scalar_type', 'minimum', 'mintypecode', 'mod', 'modf', 'moveaxis', 'msort', 'multiply', 'nan', 'nan_to_num', 'nanargmax', 'nanargmin', 'nancumprod', 'nancumsum', 'nanmax', 'nanmean', 'nanmedian', 'nanmin', 'nanpercentile', 'nanprod', 'nanquantile', 'nanstd', 'nansum', 'nanvar', 'nbytes', 'ndarray', 'ndenumerate', 'ndim', 'ndindex', 'nditer', 'negative', 'nested_iters', 'newaxis', 'nextafter', 'nonzero', 'not_equal', 'numarray', 'number', 'obj2sctype', 'object_', 'ogrid', 'oldnumeric', 'ones', 'ones_like', 'outer', 'packbits', 'pad', 'partition', 'percentile', 'pi', 'piecewise', 'place', 'poly', 'poly1d', 'polyadd', 'polyder', 'polydiv', 'polyfit', 'polyint', 'polymul', 'polynomial', 'polysub', 'polyval', 'positive', 'power', 'printoptions', 'prod', 'product', 'promote_types', 'ptp', 'put', 'put_along_axis', 'putmask', 'quantile', 'r_', 'rad2deg', 'radians', 'random', 'ravel', 'ravel_multi_index', 'real', 'real_if_close', 'rec', 'recarray', 'recfromcsv', 'recfromtxt', 'reciprocal', 'record', 'remainder', 'repeat', 'require', 'reshape', 'resize', 'result_type', 'right_shift', 'rint', 'roll', 'rollaxis', 'roots', 'rot90', 'round', 'round_', 'row_stack', 's_', 'safe_eval', 'save', 'savetxt', 'savez', 'savez_compressed', 'sctype2char', 'sctypeDict', 'sctypes', 'searchsorted', 'select', 'set_numeric_ops', 'set_printoptions', 'set_string_function', 'setbufsize', 'setdiff1d', 'seterr', 'seterrcall', 'seterrobj', 'setxor1d', 'shape', 'shares_memory', 'short', 'show_config', 'show_runtime', 'sign', 'signbit', 'signedinteger', 'sin', 'sinc', 'single', 'singlecomplex', 'sinh', 'size', 'sometrue', 'sort', 'sort_complex', 'source', 'spacing', 'split', 'sqrt', 'square', 'squeeze', 'stack', 'std', 'str_', 'string_', 'subtract', 'sum', 'swapaxes', 'take', 'take_along_axis', 'tan', 'tanh', 'tensordot', 'test', 'testing', 'tile', 'timedelta64', 'trace', 'tracemalloc_domain', 'transpose', 'trapz', 'tri', 'tril', 'tril_indices', 'tril_indices_from', 'trim_zeros', 'triu', 'triu_indices', 'triu_indices_from', 'true_divide', 'trunc', 'typecodes', 'typename', 'ubyte', 'ufunc', 'uint', 'uint16', 'uint32', 'uint64', 'uint8', 'uintc', 'uintp', 'ulonglong', 'unicode_', 'union1d', 'unique', 'unpackbits', 'unravel_index', 'unsignedinteger', 'unwrap', 'ushort', 'vander', 'var', 'vdot', 'vectorize', 'version', 'void', 'vsplit', 'vstack', 'where', 'who', 'zeros', 'zeros_like']\n"
     ]
    }
   ],
   "source": [
    "print(dir(np))"
   ]
  },
  {
   "cell_type": "code",
   "execution_count": 5,
   "id": "434a1c16-26c5-4d25-96df-ea2c15d63509",
   "metadata": {},
   "outputs": [
    {
     "name": "stdout",
     "output_type": "stream",
     "text": [
      "[ 1 23  4  1]\n"
     ]
    }
   ],
   "source": [
    "a = np.array([1,23,4,1]) # creating 1 dimensional array\n",
    "print(a)"
   ]
  },
  {
   "cell_type": "code",
   "execution_count": 6,
   "id": "30fac5a7-ab2f-4023-89f9-4e4726cb27dc",
   "metadata": {},
   "outputs": [
    {
     "data": {
      "text/plain": [
       "(4,)"
      ]
     },
     "execution_count": 6,
     "metadata": {},
     "output_type": "execute_result"
    }
   ],
   "source": [
    "a.shape"
   ]
  },
  {
   "cell_type": "code",
   "execution_count": 7,
   "id": "35c47d89-8503-4aed-90d9-b1087a2b4b3a",
   "metadata": {},
   "outputs": [
    {
     "data": {
      "text/plain": [
       "1"
      ]
     },
     "execution_count": 7,
     "metadata": {},
     "output_type": "execute_result"
    }
   ],
   "source": [
    "a.ndim"
   ]
  },
  {
   "cell_type": "code",
   "execution_count": 8,
   "id": "908f6a41-7c1e-4eeb-a764-93e834af9858",
   "metadata": {},
   "outputs": [
    {
     "name": "stdout",
     "output_type": "stream",
     "text": [
      "[[1 2]\n",
      " [4 5]]\n"
     ]
    }
   ],
   "source": [
    "# creating 2 dimensional array\n",
    "b = np.array([[1,2],[4,5]])\n",
    "print(b)"
   ]
  },
  {
   "cell_type": "code",
   "execution_count": 9,
   "id": "04b6f070-fed4-4416-8377-47638048a08a",
   "metadata": {},
   "outputs": [
    {
     "data": {
      "text/plain": [
       "(2, 2)"
      ]
     },
     "execution_count": 9,
     "metadata": {},
     "output_type": "execute_result"
    }
   ],
   "source": [
    "b.shape"
   ]
  },
  {
   "cell_type": "code",
   "execution_count": 10,
   "id": "dfee4b88-b494-4065-b153-0483e2540917",
   "metadata": {},
   "outputs": [
    {
     "data": {
      "text/plain": [
       "2"
      ]
     },
     "execution_count": 10,
     "metadata": {},
     "output_type": "execute_result"
    }
   ],
   "source": [
    "b.ndim"
   ]
  },
  {
   "cell_type": "code",
   "execution_count": 11,
   "id": "bcd10a65-1059-45f4-b772-0a5d4260f5ba",
   "metadata": {},
   "outputs": [
    {
     "name": "stdout",
     "output_type": "stream",
     "text": [
      "[[[ 2  4]\n",
      "  [ 6  8]\n",
      "  [ 9 10]\n",
      "  [56 43]]]\n"
     ]
    }
   ],
   "source": [
    "# creating 3 dimensional array or tensor\n",
    "c = np.array([[[2,4],[6,8],[9,10],[56,43]]])\n",
    "print(c)"
   ]
  },
  {
   "cell_type": "code",
   "execution_count": 12,
   "id": "b7ea21e0-b47a-4a7a-9acf-672251f310f0",
   "metadata": {},
   "outputs": [
    {
     "name": "stdout",
     "output_type": "stream",
     "text": [
      "(1, 4, 2)\n"
     ]
    }
   ],
   "source": [
    "print(c.shape)"
   ]
  },
  {
   "cell_type": "code",
   "execution_count": 13,
   "id": "c22976e3-be51-4c43-a454-aa75b413f4d4",
   "metadata": {},
   "outputs": [
    {
     "data": {
      "text/plain": [
       "3"
      ]
     },
     "execution_count": 13,
     "metadata": {},
     "output_type": "execute_result"
    }
   ],
   "source": [
    "c.ndim # check which dimensional array is"
   ]
  },
  {
   "cell_type": "markdown",
   "id": "1a5efca7-a44a-4e1e-9bbf-c2fa674bc488",
   "metadata": {},
   "source": [
    "**Structured array**"
   ]
  },
  {
   "cell_type": "code",
   "execution_count": 15,
   "id": "f32cac4b-58ab-4748-a8f8-987ce5acfb08",
   "metadata": {},
   "outputs": [
    {
     "name": "stdout",
     "output_type": "stream",
     "text": [
      "bhargavi\n"
     ]
    }
   ],
   "source": [
    "# creating structured arrays - records are on the form of rows and columns\n",
    "dtype = ([('id','i4'),('name', 'U10'),('marks','f8')])\n",
    "d1 = np.array([(1,\"mohini\",6.7),(2,\"bhargavi\",7.8),(3,\"gauri\",8.9)],dtype=dtype)\n",
    "\n",
    "print(d1['name'][1]) # accessing the feature via column name and row index"
   ]
  },
  {
   "cell_type": "code",
   "execution_count": 16,
   "id": "8203a2c1-1cbc-4c05-ae71-20ff5ceb0669",
   "metadata": {},
   "outputs": [
    {
     "name": "stdout",
     "output_type": "stream",
     "text": [
      "[(1, 'mohini', 6.7) (2, 'bhargavi', 7.8) (3, 'gauri', 8.9)]\n"
     ]
    }
   ],
   "source": [
    "print(d1) # accessing all the elements of the structured array"
   ]
  },
  {
   "cell_type": "code",
   "execution_count": 17,
   "id": "453c6989-f6d8-4d32-b657-c268122234d7",
   "metadata": {},
   "outputs": [
    {
     "name": "stdout",
     "output_type": "stream",
     "text": [
      "[1 2 3]\n",
      "['mohini' 'bhargavi' 'gauri']\n",
      "[6.7 7.8 8.9]\n"
     ]
    }
   ],
   "source": [
    "# accessing the columns in structured array\n",
    "print(d1['id'])\n",
    "print(d1['name'])\n",
    "print(d1['marks'])"
   ]
  },
  {
   "cell_type": "code",
   "execution_count": 18,
   "id": "15a7c609-c78d-43b8-a86b-16a57168866c",
   "metadata": {},
   "outputs": [
    {
     "name": "stdout",
     "output_type": "stream",
     "text": [
      "[('id', '<i4'), ('name', '<U10'), ('marks', '<f8')]\n"
     ]
    }
   ],
   "source": [
    "# will show datatypes of each column\n",
    "print(d1.dtype)"
   ]
  },
  {
   "cell_type": "code",
   "execution_count": 19,
   "id": "acc50337-d528-4108-a08d-3bf26063a6f8",
   "metadata": {},
   "outputs": [
    {
     "data": {
      "text/plain": [
       "array([[0., 0., 0.],\n",
       "       [0., 0., 0.]])"
      ]
     },
     "execution_count": 19,
     "metadata": {},
     "output_type": "execute_result"
    }
   ],
   "source": [
    "# for creating zeros array\n",
    "d = np.zeros((2,3))\n",
    "d"
   ]
  },
  {
   "cell_type": "code",
   "execution_count": 20,
   "id": "c275e7df-e593-484f-93b1-3ce1cfa1d765",
   "metadata": {},
   "outputs": [
    {
     "data": {
      "text/plain": [
       "2"
      ]
     },
     "execution_count": 20,
     "metadata": {},
     "output_type": "execute_result"
    }
   ],
   "source": [
    "d.ndim"
   ]
  },
  {
   "cell_type": "code",
   "execution_count": 21,
   "id": "89bbd368-eef0-4aef-a5ec-6144a2a5f0e4",
   "metadata": {},
   "outputs": [
    {
     "data": {
      "text/plain": [
       "(2, 3)"
      ]
     },
     "execution_count": 21,
     "metadata": {},
     "output_type": "execute_result"
    }
   ],
   "source": [
    "d.shape"
   ]
  },
  {
   "cell_type": "code",
   "execution_count": 22,
   "id": "1f4cb01e-2867-4807-a68a-2bdff4dd4a67",
   "metadata": {},
   "outputs": [
    {
     "name": "stdout",
     "output_type": "stream",
     "text": [
      "[[1. 1. 1. 1. 1.]\n",
      " [1. 1. 1. 1. 1.]\n",
      " [1. 1. 1. 1. 1.]]\n"
     ]
    }
   ],
   "source": [
    "# want to create array have value only 1\n",
    "e = np.ones((3,5))\n",
    "print(e)"
   ]
  },
  {
   "cell_type": "markdown",
   "id": "1596fef4-6f2d-4855-829d-37b1329161ed",
   "metadata": {},
   "source": [
    "**Identity matrix creation**"
   ]
  },
  {
   "cell_type": "code",
   "execution_count": 24,
   "id": "e282a97a-39d8-4f35-a989-ded8321b7bea",
   "metadata": {},
   "outputs": [
    {
     "name": "stdout",
     "output_type": "stream",
     "text": [
      "[[1. 0. 0.]\n",
      " [0. 1. 0.]\n",
      " [0. 0. 1.]]\n"
     ]
    }
   ],
   "source": [
    "f = np.eye(3) # creating identity matrix\n",
    "print(f)"
   ]
  },
  {
   "cell_type": "code",
   "execution_count": 25,
   "id": "0e6d21b9-7b4a-44a3-937e-34f30561f2a1",
   "metadata": {},
   "outputs": [
    {
     "name": "stdout",
     "output_type": "stream",
     "text": [
      "[1 3 5 7 9]\n"
     ]
    }
   ],
   "source": [
    "# creates an array with evenly spaced values specified in range\n",
    "g = np.arange(1,10,2)\n",
    "print(g)"
   ]
  },
  {
   "cell_type": "code",
   "execution_count": 26,
   "id": "09c8b178-cc24-4715-ac02-10b4c3774607",
   "metadata": {},
   "outputs": [
    {
     "name": "stdout",
     "output_type": "stream",
     "text": [
      "[0.  0.5 1.  1.5 2. ]\n"
     ]
    }
   ],
   "source": [
    "# creates array of evenly spaced numbers(specified interval - (displays in float))\n",
    "h = np.linspace(0,2,5) \n",
    "print(h)"
   ]
  },
  {
   "cell_type": "code",
   "execution_count": 27,
   "id": "c53f1f67-5666-4758-99e7-70b9267dd5b4",
   "metadata": {},
   "outputs": [
    {
     "data": {
      "text/plain": [
       "5"
      ]
     },
     "execution_count": 27,
     "metadata": {},
     "output_type": "execute_result"
    }
   ],
   "source": [
    "# specified number of elements\n",
    "h.size"
   ]
  },
  {
   "cell_type": "markdown",
   "id": "3088daa4-340d-44af-8789-1e9720297baa",
   "metadata": {},
   "source": [
    "# Assignment 1"
   ]
  },
  {
   "cell_type": "markdown",
   "id": "b3eda71b-9b59-4f20-a44e-c2033a7b6390",
   "metadata": {},
   "source": [
    "1. create a 2D array of shape(3,4) filled with all ones"
   ]
  },
  {
   "cell_type": "code",
   "execution_count": 30,
   "id": "f3968e94-f01f-4489-b9c2-8de47015339e",
   "metadata": {},
   "outputs": [
    {
     "name": "stdout",
     "output_type": "stream",
     "text": [
      "[[1. 1. 1. 1.]\n",
      " [1. 1. 1. 1.]\n",
      " [1. 1. 1. 1.]]\n"
     ]
    }
   ],
   "source": [
    "m = np.ones((3,4))\n",
    "print(m)"
   ]
  },
  {
   "cell_type": "markdown",
   "id": "2f00ae69-26af-43ce-8ee8-6febd90b8c84",
   "metadata": {},
   "source": [
    "2. create 1D numpy array with values from 10 to 50 with a step of 4"
   ]
  },
  {
   "cell_type": "code",
   "execution_count": 32,
   "id": "6cf11075-fdc8-4c0e-b8cc-e9391cd3f1e9",
   "metadata": {},
   "outputs": [
    {
     "name": "stdout",
     "output_type": "stream",
     "text": [
      "[10 14 18 22 26 30 34 38 42 46]\n"
     ]
    }
   ],
   "source": [
    "n = np.arange(10,50,4)\n",
    "print(n)"
   ]
  },
  {
   "cell_type": "markdown",
   "id": "fc518e92-e56a-4ac8-a9c3-82b9a9e7e7a1",
   "metadata": {},
   "source": [
    "3. create a 4x4 identity matrix"
   ]
  },
  {
   "cell_type": "code",
   "execution_count": 34,
   "id": "25d1959c-ad6c-41ee-bdb8-37d2b4cb647b",
   "metadata": {},
   "outputs": [
    {
     "name": "stdout",
     "output_type": "stream",
     "text": [
      "[[1. 0. 0. 0.]\n",
      " [0. 1. 0. 0.]\n",
      " [0. 0. 1. 0.]\n",
      " [0. 0. 0. 1.]]\n"
     ]
    }
   ],
   "source": [
    "p = np.eye(4)\n",
    "print(p)"
   ]
  },
  {
   "cell_type": "markdown",
   "id": "19f90bbf-bdbd-4b1a-b9c2-c91a2cffed2e",
   "metadata": {},
   "source": [
    "4. create an array with 5 values evenly spaced between 0 and 1"
   ]
  },
  {
   "cell_type": "code",
   "execution_count": 36,
   "id": "2e9d63e6-ea25-460c-9c26-23909bad6da4",
   "metadata": {},
   "outputs": [
    {
     "name": "stdout",
     "output_type": "stream",
     "text": [
      "[0.   0.25 0.5  0.75 1.  ]\n"
     ]
    }
   ],
   "source": [
    "q = np.linspace(0,1,5)\n",
    "print(q)"
   ]
  },
  {
   "cell_type": "markdown",
   "id": "2e5939da-c2c4-48f3-b67d-922edd602c96",
   "metadata": {},
   "source": [
    "5. create a 1d numpy array with values from 10 to 50 with a step of 5"
   ]
  },
  {
   "cell_type": "code",
   "execution_count": 38,
   "id": "9602a1c9-70a0-42f7-9344-803c38d5a9c7",
   "metadata": {},
   "outputs": [
    {
     "name": "stdout",
     "output_type": "stream",
     "text": [
      "[10 15 20 25 30 35 40 45]\n"
     ]
    }
   ],
   "source": [
    "r = np.arange(10,50,5)\n",
    "print(r)"
   ]
  },
  {
   "cell_type": "markdown",
   "id": "bba3ae6f-44a7-4c76-b1ef-5a45e9848641",
   "metadata": {},
   "source": [
    "6. create a 3x3 array with random integers between 10 and 99"
   ]
  },
  {
   "cell_type": "code",
   "execution_count": 40,
   "id": "38fd8249-83b7-4165-a782-d6c13cf7d306",
   "metadata": {},
   "outputs": [
    {
     "name": "stdout",
     "output_type": "stream",
     "text": [
      "[0.10047169 0.06953096 0.13301521 0.74291142 0.1265844 ]\n"
     ]
    }
   ],
   "source": [
    "# random number methods\n",
    "u = np.random.rand(5)\n",
    "print(u)"
   ]
  },
  {
   "cell_type": "markdown",
   "id": "66a65420-8ec3-4875-9891-07aea7b44f4a",
   "metadata": {},
   "source": [
    "7. create an array of shape(2,3) filled with zeros and another filled with sevens"
   ]
  },
  {
   "cell_type": "code",
   "execution_count": 42,
   "id": "b3e90a7a-cfb8-4c2e-8f83-09fe2e8bd541",
   "metadata": {},
   "outputs": [
    {
     "name": "stdout",
     "output_type": "stream",
     "text": [
      "[[0. 0. 0.]\n",
      " [0. 0. 0.]]\n"
     ]
    },
    {
     "data": {
      "text/plain": [
       "array([[7, 7, 7],\n",
       "       [7, 7, 7]])"
      ]
     },
     "execution_count": 42,
     "metadata": {},
     "output_type": "execute_result"
    }
   ],
   "source": [
    "s = np.zeros((2,3))\n",
    "print(s)\n",
    "# full - create an array of fiven shape and fills with specified values\n",
    "t = np.full((2,3),7)\n",
    "t"
   ]
  },
  {
   "cell_type": "markdown",
   "id": "af5677dd-20a7-4833-9f0e-8f2accbef183",
   "metadata": {},
   "source": [
    "8. create an array with values from 1 to 12 and reshape it to a 3x4 matrix"
   ]
  },
  {
   "cell_type": "code",
   "execution_count": 44,
   "id": "b9a4838f-26a5-4d1a-93f7-3c8c537b9ac0",
   "metadata": {},
   "outputs": [
    {
     "name": "stdout",
     "output_type": "stream",
     "text": [
      "[ 1  2  3  4  5  6  7  8  9 10 11 12]\n",
      "[[ 1  2  3  4]\n",
      " [ 5  6  7  8]\n",
      " [ 9 10 11 12]]\n"
     ]
    },
    {
     "data": {
      "text/plain": [
       "(3, 4)"
      ]
     },
     "execution_count": 44,
     "metadata": {},
     "output_type": "execute_result"
    }
   ],
   "source": [
    "t = np.arange(1,13)\n",
    "print(t)\n",
    "# t= np.reshape((3,4))\n",
    "re_shape = t.reshape(3,4)\n",
    "print(re_shape)\n",
    "re_shape.shape"
   ]
  },
  {
   "cell_type": "markdown",
   "id": "fd205e19-3f75-407d-ba50-92976cea6fcc",
   "metadata": {},
   "source": [
    "9. create a 2D array of shape(5,2) and display\n",
    "- number of dimensions\n",
    "- shape\n",
    "- total number of elements\n",
    "- data type"
   ]
  },
  {
   "cell_type": "code",
   "execution_count": 46,
   "id": "0e18af5c-84c1-4d20-a856-e9c3c576cb2c",
   "metadata": {},
   "outputs": [
    {
     "name": "stdout",
     "output_type": "stream",
     "text": [
      "[[2 4]\n",
      " [5 6]\n",
      " [7 6]\n",
      " [8 7]\n",
      " [9 0]]\n"
     ]
    },
    {
     "data": {
      "text/plain": [
       "2"
      ]
     },
     "execution_count": 46,
     "metadata": {},
     "output_type": "execute_result"
    }
   ],
   "source": [
    "arr = np.array([[2,4],[5,6],[7,6],[8,7],[9,0]])\n",
    "print(arr)\n",
    "# number of dimension\n",
    "arr.ndim\n"
   ]
  },
  {
   "cell_type": "code",
   "execution_count": 47,
   "id": "4897099b-5649-429c-8f4a-8e41af184ea6",
   "metadata": {},
   "outputs": [
    {
     "data": {
      "text/plain": [
       "(5, 2)"
      ]
     },
     "execution_count": 47,
     "metadata": {},
     "output_type": "execute_result"
    }
   ],
   "source": [
    "# shape\n",
    "arr.shape"
   ]
  },
  {
   "cell_type": "code",
   "execution_count": 48,
   "id": "ad41413c-4f6e-48c6-b217-4e6244144272",
   "metadata": {},
   "outputs": [
    {
     "data": {
      "text/plain": [
       "10"
      ]
     },
     "execution_count": 48,
     "metadata": {},
     "output_type": "execute_result"
    }
   ],
   "source": [
    "# number of elements\n",
    "arr.size"
   ]
  },
  {
   "cell_type": "code",
   "execution_count": 49,
   "id": "f5f6d207-d2e9-4e6e-b471-25946bb10cef",
   "metadata": {},
   "outputs": [
    {
     "data": {
      "text/plain": [
       "dtype('int32')"
      ]
     },
     "execution_count": 49,
     "metadata": {},
     "output_type": "execute_result"
    }
   ],
   "source": [
    "# datatype\n",
    "arr.dtype"
   ]
  },
  {
   "cell_type": "markdown",
   "id": "1ae3d889-33d6-4531-99cb-8f2e01bc3b6f",
   "metadata": {},
   "source": [
    "10. create a 2D array and access:\n",
    "- the first row\n",
    "- the second column\n",
    "- the last element"
   ]
  },
  {
   "cell_type": "code",
   "execution_count": 51,
   "id": "d65f481c-31b0-4fcc-9354-1b16299f837a",
   "metadata": {},
   "outputs": [
    {
     "name": "stdout",
     "output_type": "stream",
     "text": [
      "[[1 2]\n",
      " [3 4]]\n"
     ]
    }
   ],
   "source": [
    "array_2d = np.array([[1,2],[3,4]])\n",
    "print(array_2d)"
   ]
  },
  {
   "cell_type": "code",
   "execution_count": 52,
   "id": "c18744b2-3248-4ef6-9d3f-d738a2c3202d",
   "metadata": {},
   "outputs": [
    {
     "data": {
      "text/plain": [
       "array([1, 2])"
      ]
     },
     "execution_count": 52,
     "metadata": {},
     "output_type": "execute_result"
    }
   ],
   "source": [
    "# first row\n",
    "array_2d[0]"
   ]
  },
  {
   "cell_type": "code",
   "execution_count": 53,
   "id": "d61575d4-7bb6-4648-add7-4e015eb9b7f7",
   "metadata": {},
   "outputs": [
    {
     "data": {
      "text/plain": [
       "array([3, 4])"
      ]
     },
     "execution_count": 53,
     "metadata": {},
     "output_type": "execute_result"
    }
   ],
   "source": [
    "# second column\n",
    "array_2d[1]"
   ]
  },
  {
   "cell_type": "code",
   "execution_count": 54,
   "id": "f20744ef-681c-4fc5-b139-fa0ba6f871f5",
   "metadata": {},
   "outputs": [
    {
     "data": {
      "text/plain": [
       "4"
      ]
     },
     "execution_count": 54,
     "metadata": {},
     "output_type": "execute_result"
    }
   ],
   "source": [
    "# last element\n",
    "array_2d[(1,1)]"
   ]
  },
  {
   "cell_type": "code",
   "execution_count": 55,
   "id": "89bf4e4a-accc-4567-b955-ee07e6b0a3ed",
   "metadata": {},
   "outputs": [
    {
     "name": "stdout",
     "output_type": "stream",
     "text": [
      "[[60 88 73]\n",
      " [89 25 49]\n",
      " [93 26 22]]\n"
     ]
    }
   ],
   "source": [
    "#np.random.randint() - generates an array of the given size and the numbers in th range\n",
    "\n",
    "c = np.random.randint(10,99,(3,3))\n",
    "print(c)"
   ]
  },
  {
   "cell_type": "code",
   "execution_count": 56,
   "id": "17323859-c9f2-4136-b947-16b82eed994a",
   "metadata": {},
   "outputs": [
    {
     "data": {
      "text/plain": [
       "array([[ 0.72731354, -1.00855652,  0.98373154],\n",
       "       [ 0.9403978 ,  0.11118616, -0.297104  ],\n",
       "       [-0.46431214,  0.41112328,  0.46171853]])"
      ]
     },
     "execution_count": 56,
     "metadata": {},
     "output_type": "execute_result"
    }
   ],
   "source": [
    "d = np.random.randn(3,3)\n",
    "d"
   ]
  },
  {
   "cell_type": "code",
   "execution_count": 57,
   "id": "55b310bb-5f4d-48f0-aee7-5df6d4f9bfbf",
   "metadata": {},
   "outputs": [
    {
     "name": "stdout",
     "output_type": "stream",
     "text": [
      "[ 9.51570354  9.38553521 10.71810045 10.60480311  7.61609019 10.83695106\n",
      " 10.16106354]\n"
     ]
    }
   ],
   "source": [
    "e = np.random.randn(7) + 10 # 10 is mean\n",
    "print(e)"
   ]
  },
  {
   "cell_type": "code",
   "execution_count": 58,
   "id": "deec72af-da10-4997-89a3-7c58da1daaf8",
   "metadata": {},
   "outputs": [
    {
     "name": "stdout",
     "output_type": "stream",
     "text": [
      "[2 4 6 8]\n",
      "20\n",
      "5.0\n",
      "2.23606797749979\n",
      "8\n",
      "2\n",
      "0\n",
      "3\n"
     ]
    }
   ],
   "source": [
    "# mathematical operations of array\n",
    "\n",
    "# np.sum() - returns the total(sum) of all the elements\n",
    "\n",
    "f = np.array([2,4,6,8])\n",
    "print(f)\n",
    "print(np.sum(f))\n",
    "\n",
    "# np.mean() - return the mean(average) of all the items in the array\n",
    "print(np.mean(f))\n",
    "\n",
    "# np.std() - returns the standard deviation of all the items in the array\n",
    "print(np.std(f))\n",
    "\n",
    "# np.max and np.min\n",
    "print(np.max(f))\n",
    "print(np.min(f))\n",
    "\n",
    "# np.argmin and np.argmax - retuens the index value of max and min values\n",
    "print(np.argmin(f))\n",
    "print(np.argmax(f))"
   ]
  },
  {
   "cell_type": "markdown",
   "id": "3647bac7-9128-4673-a5ed-e34d9c2befe2",
   "metadata": {},
   "source": [
    "**Array manipulation**\n"
   ]
  },
  {
   "cell_type": "code",
   "execution_count": 60,
   "id": "15d374dc-6b8c-4b2d-ae78-737d4ae546ce",
   "metadata": {},
   "outputs": [
    {
     "name": "stdout",
     "output_type": "stream",
     "text": [
      "[  78 1220   30   40   67   40   50  123  145  654  678]\n",
      "[  30   40   40   50   67   78  123  145  654  678 1220]\n",
      "[  30   40   50   67   78  123  145  654  678 1220]\n",
      "[45 65 78 10 33 98]\n",
      "[  78 1220   30   40   67   40   50  123  145  654  678   45   65   78\n",
      "   10   33   98]\n",
      "[  10   30   33   40   40   45   50   65   67   78   78   98  123  145\n",
      "  654  678 1220]\n"
     ]
    }
   ],
   "source": [
    "g = np.array([78,1220,30,40,67,40,50,123,145,654,678])\n",
    "print(g)\n",
    "\n",
    "# np.sort() - returns sorted values in the array\n",
    "print(np.sort(g))\n",
    "\n",
    "# np.unique() - returns an array with sorted and unique elements\n",
    "print(np.unique(g))\n",
    "\n",
    "h = np.array([45,65,78,10,33,98])\n",
    "print(h)\n",
    "\n",
    "# np.concatenate() - returns the merged arrays , can join two or more than two arrays\n",
    "i= np.concatenate((g,h))\n",
    "print(i)\n",
    "print(np.sort(i))"
   ]
  },
  {
   "cell_type": "markdown",
   "id": "f330fece-dfbe-4c1b-b89f-746d28cb15de",
   "metadata": {},
   "source": [
    "# Assignment 2"
   ]
  },
  {
   "cell_type": "markdown",
   "id": "55caaba0-a6e4-47f9-ac7e-bd186f7c18ff",
   "metadata": {},
   "source": [
    "1. create 1D array of numbers from 0 to 9"
   ]
  },
  {
   "cell_type": "code",
   "execution_count": 63,
   "id": "f25a7056-15e8-47f4-8af3-a48a63b26b24",
   "metadata": {},
   "outputs": [],
   "source": [
    "import numpy as np\n"
   ]
  },
  {
   "cell_type": "code",
   "execution_count": 64,
   "id": "b8e5583f-cb8e-40f7-b326-a99f00d2186b",
   "metadata": {},
   "outputs": [
    {
     "name": "stdout",
     "output_type": "stream",
     "text": [
      "[0 1 2 3 4 5 6 7 8 9]\n"
     ]
    }
   ],
   "source": [
    "a = np.arange(0,10)\n",
    "print(a)"
   ]
  },
  {
   "cell_type": "markdown",
   "id": "a130f5be-a224-4587-83c3-f2d1b99a6085",
   "metadata": {},
   "source": [
    "2. find the mean , median,standard deviation and sum of elements in an array"
   ]
  },
  {
   "cell_type": "code",
   "execution_count": 66,
   "id": "8d017834-676a-48af-8c36-3de922d2c2dc",
   "metadata": {},
   "outputs": [
    {
     "name": "stdout",
     "output_type": "stream",
     "text": [
      "4.5\n"
     ]
    }
   ],
   "source": [
    "print(np.mean(a))"
   ]
  },
  {
   "cell_type": "code",
   "execution_count": 67,
   "id": "80d8483e-1351-41ae-8f0e-c357979e07d8",
   "metadata": {},
   "outputs": [
    {
     "name": "stdout",
     "output_type": "stream",
     "text": [
      "4.5\n"
     ]
    }
   ],
   "source": [
    "print(np.median(a))"
   ]
  },
  {
   "cell_type": "code",
   "execution_count": 68,
   "id": "ee2add9a-73d7-42a3-bb4c-aed233ef47f2",
   "metadata": {},
   "outputs": [
    {
     "name": "stdout",
     "output_type": "stream",
     "text": [
      "2.8722813232690143\n"
     ]
    }
   ],
   "source": [
    "print(np.std(a))"
   ]
  },
  {
   "cell_type": "code",
   "execution_count": 69,
   "id": "072895d4-961f-492c-aee9-65af3febd736",
   "metadata": {},
   "outputs": [
    {
     "name": "stdout",
     "output_type": "stream",
     "text": [
      "45\n"
     ]
    }
   ],
   "source": [
    "print(np.sum(a))"
   ]
  },
  {
   "cell_type": "markdown",
   "id": "c470fff6-ae75-435f-86a3-cb17785ed5bc",
   "metadata": {},
   "source": [
    "3. Find the maximum and minimum values in an array and their indices."
   ]
  },
  {
   "cell_type": "code",
   "execution_count": 71,
   "id": "dbef5e7c-8de4-4cb8-b058-0d86f03b24c3",
   "metadata": {},
   "outputs": [
    {
     "name": "stdout",
     "output_type": "stream",
     "text": [
      "9\n"
     ]
    }
   ],
   "source": [
    "print(np.max(a))"
   ]
  },
  {
   "cell_type": "code",
   "execution_count": 72,
   "id": "c3ce5945-b9e0-4ef1-bb22-5048c4770a3f",
   "metadata": {},
   "outputs": [
    {
     "name": "stdout",
     "output_type": "stream",
     "text": [
      "0\n"
     ]
    }
   ],
   "source": [
    "print(np.min(a))"
   ]
  },
  {
   "cell_type": "code",
   "execution_count": 73,
   "id": "5fc85599-8977-4928-aa0f-1d6345cba352",
   "metadata": {},
   "outputs": [
    {
     "name": "stdout",
     "output_type": "stream",
     "text": [
      "9\n"
     ]
    }
   ],
   "source": [
    "print(np.argmax(a))"
   ]
  },
  {
   "cell_type": "code",
   "execution_count": 74,
   "id": "a49d7e30-0f96-4e0f-b65f-200deeaf6294",
   "metadata": {},
   "outputs": [
    {
     "name": "stdout",
     "output_type": "stream",
     "text": [
      "0\n"
     ]
    }
   ],
   "source": [
    "print(np.argmin(a))"
   ]
  },
  {
   "cell_type": "markdown",
   "id": "8c1f469e-7364-49b4-9f47-83cfbde65e06",
   "metadata": {},
   "source": [
    "4. Generate a 1D array of 10 random integers between 1 and 100."
   ]
  },
  {
   "cell_type": "code",
   "execution_count": 76,
   "id": "b2ac3eee-310a-4b3f-a225-16be63e7a41d",
   "metadata": {},
   "outputs": [
    {
     "name": "stdout",
     "output_type": "stream",
     "text": [
      "[54 99 83 36 34 14 68 44 89 67]\n"
     ]
    }
   ],
   "source": [
    "b = np.random.randint(1,100,(10))\n",
    "print(b)"
   ]
  },
  {
   "cell_type": "markdown",
   "id": "fec97c14-c90d-40b4-8c29-8ac39f72b014",
   "metadata": {},
   "source": [
    "5. Create a 3x3 array of random floats."
   ]
  },
  {
   "cell_type": "code",
   "execution_count": 78,
   "id": "6baa552b-a9d1-4291-bef8-407b9b88aaf9",
   "metadata": {},
   "outputs": [
    {
     "name": "stdout",
     "output_type": "stream",
     "text": [
      "[[ 0.36529758 -0.46997722 -1.45401448]\n",
      " [ 0.194521    0.29952588 -0.72883601]\n",
      " [-1.04612942  0.58976682  1.13590777]]\n"
     ]
    }
   ],
   "source": [
    "c = np.random.randn(3,3)\n",
    "print(c)"
   ]
  },
  {
   "cell_type": "markdown",
   "id": "0798309f-62fb-4bf6-8a19-5c9e7b1a5b8f",
   "metadata": {},
   "source": [
    "6. Generate 1000 samples from a normal distribution and compute mean and std."
   ]
  },
  {
   "cell_type": "code",
   "execution_count": 80,
   "id": "9eecf6ce-b899-42a1-b42f-e065e9640ad8",
   "metadata": {},
   "outputs": [
    {
     "name": "stdout",
     "output_type": "stream",
     "text": [
      "[2008 3001 1785 3767 3004 2506 1523  549  979  794 1764 4542  147 1263\n",
      " 4013 3486 1665 1586  228 1472 1730 2524  229 1559 3173 2596  588 1992\n",
      " 1010 3719  806 1857   67 4299 3432 2075 1949 1253 3878  902 2552 4723\n",
      " 4792 1633 4079 3578 4461 2789 2478  586 1687 2462  316 2985 1777 4601\n",
      " 4288 2806 2996 1720  219 2018 2160 2211 3695 3410  678 3095 2526 4460\n",
      " 4329 1291 4626 1791 2337 4757 4506 3660 2261 1355 3156  823 2514 2356\n",
      "  201 2950 4251 2253  860 2773 3599 4873  137 2981 4157 3990 3578  952\n",
      " 3316 2534  969 3892 3926 3035 3505 3822 1851  522 4937 4254  325  965\n",
      " 1730    6 1278 3018  958 2676 2996 4062  188 3244 3580 3680  491 1447\n",
      " 3405 4233 1636 4782 2948 2264 4992 4549 2166 1019 3775 3890 2654 4258\n",
      " 2304 3461 1335  593 3900 1957 1756  351 1489 2338  880 1346  649 2796\n",
      " 1768  740  817 2324  335 2975 2800 4689 4528 4334  532  545 4221 2361\n",
      " 3353 1850 3592  618   54  773 4938  180 3137 2454 2334 1794 3826 4244\n",
      " 4755 2182 1978 1248 4987 1036 1018 2707 2927  184  267 3826 3147 2815\n",
      " 2246  817 1446 1021 2862 4463 2200 4036 2648 2914 1355 1481 2717 4915\n",
      " 4576 4920 1397 2957  878 3918  806 4273  911 3551 1914 4951 4684 1680\n",
      " 2721 3798 4020 2424 1300 4157 3674 3690 1916 3324 2526 2265 4435 2027\n",
      " 1916 3928  563 4265 4133 2524 2034 2971 3736 2155 1953 3828 1410 2968\n",
      " 3835 4156 3039 3825 3778  308 2608 4013 1300  657 4469 3703 3715  278\n",
      " 2246  829  735 3749 2726 3070 2266 4710  113  714 2437 4540  908 2410\n",
      " 4817 2823 3269 3378 1173 1878 3808 3884  476 4161 3092 2637 2604 3141\n",
      "  144 1234 2017 3708 3252 3093 2527  280 3740 4916 4374 4072 1792 1678\n",
      " 3690 3386 3782 3892 3181 4097 4496 2133  430 3714 1985 3696 2675 1318\n",
      "  904 4306 1339 3677 4449 4297  189  115   52 4424   74  589 3529 2448\n",
      "  913 3556 1394 2316  593  307 2910 2912   77 3377 1251 2959 4977  627\n",
      " 2404 1753 2302  328 1850  812 2236 1733 4721 2328 3656 3906 3135 2244\n",
      " 2859 4491  218 4912 1454 2652 3849 4898 2720 2746  887 4768   22 3689\n",
      " 2746 3607 1130 4865  490  231 1807 1757 1015 4085 3227  280 1425 2676\n",
      " 3141 1314 4640 1297 1742 2701 1143  817 2066 4054 3880 2549 4970 4208\n",
      "  965   25  822 2606  719 2283 3160 2944  836 4111 2259 3556  367  428\n",
      " 3413 1612 3930 2890 3076 4695  426 3085 1782 1273 4011 2257 1078  694\n",
      " 3832 3245 4008 2133 2580 4572  623  414 4990 3814 3461  169   87 3558\n",
      " 2710 1442 2627 4838  401 4939   86 1898 1280 2154 2679 4065 2137 3362\n",
      " 1315 1538  143   90  758 1464   35 4713  672  571  856 3296 3545 2857\n",
      "  964 3818 3983  415 1153 3080  829 1253 4201 4539 1691 1932  647   11\n",
      "   57 1997  886 1810 2233 4360 1669  773  609 4805 3961 4618 3797  529\n",
      " 2226 3004 4727  202    4  684 4246 3783 2072 3685 4861 3030 1963 2801\n",
      " 2994  503 3843 2738 1609  305 1547 2180  968 3316 2623 3467 1639 1307\n",
      " 1648  352  958 1859 1325 1589 3318 3462 1197  518 3356 3612 3363 3122\n",
      "   94  121 1446 3408 1255 4049 2124  820 4270 3921 3143 2633  263 4663\n",
      " 1529 4514 1521 3326 3044 2240 4539 3386 3940  156 1220 3934 2621  787\n",
      "  510 3032 1262 4817 4383 1967 3786 2575  103   91 4707 1957 3812 2652\n",
      " 1772 4413 3545 4451 1368 3633 4426  354 1587 1554 1880 2590 3505 2735\n",
      " 2819 2573  976 4892 4380  690 1071 2231 1293 3353 2440 1684   38 2664\n",
      " 1154 2174 1224 1601 4699 3576 1291 1772 3732  432 1121 1378 1365 1487\n",
      " 3095 2097  244 2883  771  420 3690 4998 4098 2202 3628 1257 2563 2584\n",
      " 1196 4520 1526 1949 2469 2865 2682  960 1923 1293 4253 1264 2054 4401\n",
      " 3355 4309  572 1457 1752 3077 1466 3480 2417 4812 2274 1243 3184 3914\n",
      "  159 2386 4145 2055 4881 4105 2963 3309 1798 2653  413  251  682 2706\n",
      " 4522 3177 1492 4611 4576 2352  252 4037 2600 2399 1333 2452 2995 1844\n",
      " 4836 3826 1059 1241  504 2306 1905 1072 4841  449 4962  832 3796  893\n",
      " 3977 2947 1147   62 2069 3114 4613 4286 1418 3439 2320 2062 3643 2327\n",
      " 2071 2813 2958 2989 4425 1818 1772 2555 1460 4179 1263 3981 1346  172\n",
      " 4973 1699 3950  621  556 2497 1385 2471  149 3102 2542 1861 4940 2148\n",
      " 2208 2898 2389 1380 2477 1772 1354 4767 2527 2287  710 3591 1443 3094\n",
      " 4824 4846 4180 1640 4645 2456 2152 4941 4371 2284 3620 2552 2773 1891\n",
      " 1951 1170  229 2529 1888 3291 2409 1751 1027 1313 4315 1456 3677 3669\n",
      " 1344 2604  673 3420 4874 2084 2951 2638 1151  976 3719 3201 2092  531\n",
      " 1529 3223 3641 2623  569 3988  645 3203 2113  441 1824  794 4995 1910\n",
      " 1618 3876 1729 1589  369  704   30 3133 1341 4606 4824 4943 1292 2248\n",
      " 3889 3318 1890 1930 2118 2395 1249 4210 4088 3798 2504  835 3115 4168\n",
      "  376  389 1862 2173 4573 2646  466 1868 2749 3665 1458 3307 1819 1436\n",
      " 4426 2381 2767 1605  576 2734 4649 1620  965 2082 3136 4843 2395 4173\n",
      " 4800 3183  702 1925  955 3706 4460 3874 1044 3655 3300  891  302  596\n",
      "  127 4845 4489 4051 2339 4797 3775 4614 2700 3800 4055 4110 3977 4118\n",
      "   35 2159 2249 3108  891  804  687   15  859 4308 4023 2404 3760 3320\n",
      " 4031 2593 1756 2398 3348 3840 2313 3937 3598  492 2505  450 3376 1961\n",
      "  117  481  876  523 3869  942 4953 1525 4954 2308 4521 4924 3198 1071\n",
      " 3805  715 4367 4590 4747  823 3930 2933 3295 3747 1366 2024 1699 2602\n",
      "  558  869 4968 3703 3969 3441 4891 1040 1725 3090 4918 3107 4657 3339\n",
      " 1276  664 1890 1151 2515 1618 1736 4441 1341 3695 1175 3033 1960 2729\n",
      " 1511 4771 4211 2962 3821 3187]\n"
     ]
    }
   ],
   "source": [
    "d = np.random.randint(1,5000,(1000))\n",
    "print(d)"
   ]
  },
  {
   "cell_type": "code",
   "execution_count": 81,
   "id": "1c4cf807-163a-4fc3-bb35-e7986b854c7a",
   "metadata": {},
   "outputs": [
    {
     "name": "stdout",
     "output_type": "stream",
     "text": [
      "2481.864\n"
     ]
    }
   ],
   "source": [
    "print(np.mean(d))"
   ]
  },
  {
   "cell_type": "code",
   "execution_count": 82,
   "id": "e314bc5f-aa1e-403b-8fa6-086adfb8d79d",
   "metadata": {},
   "outputs": [
    {
     "name": "stdout",
     "output_type": "stream",
     "text": [
      "1410.8700973172547\n"
     ]
    }
   ],
   "source": [
    "print(np.std(d))"
   ]
  },
  {
   "cell_type": "markdown",
   "id": "0480505c-a513-4b8a-88d8-82060aae4b16",
   "metadata": {},
   "source": [
    "7. Get unique values from an array and their counts."
   ]
  },
  {
   "cell_type": "code",
   "execution_count": 84,
   "id": "cfe681c1-8069-44b3-b6cb-4a236be484ad",
   "metadata": {},
   "outputs": [
    {
     "name": "stdout",
     "output_type": "stream",
     "text": [
      "[11 23 11 45 32 65 78 21 55 65 87 90 21]\n"
     ]
    }
   ],
   "source": [
    "e = np.array([11,23,11,45,32,65,78,21,55,65,87,90,21])\n",
    "print(e)"
   ]
  },
  {
   "cell_type": "code",
   "execution_count": 85,
   "id": "9c11550b-ea09-446a-a116-c06f5cadb909",
   "metadata": {},
   "outputs": [
    {
     "name": "stdout",
     "output_type": "stream",
     "text": [
      "[11 21 23 32 45 55 65 78 87 90]\n"
     ]
    }
   ],
   "source": [
    "print(np.unique(e))"
   ]
  },
  {
   "cell_type": "markdown",
   "id": "f6b2d899-a864-4ff3-bd0d-f7922062efa7",
   "metadata": {},
   "source": [
    "8. Generate a 2D array of shape (5, 5) from a normal distribution with mean=50 and std=10."
   ]
  },
  {
   "cell_type": "code",
   "execution_count": 87,
   "id": "79dd43cf-b65a-41b3-8d99-f4d73d86595e",
   "metadata": {},
   "outputs": [
    {
     "name": "stdout",
     "output_type": "stream",
     "text": [
      "[[ 1  2  3  4  5]\n",
      " [ 6  7  8  9 10]\n",
      " [11 12 13 14 15]\n",
      " [16 17 18 19 20]\n",
      " [21 22 23 24 25]]\n"
     ]
    }
   ],
   "source": [
    "f = np.array([[1,2,3,4,5],[6,7,8,9,10],[11,12,13,14,15],[16,17,18,19,20],[21,22,23,24,25]])\n",
    "print(f)"
   ]
  },
  {
   "cell_type": "code",
   "execution_count": 88,
   "id": "f5ae6e1a-6b36-41ef-908f-0ecb3369dd8b",
   "metadata": {},
   "outputs": [
    {
     "data": {
      "text/plain": [
       "(5, 5)"
      ]
     },
     "execution_count": 88,
     "metadata": {},
     "output_type": "execute_result"
    }
   ],
   "source": [
    "f.shape"
   ]
  },
  {
   "cell_type": "code",
   "execution_count": 89,
   "id": "82f944c7-b0a6-4bf4-be7d-9d80c5ecd42e",
   "metadata": {},
   "outputs": [
    {
     "name": "stdout",
     "output_type": "stream",
     "text": [
      "[[51 52 53 54 55]\n",
      " [56 57 58 59 60]\n",
      " [61 62 63 64 65]\n",
      " [66 67 68 69 70]\n",
      " [71 72 73 74 75]]\n"
     ]
    }
   ],
   "source": [
    "print(f + 50)"
   ]
  },
  {
   "cell_type": "code",
   "execution_count": 90,
   "id": "646cdb34-52ed-4492-bbeb-ac86b294c22b",
   "metadata": {},
   "outputs": [
    {
     "data": {
      "text/plain": [
       "array([[11, 12, 13, 14, 15],\n",
       "       [16, 17, 18, 19, 20],\n",
       "       [21, 22, 23, 24, 25],\n",
       "       [26, 27, 28, 29, 30],\n",
       "       [31, 32, 33, 34, 35]])"
      ]
     },
     "execution_count": 90,
     "metadata": {},
     "output_type": "execute_result"
    }
   ],
   "source": [
    "f + 10"
   ]
  },
  {
   "cell_type": "markdown",
   "id": "0c71184c-ed99-4005-8b45-3a412ef48470",
   "metadata": {},
   "source": [
    "9. create a numpy array of even numbers between 2 and 20"
   ]
  },
  {
   "cell_type": "code",
   "execution_count": 92,
   "id": "b97db918-09d1-4c83-9905-f9178b5e0945",
   "metadata": {},
   "outputs": [
    {
     "data": {
      "text/plain": [
       "array([ 2,  4,  6,  8, 10, 12, 14, 16, 18])"
      ]
     },
     "execution_count": 92,
     "metadata": {},
     "output_type": "execute_result"
    }
   ],
   "source": [
    "even = np.arange(2,20,(2))\n",
    "even"
   ]
  },
  {
   "cell_type": "markdown",
   "id": "e3bce659-9f4c-42fb-b7b4-8c5a4f77cd5c",
   "metadata": {},
   "source": [
    "10. Find the shape, size, and data type of the array a = np.array([[1, 2], [3, 4]])."
   ]
  },
  {
   "cell_type": "code",
   "execution_count": 94,
   "id": "57455c0b-b8eb-497a-8779-c6fe9ec2a883",
   "metadata": {},
   "outputs": [
    {
     "name": "stdout",
     "output_type": "stream",
     "text": [
      "[[1 2]\n",
      " [3 4]]\n"
     ]
    }
   ],
   "source": [
    "a = np.array([[1,2],[3,4]])\n",
    "print(a)"
   ]
  },
  {
   "cell_type": "code",
   "execution_count": 95,
   "id": "7105b92c-5bb0-4057-bdbe-00bb0625b18a",
   "metadata": {},
   "outputs": [
    {
     "data": {
      "text/plain": [
       "(2, 2)"
      ]
     },
     "execution_count": 95,
     "metadata": {},
     "output_type": "execute_result"
    }
   ],
   "source": [
    "a.shape"
   ]
  },
  {
   "cell_type": "code",
   "execution_count": 96,
   "id": "79c483ce-1fe7-4015-8ccc-3d7e96c3e8e2",
   "metadata": {},
   "outputs": [
    {
     "data": {
      "text/plain": [
       "4"
      ]
     },
     "execution_count": 96,
     "metadata": {},
     "output_type": "execute_result"
    }
   ],
   "source": [
    "a.size"
   ]
  },
  {
   "cell_type": "code",
   "execution_count": 97,
   "id": "27716dce-0080-4c10-88e3-f59019f8cb49",
   "metadata": {},
   "outputs": [
    {
     "data": {
      "text/plain": [
       "dtype('int32')"
      ]
     },
     "execution_count": 97,
     "metadata": {},
     "output_type": "execute_result"
    }
   ],
   "source": [
    "a.dtype"
   ]
  },
  {
   "cell_type": "markdown",
   "id": "c0bf4937-2a25-46af-98ff-1b85e4e9479f",
   "metadata": {},
   "source": [
    "11. Generate a 1D array of 5 random numbers between 0 and 1."
   ]
  },
  {
   "cell_type": "code",
   "execution_count": 99,
   "id": "7839fa3b-5a01-4886-a045-f9bd6279d792",
   "metadata": {},
   "outputs": [
    {
     "name": "stdout",
     "output_type": "stream",
     "text": [
      "[0 0 0 0 0]\n"
     ]
    }
   ],
   "source": [
    "g = np.random.randint(0,1,(5))\n",
    "print(g)"
   ]
  },
  {
   "cell_type": "code",
   "execution_count": 100,
   "id": "1710dab7-03f1-4411-89b8-85676f2ef4c2",
   "metadata": {},
   "outputs": [],
   "source": [
    "g = np.random.rand(5)"
   ]
  },
  {
   "cell_type": "code",
   "execution_count": 101,
   "id": "5ff9b246-5128-4329-9ccf-217d7bf8f8e3",
   "metadata": {},
   "outputs": [
    {
     "data": {
      "text/plain": [
       "array([0.52736388, 0.44264532, 0.55491352, 0.99861918, 0.66864486])"
      ]
     },
     "execution_count": 101,
     "metadata": {},
     "output_type": "execute_result"
    }
   ],
   "source": [
    "g"
   ]
  },
  {
   "cell_type": "markdown",
   "id": "45300041-4260-49af-8762-71c1213b8fbc",
   "metadata": {},
   "source": [
    "12. Find the maximum, minimum, and sum of elements in the array [5, 8, 2, 9, 1]."
   ]
  },
  {
   "cell_type": "code",
   "execution_count": 103,
   "id": "84378747-d054-478e-a1e4-02f0afcbe96c",
   "metadata": {},
   "outputs": [
    {
     "name": "stdout",
     "output_type": "stream",
     "text": [
      "[5 8 2 9 1]\n"
     ]
    }
   ],
   "source": [
    "h = np.array([5,8,2,9,1])\n",
    "print(h)"
   ]
  },
  {
   "cell_type": "code",
   "execution_count": 104,
   "id": "f4a28a31-078b-4079-a005-4e2bd5cc85ce",
   "metadata": {},
   "outputs": [
    {
     "name": "stdout",
     "output_type": "stream",
     "text": [
      "9\n"
     ]
    }
   ],
   "source": [
    "print(np.max(h))"
   ]
  },
  {
   "cell_type": "code",
   "execution_count": 105,
   "id": "a91ffb2f-c7e8-40e6-95d5-722c80c71384",
   "metadata": {},
   "outputs": [
    {
     "name": "stdout",
     "output_type": "stream",
     "text": [
      "1\n"
     ]
    }
   ],
   "source": [
    "print(np.min(h))"
   ]
  },
  {
   "cell_type": "code",
   "execution_count": 106,
   "id": "ffa60d41-096d-4e13-89fb-b681dce75a8f",
   "metadata": {},
   "outputs": [
    {
     "name": "stdout",
     "output_type": "stream",
     "text": [
      "25\n"
     ]
    }
   ],
   "source": [
    "print(np.sum(h))"
   ]
  },
  {
   "cell_type": "markdown",
   "id": "db467d40-ffc6-4873-8a23-39a3bc0baea1",
   "metadata": {},
   "source": [
    "13. Get the first 3 elements from the array [10, 20, 30, 40, 50]."
   ]
  },
  {
   "cell_type": "code",
   "execution_count": 108,
   "id": "164f00ee-1fd4-4213-860e-95916ef25246",
   "metadata": {},
   "outputs": [
    {
     "name": "stdout",
     "output_type": "stream",
     "text": [
      "[10 20 30 40 50]\n"
     ]
    }
   ],
   "source": [
    "array1 = np.array([10,20,30,40,50])\n",
    "print(array1)"
   ]
  },
  {
   "cell_type": "code",
   "execution_count": 109,
   "id": "d2b6d745-32a9-47c8-a6be-9569dea099fc",
   "metadata": {},
   "outputs": [
    {
     "data": {
      "text/plain": [
       "array([10, 20, 30])"
      ]
     },
     "execution_count": 109,
     "metadata": {},
     "output_type": "execute_result"
    }
   ],
   "source": [
    "array1[:3]"
   ]
  },
  {
   "cell_type": "markdown",
   "id": "c0b8d2d4-a2c4-45be-bdc6-275b6ddcaa5a",
   "metadata": {},
   "source": [
    "# **Matrix operations**"
   ]
  },
  {
   "cell_type": "code",
   "execution_count": 111,
   "id": "7803b5af-19dc-40b1-9f14-28c902eaf302",
   "metadata": {},
   "outputs": [],
   "source": [
    "import numpy as np"
   ]
  },
  {
   "cell_type": "code",
   "execution_count": 112,
   "id": "d6eb5a67-5805-48a0-9ebe-f24faf386d6a",
   "metadata": {},
   "outputs": [
    {
     "name": "stdout",
     "output_type": "stream",
     "text": [
      "[[3 4]\n",
      " [5 6]]\n",
      "[[10 12]\n",
      " [ 3  6]]\n"
     ]
    }
   ],
   "source": [
    "a = np.array([[3,4],[5,6]]) # matrix 1\n",
    "b = np.array([[10,12],[3,6]]) # matrix 2\n",
    "print(a)\n",
    "print(b)"
   ]
  },
  {
   "cell_type": "code",
   "execution_count": 113,
   "id": "e2933969-c11f-4c4c-8638-dd4f0948e7e5",
   "metadata": {},
   "outputs": [
    {
     "name": "stdout",
     "output_type": "stream",
     "text": [
      "[[13 16]\n",
      " [ 8 12]]\n"
     ]
    }
   ],
   "source": [
    "print(a + b) # addition"
   ]
  },
  {
   "cell_type": "code",
   "execution_count": 114,
   "id": "266eaa5a-5ad6-42c0-a24c-17c5fd73a7aa",
   "metadata": {},
   "outputs": [
    {
     "name": "stdout",
     "output_type": "stream",
     "text": [
      "[[-7 -8]\n",
      " [ 2  0]]\n"
     ]
    }
   ],
   "source": [
    "print(a - b) # subtraction"
   ]
  },
  {
   "cell_type": "code",
   "execution_count": 115,
   "id": "a5cc503b-f32e-41ae-90cd-a2061207477c",
   "metadata": {},
   "outputs": [
    {
     "name": "stdout",
     "output_type": "stream",
     "text": [
      "[[30 48]\n",
      " [15 36]]\n"
     ]
    }
   ],
   "source": [
    "print(a * b) # multiplication"
   ]
  },
  {
   "cell_type": "code",
   "execution_count": 116,
   "id": "4ad2fc2a-8fc8-4b6b-8937-8742d9b4bda3",
   "metadata": {},
   "outputs": [
    {
     "name": "stdout",
     "output_type": "stream",
     "text": [
      "[[42 60]\n",
      " [68 96]]\n"
     ]
    }
   ],
   "source": [
    "print(np.dot(a,b)) # matrix dot product"
   ]
  },
  {
   "cell_type": "code",
   "execution_count": 117,
   "id": "5d217c19-6721-46c1-a979-2e7166a38c9c",
   "metadata": {},
   "outputs": [
    {
     "name": "stdout",
     "output_type": "stream",
     "text": [
      "[[3 5]\n",
      " [4 6]]\n"
     ]
    }
   ],
   "source": [
    "print(a.T) # transpose of a"
   ]
  },
  {
   "cell_type": "code",
   "execution_count": 118,
   "id": "18c98ed7-8320-4da5-a9ab-a9e3d7d5f83e",
   "metadata": {},
   "outputs": [
    {
     "name": "stdout",
     "output_type": "stream",
     "text": [
      "[[10  3]\n",
      " [12  6]]\n"
     ]
    }
   ],
   "source": [
    "print(b.T) # transpose of b"
   ]
  },
  {
   "cell_type": "code",
   "execution_count": 119,
   "id": "14f69d8c-fd43-42bf-bfb2-c938e08ebc39",
   "metadata": {},
   "outputs": [
    {
     "name": "stdout",
     "output_type": "stream",
     "text": [
      "-2.0000000000000004\n"
     ]
    }
   ],
   "source": [
    "from numpy.linalg import det # important to import if using determinant\n",
    "print(det(a)) # matrix determinant"
   ]
  },
  {
   "cell_type": "code",
   "execution_count": 120,
   "id": "7b6df891-dea0-4a2a-82ca-803b21926099",
   "metadata": {},
   "outputs": [
    {
     "name": "stdout",
     "output_type": "stream",
     "text": [
      "Matrix A is: \n",
      " [[1 3]\n",
      " [4 5]]\n",
      "Vector V is: \n",
      " [2 3]\n",
      "Dot product is : \n",
      " [11 23]\n"
     ]
    }
   ],
   "source": [
    "# dot product of matrix and vector\n",
    "A = np.array([[1,3],[4,5]]) # 2D array\n",
    "V = np.array([2,3]) # 1D array\n",
    "\n",
    "print('Matrix A is: \\n',A)\n",
    "print('Vector V is: \\n',V)\n",
    "\n",
    "print('Dot product is : \\n',np.dot(A,V))"
   ]
  },
  {
   "cell_type": "markdown",
   "id": "339e27dd-337d-4443-8e43-66859da899bc",
   "metadata": {},
   "source": [
    "**Random Sampling** : randomly picks values from a given array"
   ]
  },
  {
   "cell_type": "code",
   "execution_count": 122,
   "id": "13f1135d-01da-4415-abc1-825c656da7ea",
   "metadata": {},
   "outputs": [
    {
     "name": "stdout",
     "output_type": "stream",
     "text": [
      "[3 6 1 2 6]\n",
      "[6 4 7 3 5]\n",
      "[1 0]\n",
      "[[4 5]\n",
      " [7 8]]\n",
      "[[6 7 8]\n",
      " [3 4 5]]\n"
     ]
    }
   ],
   "source": [
    "c = np.array([1,2,3,4,5,6,7,8,9,10])\n",
    "d = np.random.choice(c,size = 5)\n",
    "print(d)\n",
    "\n",
    "e = np.array([[3,4,5],[6,7,8]])\n",
    "f = np.random.choice(e.flatten(),size = 5,replace = False) # flatten() - converts 2d array in 1d and replace = False will not repeat any value\n",
    "print(f)\n",
    "\n",
    "# .shape[] selects row randomly\n",
    "r = np.random.choice(e.shape[0], size = 2, replace = False) \n",
    "print(r)\n",
    "\n",
    "# randomly selects column\n",
    "col = np.random.choice(e.shape[1], size = 2, replace = False)\n",
    "print(e[:,col])\n",
    "print(e[r])"
   ]
  },
  {
   "cell_type": "markdown",
   "id": "8525b39a-58ab-49b5-bbf8-3e6417f441dd",
   "metadata": {},
   "source": [
    "**Random shuffling** - change array elements positions randomly"
   ]
  },
  {
   "cell_type": "code",
   "execution_count": 124,
   "id": "1aa30e84-f330-4b35-8b72-02a4318d3ac0",
   "metadata": {},
   "outputs": [
    {
     "name": "stdout",
     "output_type": "stream",
     "text": [
      "[ 2  4  6  8 10]\n",
      "[ 4  2  8  6 10]\n",
      "[[2 4 6]\n",
      " [1 2 3]\n",
      " [7 8 9]]\n",
      "[[1 2 3]\n",
      " [2 4 6]\n",
      " [7 8 9]]\n"
     ]
    }
   ],
   "source": [
    "g = np.array([2,4,6,8,10])\n",
    "print(g)\n",
    "np.random.shuffle(g)\n",
    "print(g)\n",
    "\n",
    "# random shuffling on 2d array\n",
    "h = np.array([[2,4,6],[1,2,3],[7,8,9]])\n",
    "print(h)\n",
    "np.random.shuffle(h)\n",
    "print(h)"
   ]
  },
  {
   "cell_type": "markdown",
   "id": "e4c52298-d41e-45a2-b8e2-2e12bd65bb88",
   "metadata": {},
   "source": [
    "**Comparison in array**"
   ]
  },
  {
   "cell_type": "code",
   "execution_count": 126,
   "id": "f0c179c0-2b4b-4a9e-91dd-35489a65ca83",
   "metadata": {},
   "outputs": [
    {
     "name": "stdout",
     "output_type": "stream",
     "text": [
      "[False False False]\n",
      "[ True  True  True]\n",
      "[False False False]\n",
      "[ True  True  True]\n",
      "[False False False]\n",
      "[ True  True  True]\n"
     ]
    }
   ],
   "source": [
    "i = np.array([1,2,3])\n",
    "j = np.array([4,5,6])\n",
    "print(i == j)\n",
    "print(i != j)\n",
    "print(i >= j)\n",
    "print(i <= j)\n",
    "print(i > j)\n",
    "print(i < j)\n"
   ]
  },
  {
   "cell_type": "markdown",
   "id": "a69380da-cb08-4260-adfe-fb351467d774",
   "metadata": {},
   "source": [
    "# Assignment 3"
   ]
  },
  {
   "cell_type": "markdown",
   "id": "d97cd062-e38f-4c82-a0fa-92965a3aac0f",
   "metadata": {},
   "source": [
    "1. Given two arrays add , subtract , multiply them element - wise"
   ]
  },
  {
   "cell_type": "code",
   "execution_count": 129,
   "id": "f5198d55-df57-42c2-bacc-ab4c982ed586",
   "metadata": {},
   "outputs": [
    {
     "name": "stdout",
     "output_type": "stream",
     "text": [
      "[5 7 9]\n",
      "[-3 -3 -3]\n",
      "[ 4 10 18]\n"
     ]
    }
   ],
   "source": [
    "a = np.array([1,2,3])\n",
    "b = np.array([4,5,6])\n",
    "print(a+b)\n",
    "print(a-b)\n",
    "print(a*b)"
   ]
  },
  {
   "cell_type": "markdown",
   "id": "fe48f929-4678-42e6-8294-10978f7bcc97",
   "metadata": {},
   "source": [
    "2. Create two 2×2 NumPy arrays and perform matrix addition.\n"
   ]
  },
  {
   "cell_type": "code",
   "execution_count": 131,
   "id": "822761ca-95eb-4782-afa4-e0b44ea621e7",
   "metadata": {},
   "outputs": [
    {
     "name": "stdout",
     "output_type": "stream",
     "text": [
      "[[12 10]\n",
      " [ 6  9]]\n",
      "[[ 4 67]\n",
      " [10 31]]\n",
      "[[16 77]\n",
      " [16 40]]\n"
     ]
    }
   ],
   "source": [
    "matrix1 = np.array([[12,10],[6,9]])\n",
    "matrix2 = np.array([[4,67],[10,31]])\n",
    "print(matrix1)\n",
    "print(matrix2)\n",
    "print(matrix1 + matrix2)"
   ]
  },
  {
   "cell_type": "markdown",
   "id": "c10e8cb5-5bdb-4d22-8aa6-be6aa3784ac7",
   "metadata": {},
   "source": [
    "3. Create a 2×3 matrix and a 3×2 matrix, then perform matrix multiplication using NumPy.\n"
   ]
  },
  {
   "cell_type": "code",
   "execution_count": 133,
   "id": "ba7365a7-2f64-43bd-b600-42794e4c3651",
   "metadata": {},
   "outputs": [
    {
     "name": "stdout",
     "output_type": "stream",
     "text": [
      "[[1 2 3]\n",
      " [4 5 6]]\n",
      "[[1 2]\n",
      " [6 5]\n",
      " [9 1]]\n"
     ]
    }
   ],
   "source": [
    "a = np.array([[1,2,3],[4,5,6]])\n",
    "b = np.array([[1,2],[6,5],[9,1]])\n",
    "print(a)\n",
    "print(b)"
   ]
  },
  {
   "cell_type": "code",
   "execution_count": 134,
   "id": "c362d0db-595d-4d53-a636-c11ceac6e181",
   "metadata": {},
   "outputs": [
    {
     "name": "stdout",
     "output_type": "stream",
     "text": [
      "[[40 15]\n",
      " [88 39]]\n"
     ]
    }
   ],
   "source": [
    "print(np.dot(a,b))"
   ]
  },
  {
   "cell_type": "markdown",
   "id": "39756a39-3420-4a46-bc7b-23c82aee22df",
   "metadata": {},
   "source": [
    "4. Create two 3×3 matrices and subtract the second from the first.\n"
   ]
  },
  {
   "cell_type": "code",
   "execution_count": 136,
   "id": "ff17770e-6f19-409a-94ca-bfd3e8cc5967",
   "metadata": {},
   "outputs": [
    {
     "name": "stdout",
     "output_type": "stream",
     "text": [
      "[[[ 1 34 21]\n",
      "  [56 88 10]]]\n",
      "[[[36 12 18]\n",
      "  [56 43 21]]]\n"
     ]
    }
   ],
   "source": [
    "a = np.array([[[1,34,21],[56,88,10]]])\n",
    "b = np.array([[[36,12,18],[56,43,21]]])\n",
    "print(a)\n",
    "print(b)"
   ]
  },
  {
   "cell_type": "code",
   "execution_count": 137,
   "id": "2cc1a2a1-e476-4671-afdc-a914d4986c55",
   "metadata": {},
   "outputs": [
    {
     "name": "stdout",
     "output_type": "stream",
     "text": [
      "[[[-35  22   3]\n",
      "  [  0  45 -11]]]\n"
     ]
    }
   ],
   "source": [
    "print(a-b)"
   ]
  },
  {
   "cell_type": "markdown",
   "id": "6d4b87aa-c690-4f3c-972e-3e4c3c4ba977",
   "metadata": {},
   "source": [
    "5. Create a 1D array with values from 10 to 20. Randomly pick 3 elements without replacement.\n"
   ]
  },
  {
   "cell_type": "code",
   "execution_count": 139,
   "id": "6b9ea1f4-0c74-4712-870a-a5bfdb0b861c",
   "metadata": {},
   "outputs": [
    {
     "name": "stdout",
     "output_type": "stream",
     "text": [
      "[10 11 12 13 14 15 16 17 18 19]\n"
     ]
    }
   ],
   "source": [
    "arr = np.arange(10,20)\n",
    "print(arr)"
   ]
  },
  {
   "cell_type": "code",
   "execution_count": 140,
   "id": "6601e5bb-bbc2-4c84-a991-346b034be90d",
   "metadata": {},
   "outputs": [],
   "source": [
    "r = np.random.choice(arr,size = 3,replace = False)"
   ]
  },
  {
   "cell_type": "code",
   "execution_count": 141,
   "id": "b1b1e1e5-c2fe-4ffc-ac00-0c9ae2f42a92",
   "metadata": {},
   "outputs": [
    {
     "data": {
      "text/plain": [
       "array([17, 16, 11])"
      ]
     },
     "execution_count": 141,
     "metadata": {},
     "output_type": "execute_result"
    }
   ],
   "source": [
    "r"
   ]
  },
  {
   "cell_type": "markdown",
   "id": "494959d6-6002-4b3f-b82c-cba914a2261a",
   "metadata": {},
   "source": [
    "6. Create a 4×3 matrix. Randomly select one of the rows.\n"
   ]
  },
  {
   "cell_type": "code",
   "execution_count": 143,
   "id": "96c15a11-8c8b-4171-87ec-12821b14c22d",
   "metadata": {},
   "outputs": [
    {
     "name": "stdout",
     "output_type": "stream",
     "text": [
      "[[ 1  2  3]\n",
      " [21  4  5]\n",
      " [ 5  7  6]\n",
      " [32  1  7]]\n",
      "[3 2]\n"
     ]
    }
   ],
   "source": [
    "a = np.array([[1,2,3],[21,4,5],[5,7,6],[32,1,7]])\n",
    "print(a)\n",
    "random_row = np.random.choice(a.shape[0],size = 2,replace = False)\n",
    "print(random_row)"
   ]
  },
  {
   "cell_type": "markdown",
   "id": "ecf7d4d9-be42-4a25-993d-74f812fb8977",
   "metadata": {},
   "source": [
    "7. Create an array with values from 1 to 10 and shuffle it in place.\n"
   ]
  },
  {
   "cell_type": "code",
   "execution_count": 145,
   "id": "055ae35c-75b2-4ea3-8fd0-f42e3213e285",
   "metadata": {},
   "outputs": [
    {
     "name": "stdout",
     "output_type": "stream",
     "text": [
      "[1 2 3 4 5 6 7 8 9]\n",
      "[9 2 8 7 6 4 1 5 3]\n"
     ]
    }
   ],
   "source": [
    "a = np.arange(1,10)\n",
    "print(a)\n",
    "np.random.shuffle(a)\n",
    "print(a)"
   ]
  },
  {
   "cell_type": "markdown",
   "id": "9f13477a-266d-4f49-a974-a86b3d6ed4df",
   "metadata": {},
   "source": [
    "8. Create two 2×2 matrices and return a boolean matrix where the first is greater than the second.\n"
   ]
  },
  {
   "cell_type": "code",
   "execution_count": 147,
   "id": "616f5ccf-1e3a-4835-b43a-90529cdbe0f6",
   "metadata": {},
   "outputs": [
    {
     "name": "stdout",
     "output_type": "stream",
     "text": [
      "False\n"
     ]
    }
   ],
   "source": [
    "m1 = ([[1,2],[4,5]])\n",
    "m2 = ([[67,1],[8,10]])\n",
    "print(m1 > m2)"
   ]
  },
  {
   "cell_type": "markdown",
   "id": "3dbd3f49-8bce-4243-9dd4-efabd8cb6cb6",
   "metadata": {},
   "source": [
    "9. Create a 3×3 matrix with random integers (0–20). Count how many elements are greater than 10.\n"
   ]
  },
  {
   "cell_type": "code",
   "execution_count": 149,
   "id": "6b4bc6da-88c8-48d8-be49-8bcd1fb890a4",
   "metadata": {},
   "outputs": [
    {
     "name": "stdout",
     "output_type": "stream",
     "text": [
      "[[ 4 16  2]\n",
      " [10 11  1]\n",
      " [ 8  8 12]]\n"
     ]
    }
   ],
   "source": [
    "m = np.random.randint(0,20,(3,3))\n",
    "print(m)"
   ]
  },
  {
   "cell_type": "code",
   "execution_count": 150,
   "id": "c3f6bae8-7a1b-4d86-aef6-2a90acab2c23",
   "metadata": {},
   "outputs": [
    {
     "name": "stdout",
     "output_type": "stream",
     "text": [
      "[[False  True False]\n",
      " [False  True False]\n",
      " [False False  True]]\n"
     ]
    }
   ],
   "source": [
    "print(m > 10)"
   ]
  },
  {
   "cell_type": "markdown",
   "id": "38db4607-6692-4c22-9b04-c2470793bd9a",
   "metadata": {},
   "source": [
    "10. Convert a 2D array to a 1D array (flatten it)."
   ]
  },
  {
   "cell_type": "code",
   "execution_count": 152,
   "id": "e8215c4d-38ac-453f-b571-b1cd633918ca",
   "metadata": {},
   "outputs": [
    {
     "name": "stdout",
     "output_type": "stream",
     "text": [
      "[[ 1  2]\n",
      " [21  4]\n",
      " [ 5  7]\n",
      " [32  1]]\n",
      "[ 1  4  1  7 32  5 32  5]\n"
     ]
    }
   ],
   "source": [
    "a = np.array([[1,2],[21,4],[5,7],[32,1]])\n",
    "print(a)\n",
    "b = np.random.choice(a.flatten(),size = 8)\n",
    "print(b)"
   ]
  },
  {
   "cell_type": "markdown",
   "id": "83622683-a766-40bb-bbd8-42008403819d",
   "metadata": {},
   "source": [
    "# Permutation\n",
    "- **np.random.permutation** - shuffles the elements of the given range or array Returns a new order\n",
    "- shuffles the elements of a sequence (array or range) to return a new order.\n",
    "- Doesn't change the original elements.\n",
    "\n",
    "- **Algorithm** used by numpy for permutation is\n",
    "  - **Fisher-yates** - for generating random numbers it uses MT19937\n",
    "\n",
    "\n",
    "- np.random.permutation() returns a re-arranged array (it does not affect the original array)\n",
    "\n",
    "\n",
    "- **difference between shuffle and permutation in numpy**\n",
    "1. **In-place modification** - *np.random.shuffle* modifies the original array while *np.random.permutation* returns a new array\n",
    "2. **Return value** - *np.random.shuffle* returns None while *np.random.permutation* returns the shuffled array\n",
    "3. **original array** - *np.random.shuffle* changes the original array while *np.random.permutation* leaves it unchanged\n",
    "4. **usage** - use *np.random.shuffle* for modifying the single array while *np.random.permutation* use for generating multiple shuffled versions\n",
    "\n",
    "**Shuffling columns in numpy**\n",
    "- we use permutation() to shuffle columns in numpy"
   ]
  },
  {
   "cell_type": "code",
   "execution_count": 154,
   "id": "df27604c-bb46-4cd0-8528-29c57dedd661",
   "metadata": {},
   "outputs": [
    {
     "data": {
      "text/plain": [
       "array([ 4,  8,  2,  9,  6, 14, 11, 13,  7,  3,  0,  1,  5, 10, 12])"
      ]
     },
     "execution_count": 154,
     "metadata": {},
     "output_type": "execute_result"
    }
   ],
   "source": [
    "np.random.permutation(15) # generates elements in the given range and shuffles them"
   ]
  },
  {
   "cell_type": "code",
   "execution_count": 155,
   "id": "3861c1ed-cd3c-4d30-b2b3-b94f7d644cf3",
   "metadata": {},
   "outputs": [
    {
     "data": {
      "text/plain": [
       "array([11, 54, 12, 12, 32, 43,  1, 21])"
      ]
     },
     "execution_count": 155,
     "metadata": {},
     "output_type": "execute_result"
    }
   ],
   "source": [
    "a = np.array([12,1,32,12,43,11,54,21])\n",
    "np.random.permutation(a)\n"
   ]
  },
  {
   "cell_type": "code",
   "execution_count": 156,
   "id": "2606273e-3cc7-4c78-b206-d09ffde9522a",
   "metadata": {},
   "outputs": [
    {
     "name": "stdout",
     "output_type": "stream",
     "text": [
      "[[1 2 3]\n",
      " [4 5 6]\n",
      " [7 8 9]]\n",
      "[[1 2 3]\n",
      " [4 5 6]\n",
      " [7 8 9]]\n"
     ]
    }
   ],
   "source": [
    "a = np.array([[1,2,3],\n",
    "             [4,5,6],\n",
    "              [7,8,9]])\n",
    "print(a)\n",
    "\n",
    "# to shuffle columns use np.random.permutation\n",
    "col_shuffle = a[:,np.random.permutation(a.shape[1])]\n",
    "print(col_shuffle)"
   ]
  },
  {
   "cell_type": "markdown",
   "id": "042ad499-5b7f-43ed-a94a-3ed10803fe2e",
   "metadata": {},
   "source": [
    "**np.cumsum()** -  will add first element and next element till last element will print it "
   ]
  },
  {
   "cell_type": "code",
   "execution_count": 158,
   "id": "38c5ad7c-6306-495a-a4f6-b72159e83b92",
   "metadata": {},
   "outputs": [
    {
     "name": "stdout",
     "output_type": "stream",
     "text": [
      "[ 2  4  6  8 10]\n",
      "[ 1  3  6 10 15 21 28 36 45]\n",
      "[[ 1  2  3]\n",
      " [ 5  7  9]\n",
      " [12 15 18]]\n",
      "[[ 1  3  6]\n",
      " [ 4  9 15]\n",
      " [ 7 15 24]]\n"
     ]
    }
   ],
   "source": [
    "a = np.array([2,4,6,8,10])\n",
    "print(a)\n",
    "np.cumsum(a) \n",
    "\n",
    "b = np.array([[1,2,3],\n",
    "             [4,5,6],\n",
    "              [7,8,9]])\n",
    "print(np.cumsum(b)) # returns flattened array\n",
    "\n",
    "print(np.cumsum(b,axis=0)) # columnwise addition\n",
    "print(np.cumsum(b,axis=1)) # row wise addition"
   ]
  },
  {
   "cell_type": "markdown",
   "id": "2fe516b6-00ae-48ca-9dbb-240fe9c39eeb",
   "metadata": {},
   "source": [
    "**np.cumprod** - cumulative product"
   ]
  },
  {
   "cell_type": "code",
   "execution_count": 160,
   "id": "7596bdd1-a2a5-4c99-b334-b0d0c3abae87",
   "metadata": {},
   "outputs": [
    {
     "name": "stdout",
     "output_type": "stream",
     "text": [
      "[ 2  4  6  8 10]\n"
     ]
    },
    {
     "data": {
      "text/plain": [
       "array([   2,    8,   48,  384, 3840])"
      ]
     },
     "execution_count": 160,
     "metadata": {},
     "output_type": "execute_result"
    }
   ],
   "source": [
    "a = np.array([2,4,6,8,10])\n",
    "print(a)\n",
    "np.cumprod(a)"
   ]
  },
  {
   "cell_type": "code",
   "execution_count": 161,
   "id": "cf639d21-ba07-41ec-86a6-fe4d2e4dd4fc",
   "metadata": {},
   "outputs": [
    {
     "name": "stdout",
     "output_type": "stream",
     "text": [
      "[     1      2      6     24    120    720   5040  40320 362880]\n",
      "[[  1   2   6]\n",
      " [  4  20 120]\n",
      " [  7  56 504]]\n",
      "[[  1   2   3]\n",
      " [  4  10  18]\n",
      " [ 28  80 162]]\n"
     ]
    }
   ],
   "source": [
    "b = np.array([[1,2,3],\n",
    "             [4,5,6],\n",
    "              [7,8,9]])\n",
    "print(np.cumprod(b))\n",
    "\n",
    "print(np.cumprod(b,axis=1)) # row wise multiplication\n",
    "\n",
    "print(np.cumprod(b,axis=0)) # column wise multiplication"
   ]
  },
  {
   "cell_type": "markdown",
   "id": "d4e28d83-856b-4d52-9ed5-2a32116c79df",
   "metadata": {},
   "source": [
    "# logical conditions in numpy"
   ]
  },
  {
   "cell_type": "code",
   "execution_count": 163,
   "id": "778faba9-855f-4216-bbb3-741b1fc054ed",
   "metadata": {},
   "outputs": [
    {
     "name": "stdout",
     "output_type": "stream",
     "text": [
      "[False False  True  True  True  True]\n",
      "[ True  True  True  True  True  True]\n",
      "[ True  True False False False False]\n"
     ]
    }
   ],
   "source": [
    "a = np.array([1,2,3,4,5,6])\n",
    "print(np.logical_and(a>2,a<10)) # returns true only if both the conditions are true\n",
    "print(np.logical_or(a>2,a<10)) # returns true even if one condition is true\n",
    "print(np.logical_not(a>2)) # returns the inverse output if true -  it will return false, if false it will return true"
   ]
  },
  {
   "cell_type": "code",
   "execution_count": 164,
   "id": "4368bbd4-d291-4a28-8e68-77a42dfeb19e",
   "metadata": {},
   "outputs": [
    {
     "data": {
      "text/plain": [
       "True"
      ]
     },
     "execution_count": 164,
     "metadata": {},
     "output_type": "execute_result"
    }
   ],
   "source": [
    "np.any(a>5) # returns true only if any element meet the specified condition"
   ]
  },
  {
   "cell_type": "code",
   "execution_count": 165,
   "id": "90fce45a-8d9b-4bd4-9848-56d93930d8b1",
   "metadata": {},
   "outputs": [
    {
     "data": {
      "text/plain": [
       "True"
      ]
     },
     "execution_count": 165,
     "metadata": {},
     "output_type": "execute_result"
    }
   ],
   "source": [
    "np.all(a<10) # returns true only if all the elements meet the specified condition"
   ]
  },
  {
   "cell_type": "markdown",
   "id": "621a691f-ae0d-4ff5-9cf5-85d3d4981662",
   "metadata": {},
   "source": [
    "**filtering data**\n",
    "- **&** - works same as logical but instead of returning boolean values it returns real values\n",
    "- **|** - works same as logical but instead of returning boolean values it returns real values"
   ]
  },
  {
   "cell_type": "code",
   "execution_count": 167,
   "id": "879e123a-2734-4204-8b20-18e546e71e32",
   "metadata": {},
   "outputs": [
    {
     "name": "stdout",
     "output_type": "stream",
     "text": [
      "[4 5 6]\n"
     ]
    }
   ],
   "source": [
    "print(a[(a<10) & (a>3)]) # returns the elements that meets both the specified conditions"
   ]
  },
  {
   "cell_type": "code",
   "execution_count": 168,
   "id": "e1312fe1-9aa6-4213-b6f7-39b5df1087f3",
   "metadata": {},
   "outputs": [
    {
     "name": "stdout",
     "output_type": "stream",
     "text": [
      "[1 2 3 4 5 6]\n"
     ]
    }
   ],
   "source": [
    "print(a[(a<10) | (a>3)]) # returns the element that meets either one of the specified condition"
   ]
  },
  {
   "cell_type": "code",
   "execution_count": 169,
   "id": "f4f0a564-f0e3-468a-a1b4-93efade4b897",
   "metadata": {},
   "outputs": [
    {
     "name": "stdout",
     "output_type": "stream",
     "text": [
      "[1 2 3 4 5]\n"
     ]
    }
   ],
   "source": [
    "print(a[~(a>5)]) # returns the elements which meets the opposite condition of the specified condition"
   ]
  },
  {
   "cell_type": "code",
   "execution_count": 170,
   "id": "cb9fbd13-b24d-4514-ad34-e7bc3df83845",
   "metadata": {},
   "outputs": [
    {
     "name": "stdout",
     "output_type": "stream",
     "text": [
      "(array([3, 4, 5], dtype=int64),)\n"
     ]
    }
   ],
   "source": [
    "print(np.where(a>3)) # returns the indice / index of the elements which meet the specified condition"
   ]
  },
  {
   "cell_type": "code",
   "execution_count": 171,
   "id": "7a57ec30-294b-474c-9f15-17c6fbbaeda9",
   "metadata": {},
   "outputs": [
    {
     "data": {
      "text/plain": [
       "array([25, 65, 30, 40, 50])"
      ]
     },
     "execution_count": 171,
     "metadata": {},
     "output_type": "execute_result"
    }
   ],
   "source": [
    "d = np.array([10,20,30,40,50])\n",
    "e = np.array([25,65,32,76,88])\n",
    "\n",
    "np.where(d > 20, d ,e) # returns the elements based on the condition and the given arrays"
   ]
  },
  {
   "cell_type": "markdown",
   "id": "69481c07-63ee-42dc-8c5c-8ba95e002427",
   "metadata": {},
   "source": [
    "**statistical methods in array**"
   ]
  },
  {
   "cell_type": "code",
   "execution_count": 173,
   "id": "8f91b9d8-96ff-40f7-a854-b42520b8dc3e",
   "metadata": {},
   "outputs": [
    {
     "name": "stdout",
     "output_type": "stream",
     "text": [
      "6.0\n",
      "6.5\n"
     ]
    }
   ],
   "source": [
    "a = np.array([2,4,6,7,9]) # for odd number of elements in array it returns the middle element\n",
    "print(np.median(a))\n",
    "\n",
    "a = np.array([2,4,6,7,9,10]) # for even number of elements in array it return the average of middle elements\n",
    "print(np.median(a))\n",
    "\n"
   ]
  },
  {
   "cell_type": "code",
   "execution_count": 174,
   "id": "f1312735-aeb0-4ac1-8aca-5170cb44cfec",
   "metadata": {},
   "outputs": [
    {
     "name": "stdout",
     "output_type": "stream",
     "text": [
      "5.5\n",
      "[[2 4 5]\n",
      " [6 7 8]]\n",
      "[4. 7.]\n",
      "[4.  5.5 6.5]\n"
     ]
    }
   ],
   "source": [
    "c = np.array([[2,4,5],[6,7,8]])\n",
    "print(np.median(c))\n",
    "print(c)\n",
    "print(np.median(c,axis=1)) # returns median of each row\n",
    "print(np.median(c,axis=0)) # returns median of each column"
   ]
  },
  {
   "cell_type": "code",
   "execution_count": 175,
   "id": "0567a4ad-32c7-4c93-8252-93093b722b19",
   "metadata": {},
   "outputs": [
    {
     "name": "stdout",
     "output_type": "stream",
     "text": [
      "2.75\n",
      "3.1\n"
     ]
    }
   ],
   "source": [
    "# np.percentile()\n",
    "\n",
    "a = np.array([1,2,3,4,5,6,7,8])\n",
    "print(np.percentile(a,25))\n",
    "print(np.percentile(a,30))"
   ]
  },
  {
   "cell_type": "code",
   "execution_count": 176,
   "id": "1f9e8760-a62a-44be-9973-48d5a9603010",
   "metadata": {},
   "outputs": [
    {
     "name": "stdout",
     "output_type": "stream",
     "text": [
      "2.75\n",
      "4.5\n",
      "6.25\n"
     ]
    }
   ],
   "source": [
    "# np.quartile\n",
    "print(np.quantile(a,0.25))\n",
    "print(np.quantile(a,0.50))\n",
    "print(np.quantile(a,0.75))"
   ]
  },
  {
   "cell_type": "code",
   "execution_count": 177,
   "id": "be5121ed-b3f3-4e57-bcb8-c1bde32f41ec",
   "metadata": {},
   "outputs": [
    {
     "name": "stdout",
     "output_type": "stream",
     "text": [
      "using percentile\n",
      "4.25\n",
      "5.5\n",
      "6.75\n",
      "using quantile\n",
      "4.25\n",
      "5.5\n",
      "6.75\n",
      "using percentile\n",
      "for row\n",
      "[3.  6.5]\n",
      "[4. 7.]\n",
      "[4.5 7.5]\n",
      "for column\n",
      "[3.   4.75 5.75]\n",
      "[4.  5.5 6.5]\n",
      "[5.   6.25 7.25]\n",
      "using quantile\n",
      "for row\n",
      "[3.  6.5]\n",
      "[4. 7.]\n",
      "[4.5 7.5]\n",
      "for column\n",
      "[3.   4.75 5.75]\n",
      "[4.  5.5 6.5]\n",
      "[5.   6.25 7.25]\n"
     ]
    }
   ],
   "source": [
    "c = np.array([[2,4,5],[6,7,8]])\n",
    "print('using percentile')\n",
    "print(np.percentile(c,25))\n",
    "print(np.percentile(c,50))\n",
    "print(np.percentile(c,75))\n",
    "print('using quantile')\n",
    "print(np.quantile(c,0.25))\n",
    "print(np.quantile(c,0.50))\n",
    "print(np.quantile(c,0.75))\n",
    "\n",
    "print('using percentile')\n",
    "print('for row')\n",
    "print(np.percentile(c,25,axis=1))\n",
    "print(np.percentile(c,50,axis=1))\n",
    "print(np.percentile(c,75,axis=1))\n",
    "\n",
    "print('for column')\n",
    "print(np.percentile(c,25,axis=0))\n",
    "print(np.percentile(c,50,axis=0))\n",
    "print(np.percentile(c,75,axis=0))\n",
    "print('using quantile')\n",
    "print('for row')\n",
    "print(np.quantile(c,0.25,axis=1))\n",
    "print(np.quantile(c,0.50,axis=1))\n",
    "print(np.quantile(c,0.75,axis=1))\n",
    "print('for column')\n",
    "print(np.quantile(c,0.25,axis=0))\n",
    "print(np.quantile(c,0.50,axis=0))\n",
    "print(np.quantile(c,0.75,axis=0))\n"
   ]
  },
  {
   "cell_type": "code",
   "execution_count": 178,
   "id": "5c127cbe-0a9f-4347-be4c-73ea46b39fc6",
   "metadata": {},
   "outputs": [
    {
     "name": "stdout",
     "output_type": "stream",
     "text": [
      "5.25\n",
      "[1.55555556 0.66666667]\n",
      "[4.   2.25 2.25]\n",
      "1.9720265943665387\n"
     ]
    }
   ],
   "source": [
    "# np.var() - dispersion/spread of the data points\n",
    "\n",
    "print(np.var(a))\n",
    "print(np.var(c,axis=1))\n",
    "print(np.var(c,axis=0))\n",
    "print(np.std(c))"
   ]
  },
  {
   "cell_type": "markdown",
   "id": "940af077-5857-494d-8d20-edf64995eef9",
   "metadata": {},
   "source": [
    "1. Given arr = np.array([1, 2, 3, 4]),shuffle the array without modifying the original."
   ]
  },
  {
   "cell_type": "code",
   "execution_count": 180,
   "id": "83acd1cd-af09-4214-b813-bec9cb315861",
   "metadata": {},
   "outputs": [
    {
     "name": "stdout",
     "output_type": "stream",
     "text": [
      "[1 2 3 4]\n",
      "[3 2 1 4]\n"
     ]
    }
   ],
   "source": [
    "arr = np.array([1,2,3,4])\n",
    "print(arr)\n",
    "print(np.random.permutation(arr))"
   ]
  },
  {
   "cell_type": "markdown",
   "id": "f98d4206-5328-4021-9fa2-5a877b0b68b4",
   "metadata": {},
   "source": [
    "2. Write a program to:\n",
    "- Create an array of numbers from 1 to 10.\n",
    "- Generate a new array that is a randomly permuted version of the original.\n",
    "- Print both arrays to show that the original is unchanged."
   ]
  },
  {
   "cell_type": "code",
   "execution_count": 182,
   "id": "75389fa8-cb85-4377-afa2-cc04fd271883",
   "metadata": {},
   "outputs": [
    {
     "name": "stdout",
     "output_type": "stream",
     "text": [
      "unchanged array =  [1 2 3 4 5 6 7 8 9]\n",
      "shuffled array [7 6 2 1 3 4 5 9 8]\n"
     ]
    }
   ],
   "source": [
    "# create array of numbers between 1 to 10\n",
    "a = np.arange(1,10)\n",
    "arr = np.random.permutation(a)\n",
    "print('unchanged array = ',a)\n",
    "print('shuffled array',arr)"
   ]
  },
  {
   "cell_type": "markdown",
   "id": "76269de3-ae32-4484-bd44-c5eabc4caa53",
   "metadata": {},
   "source": [
    "3. Write a program that:\n",
    "- Takes a 1D NumPy array of positive integers.\n",
    "- Calculates and prints:\n",
    "- The cumulative sum (np.cumsum)\n",
    "- The cumulative product (np.cumprod)"
   ]
  },
  {
   "cell_type": "code",
   "execution_count": 184,
   "id": "f86647fa-5a90-4a05-97a1-45b5a8f8c252",
   "metadata": {},
   "outputs": [
    {
     "name": "stdout",
     "output_type": "stream",
     "text": [
      "[11 23 14 23 21  6  4  8  1]\n",
      "cumulative sum of array =  [ 11  34  48  71  92  98 102 110 111]\n",
      "cumulative product of array =  [       11       253      3542     81466   1710786  10264716  41058864\n",
      " 328470912 328470912]\n"
     ]
    }
   ],
   "source": [
    "a = np.array([11,23,14,23,21,6,4,8,1])\n",
    "print(a)\n",
    "print('cumulative sum of array = ',np.cumsum(a))\n",
    "print('cumulative product of array = ',np.cumprod(a))"
   ]
  },
  {
   "cell_type": "markdown",
   "id": "6ce3ec34-b7f1-4562-9254-08f98878bf4c",
   "metadata": {},
   "source": [
    "4. Take a 3D array, Write a program to compute:\n",
    "- Cumulative sum along axis 0\n",
    "- Cumulative product along axis 1"
   ]
  },
  {
   "cell_type": "code",
   "execution_count": 186,
   "id": "c45c4245-561d-4bb1-b34e-4a72f2f747aa",
   "metadata": {},
   "outputs": [
    {
     "name": "stdout",
     "output_type": "stream",
     "text": [
      "[[[1 2 3]\n",
      "  [4 5 6]\n",
      "  [7 8 9]]]\n",
      "cumulative sum along axis 0 =  [[[1 2 3]\n",
      "  [4 5 6]\n",
      "  [7 8 9]]]\n",
      "cumulative product along axis 1 =  [[[  1   2   3]\n",
      "  [  4  10  18]\n",
      "  [ 28  80 162]]]\n"
     ]
    }
   ],
   "source": [
    "a = np.array([[[1,2,3],[4,5,6],[7,8,9]]])\n",
    "print(a)\n",
    "print('cumulative sum along axis 0 = ',np.cumsum(a,axis = 0))\n",
    "print('cumulative product along axis 1 = ',np.cumprod(a,axis = 1))\n"
   ]
  },
  {
   "cell_type": "markdown",
   "id": "b1188374-57db-4aca-b929-3f5777833cae",
   "metadata": {},
   "source": [
    "5. Take an array of student scores and Write a program to:\n",
    "- Print all scores greater than 60 and less than 85.\n",
    "- Replace all scores less than 50 with 0 using logical indexing."
   ]
  },
  {
   "cell_type": "code",
   "execution_count": 188,
   "id": "68f3858a-cc5e-4337-b809-8030067faf0e",
   "metadata": {},
   "outputs": [
    {
     "name": "stdout",
     "output_type": "stream",
     "text": [
      "[67 72 66]\n"
     ]
    }
   ],
   "source": [
    "arr = np.array([67,60,72,66,34,21,98])\n",
    "print(arr[(arr < 85) & (arr > 60 )])"
   ]
  },
  {
   "cell_type": "code",
   "execution_count": 189,
   "id": "122e9d0d-951b-4544-b3bf-45e93baf226e",
   "metadata": {},
   "outputs": [
    {
     "name": "stdout",
     "output_type": "stream",
     "text": [
      "replaced with 0  [67 60 72 66  0  0 98]\n"
     ]
    }
   ],
   "source": [
    "arr[arr < 50] = 0\n",
    "print('replaced with 0 ',arr)"
   ]
  },
  {
   "cell_type": "markdown",
   "id": "8447f90e-de84-4612-81d8-68e9991edd57",
   "metadata": {},
   "source": [
    "6. Take an array a = [12,15,16,22,21,35,65,70,85,100,40]. Write a program to:\n",
    "- Compute the median\n",
    "- Compute the 25th, 50th, and 75th percentiles\n",
    "- Compute the 0.1, 0.5, and 0.9 quantiles"
   ]
  },
  {
   "cell_type": "code",
   "execution_count": 191,
   "id": "2bef969b-45de-419a-9e69-188269c2fea7",
   "metadata": {},
   "outputs": [
    {
     "name": "stdout",
     "output_type": "stream",
     "text": [
      "[ 12  15  16  22  21  35  65  70  85 100  40]\n",
      "median of given array =  35.0\n",
      "percentile : \n",
      "25th percentile =  18.5\n",
      "50th percentile =  35.0\n",
      "75th percentile =  67.5\n",
      "Quantiles : \n",
      "15.0\n",
      "35.0\n",
      "85.0\n"
     ]
    }
   ],
   "source": [
    "a = np.array([12,15,16,22,21,35,65,70,85,100,40])\n",
    "print(a)\n",
    "print('median of given array = ',np.median(a))\n",
    "print('percentile : ')\n",
    "print('25th percentile = ',np.percentile(a,25))\n",
    "print('50th percentile = ',np.percentile(a,50))\n",
    "print('75th percentile = ',np.percentile(a,75))\n",
    "print('Quantiles : ')\n",
    "print(np.quantile(a,0.1))\n",
    "print(np.quantile(a,0.5))\n",
    "print(np.quantile(a,0.9))"
   ]
  },
  {
   "cell_type": "markdown",
   "id": "20c99dfc-25d5-42ec-bfa6-b811fbe42763",
   "metadata": {},
   "source": [
    "# Histogram\n",
    "- histogram indicates how often different values appear in a dataset. It divides the data into bins (**ranges**). It count how many values fall into each bins.\n",
    "- fewer (less) bins represent broader range but less details whereas more bins represent narrow ranges but more details"
   ]
  },
  {
   "cell_type": "code",
   "execution_count": 339,
   "id": "564f5ce3-46ff-45da-aebb-8d54c8c4a410",
   "metadata": {},
   "outputs": [
    {
     "data": {
      "text/plain": [
       "array([ 0.,  1.,  2.,  3.,  4.,  5.,  6.,  7.,  8.,  9., 10.])"
      ]
     },
     "execution_count": 339,
     "metadata": {},
     "output_type": "execute_result"
    }
   ],
   "source": [
    "d = np.array([0,2,4,6,8,8,7,8,8,5,4,1,9,10])\n",
    "np.histogram(d,bins='auto')\n",
    "\n",
    "\"\"\"\n",
    "np.histogram_bin_edges - return the bins edges(range boundries) used in histogram for the given array\n",
    "\n",
    "bins = \"auto\" uses houristics method to choose the number of bins. It select between\n",
    "1.struges' rule\n",
    "2.FD(freedman - Diaconis) rule.\n",
    "it select the rule based on the which return fewer bins(to avoid overfitting / noise)\n",
    "\"\"\"\n",
    "\n",
    "np.histogram_bin_edges(d)"
   ]
  },
  {
   "cell_type": "markdown",
   "id": "2a29538b-1364-4586-9696-a1e47f983487",
   "metadata": {},
   "source": [
    "# Correlation\n",
    "- **use correlate()** -computes the cross correlation of two 1-D sequence. deault mode is valid mode\n",
    "\n",
    "**correlation mode**\n",
    "\n",
    "a = [2,4,6]\n",
    "1. valid = 2X3+4X4+6X6 -> one element only\n",
    "2. same\n",
    "3. full"
   ]
  },
  {
   "cell_type": "code",
   "execution_count": 371,
   "id": "6ff388bb-4280-4362-952b-7785a958b972",
   "metadata": {},
   "outputs": [
    {
     "name": "stdout",
     "output_type": "stream",
     "text": [
      "full mode [ 24  42  55  97 135 104  94  99  40]\n",
      "Same mode [ 55  97 135 104  94]\n",
      "valid mode [135]\n"
     ]
    }
   ],
   "source": [
    "a = np.array([4,5,6,7,8])\n",
    "b = np.array([5,8,1,3,6])\n",
    "print('full mode',np.correlate(a,b,mode='full'))\n",
    "print('Same mode',np.correlate(a,b,mode='same'))\n",
    "print('valid mode',np.correlate(a,b))"
   ]
  },
  {
   "cell_type": "markdown",
   "id": "0c81d932-d93b-4b8d-afa2-871847187ce1",
   "metadata": {},
   "source": [
    "# nan methods\n",
    "- nan stands for **not a number**\n",
    "- by default data types is float"
   ]
  },
  {
   "cell_type": "code",
   "execution_count": 355,
   "id": "5d599401-65e2-4d9b-aadd-cac0d509d320",
   "metadata": {},
   "outputs": [
    {
     "name": "stdout",
     "output_type": "stream",
     "text": [
      "[ 2.  1. nan  7. nan]\n",
      "checking for missing values :  [False False  True False  True]\n",
      "checking for total number of missing values  2\n",
      "checking for infinite values =  [False False False False False]\n",
      "checking for total number of infinite  0\n",
      "checking for finite values =  [ True  True False  True False]\n",
      "checking for total number of finite  3\n",
      "10.0\n",
      "3.3333333333333335\n",
      "2.6246692913372702\n",
      "6.888888888888888\n",
      "2.0\n",
      "[2. 1. 1. 7. 1.]\n",
      "[ 10.  20.  nan  inf  50.  nan  70.  80. -inf]\n",
      "NaN to sum without specifying any values :  [ 1.00000000e+001  2.00000000e+001  0.00000000e+000  1.79769313e+308\n",
      "  5.00000000e+001  0.00000000e+000  7.00000000e+001  8.00000000e+001\n",
      " -1.79769313e+308]\n",
      "NaN to sum with specifying any values :  [10. 20.  1. 12. 50.  1. 70. 80. 15.]\n",
      "[ True  True False  True  True False  True  True  True]\n",
      "[ True  True  True False  True  True  True  True False]\n",
      "[ True  True  True False  True  True  True  True  True]\n",
      "[ True  True  True  True  True  True  True  True False]\n",
      "[False False  True  True False  True False False  True]\n"
     ]
    }
   ],
   "source": [
    "# l.np.nan()\n",
    "a = np.array([2,1,np.nan,7,np.nan])\n",
    "print(a)\n",
    "\n",
    "# isnan() - return boolean values for each nan values. it will return true\n",
    "print('checking for missing values : ',np.isnan(a))\n",
    "print('checking for total number of missing values ',np.isnan(a).sum())\n",
    "\n",
    "# np.isinf() - check for infinites values in the array range is - infinity to +inifinity\n",
    "print('checking for infinite values = ',np.isinf(a))\n",
    "print('checking for total number of infinite ',np.isinf(a).sum())\n",
    "\n",
    "# isfinite() - checks for finite values in the array\n",
    "print('checking for finite values = ',np.isfinite(a))\n",
    "print('checking for total number of finite ',np.isfinite(a).sum())\n",
    "\n",
    "print(np.nansum(a))\n",
    "print(np.nanmean(a))\n",
    "print(np.nanstd(a))\n",
    "print(np.nanvar(a))\n",
    "print(np.nanmedian(a))\n",
    "\n",
    "# handling missing value\n",
    "# np.nan_to_num() - replace nan with the specified value. if the value isnt specified it replace it with default\n",
    "print(np.nan_to_num(a, nan=1))\n",
    "\n",
    "b = np.array([10,20,np.nan,np.inf,50,np.nan,70,80,-np.inf])\n",
    "print(b)\n",
    "print('NaN to sum without specifying any values : ',np.nan_to_num(b))\n",
    "print('NaN to sum with specifying any values : ',np.nan_to_num(b,nan=1,posinf=12,neginf=15))\n",
    "\n",
    "# filtering nan values\n",
    "c = np.array([10,20,np.nan,np.inf,50,np.nan,70,80,-np.inf])\n",
    "print(~np.isnan(c)) # filter out nan values\n",
    "print(~np.isinf(c)) # filter out infinite values\n",
    "print(~np.isposinf(c)) # filter out positive infinite\n",
    "print(~np.isneginf(c)) # filter out neative infinite\n",
    "print(~np.isfinite(c)) # filter out finite values"
   ]
  },
  {
   "cell_type": "markdown",
   "id": "129c7aa5-ae6a-4c34-bbf2-48dc514a8b60",
   "metadata": {},
   "source": [
    "- **np.convolve()** : blends two sequences together by sliding them one over the other, multiplying and adding them up to make new sequence.\n",
    "- **modes**\n",
    "1. valid\n",
    "2. same\n",
    "3. full"
   ]
  },
  {
   "cell_type": "code",
   "execution_count": 381,
   "id": "859eff52-7c9c-4eed-829d-5bfd580fc5e2",
   "metadata": {},
   "outputs": [
    {
     "name": "stdout",
     "output_type": "stream",
     "text": [
      "full mode convolve [ 20  57  74 100 141 119  65  66  48]\n",
      "Same mode convolve [ 74 100 141 119  65]\n",
      "valid mode convolve  [141]\n"
     ]
    }
   ],
   "source": [
    "# convolve - computes discrete linear convolution of two sequences\n",
    "print('full mode convolve',np.convolve(a,b,mode='full'))\n",
    "print('Same mode convolve',np.convolve(a,b,mode='same'))\n",
    "print('valid mode convolve ',np.convolve(a,b,mode='valid'))"
   ]
  },
  {
   "cell_type": "markdown",
   "id": "dcc5b15d-7d74-48b8-8923-1738b40d435a",
   "metadata": {},
   "source": [
    "**covariance**"
   ]
  },
  {
   "cell_type": "code",
   "execution_count": 10,
   "id": "7572e201-c159-4eee-b7de-a9dd398cd30d",
   "metadata": {},
   "outputs": [
    {
     "name": "stdout",
     "output_type": "stream",
     "text": [
      "[[2 3]\n",
      " [4 5]\n",
      " [6 7]]\n",
      "Covariance matrix :  [[4. 4.]\n",
      " [4. 4.]]\n"
     ]
    }
   ],
   "source": [
    "a = np.array([[2,3],[4,5],[6,7]])\n",
    "print(a)\n",
    "\n",
    "# co-variance\n",
    "print('Covariance matrix : ',np.cov(a,rowvar=False)) # rowvar - True treats rows as variables and columns as observations.\n",
    "                                                    # If False columns are treated as variables and rows as observations"
   ]
  },
  {
   "cell_type": "markdown",
   "id": "69c33692-7fd5-422f-9da3-0d421851a72e",
   "metadata": {},
   "source": [
    "# Co-variance\n",
    "\n",
    "- covariance indicates how two variables vary together.\n",
    "    - For **positive covariance**, both the variables increase together\n",
    "    - for **negative covariance**, if one increses the other variable decreases\n",
    "    - for **no-zero covariance**, the variables dont vary together\n",
    " \n",
    "- In final covariance matrix , the diagonal values are variance and the off diagonal elements are covariance."
   ]
  },
  {
   "cell_type": "code",
   "execution_count": 63,
   "id": "4eba43bc-d4ed-4a18-948d-2012f83c0e29",
   "metadata": {},
   "outputs": [
    {
     "name": "stdout",
     "output_type": "stream",
     "text": [
      "[ 2  3  4  5  6  7  8  9 12 14 16 18]\n",
      "[[2 4]\n",
      " [5 6]]\n",
      "[[ 2  4 14 16]\n",
      " [ 5  6 18 20]]\n"
     ]
    }
   ],
   "source": [
    "# np.append : to add elements to an existing array\n",
    "a = np.array([2,3,4,5,6,7,8,9])\n",
    "# add 12,14,16,18\n",
    "b = np.append(a,[12,14,16,18])\n",
    "print(b)\n",
    "\n",
    "c = np.array([[2,4],[5,6]])\n",
    "print(c)\n",
    "# add 14,16,18,20\n",
    "d = np.append(c,[[14,16],[18,20]],axis=1)\n",
    "\n",
    "print(d)\n"
   ]
  },
  {
   "cell_type": "code",
   "execution_count": 101,
   "id": "37a3ae1e-485f-467b-9f5e-873f8f8a8484",
   "metadata": {},
   "outputs": [
    {
     "name": "stdout",
     "output_type": "stream",
     "text": [
      "[1 2 3 4]\n",
      "[[1 2 3]\n",
      " [4 1 2]]\n"
     ]
    }
   ],
   "source": [
    "# np.resize() - returns new array based on the specified size. It will repeat elements if the size is larger\n",
    "a = np.array([1,2,3,4])\n",
    "print(a)\n",
    "e = np.resize(a,(2,3))\n",
    "print(e)"
   ]
  },
  {
   "cell_type": "code",
   "execution_count": 103,
   "id": "7d8cb60e-0680-43ee-9c3b-d4ba3983b6e6",
   "metadata": {},
   "outputs": [
    {
     "name": "stdout",
     "output_type": "stream",
     "text": [
      "[[12  3]\n",
      " [ 2  4]\n",
      " [ 5  1]]\n"
     ]
    }
   ],
   "source": [
    "# np.reshape() - changes / modifies the original array, by changing its shape.\n",
    "# manadatory :- the shape must contain the all the element of the array, shape and total number of elements should match\n",
    "# if we use -1 for either dimension it will auto calculate the dimension we can only  use it for 1 dimension\n",
    "b = np.array([12,3,2,4,5,1])\n",
    "print(np.reshape(b,(3,2)))\n"
   ]
  },
  {
   "cell_type": "code",
   "execution_count": null,
   "id": "0c71d627-28d7-4ec4-a2b5-50d366ad5d46",
   "metadata": {},
   "outputs": [],
   "source": []
  }
 ],
 "metadata": {
  "kernelspec": {
   "display_name": "Python 3 (ipykernel)",
   "language": "python",
   "name": "python3"
  },
  "language_info": {
   "codemirror_mode": {
    "name": "ipython",
    "version": 3
   },
   "file_extension": ".py",
   "mimetype": "text/x-python",
   "name": "python",
   "nbconvert_exporter": "python",
   "pygments_lexer": "ipython3",
   "version": "3.12.4"
  }
 },
 "nbformat": 4,
 "nbformat_minor": 5
}
