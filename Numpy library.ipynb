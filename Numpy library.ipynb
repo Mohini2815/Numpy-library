{
 "cells": [
  {
   "cell_type": "code",
   "execution_count": 1,
   "id": "b2080c9d-3965-4255-ad87-bc497d1d740d",
   "metadata": {},
   "outputs": [],
   "source": [
    "import numpy as np"
   ]
  },
  {
   "cell_type": "code",
   "execution_count": 2,
   "id": "434a1c16-26c5-4d25-96df-ea2c15d63509",
   "metadata": {},
   "outputs": [
    {
     "name": "stdout",
     "output_type": "stream",
     "text": [
      "[ 1 23  4  1]\n"
     ]
    }
   ],
   "source": [
    "a = np.array([1,23,4,1]) # creating 1 dimensional array\n",
    "print(a)"
   ]
  },
  {
   "cell_type": "code",
   "execution_count": 3,
   "id": "30fac5a7-ab2f-4023-89f9-4e4726cb27dc",
   "metadata": {},
   "outputs": [
    {
     "data": {
      "text/plain": [
       "(4,)"
      ]
     },
     "execution_count": 3,
     "metadata": {},
     "output_type": "execute_result"
    }
   ],
   "source": [
    "a.shape"
   ]
  },
  {
   "cell_type": "code",
   "execution_count": 4,
   "id": "35c47d89-8503-4aed-90d9-b1087a2b4b3a",
   "metadata": {},
   "outputs": [
    {
     "data": {
      "text/plain": [
       "1"
      ]
     },
     "execution_count": 4,
     "metadata": {},
     "output_type": "execute_result"
    }
   ],
   "source": [
    "a.ndim"
   ]
  },
  {
   "cell_type": "code",
   "execution_count": 5,
   "id": "908f6a41-7c1e-4eeb-a764-93e834af9858",
   "metadata": {},
   "outputs": [
    {
     "name": "stdout",
     "output_type": "stream",
     "text": [
      "[[1 2]\n",
      " [4 5]]\n"
     ]
    }
   ],
   "source": [
    "# creating 2 dimensional array\n",
    "b = np.array([[1,2],[4,5]])\n",
    "print(b)"
   ]
  },
  {
   "cell_type": "code",
   "execution_count": 6,
   "id": "04b6f070-fed4-4416-8377-47638048a08a",
   "metadata": {},
   "outputs": [
    {
     "data": {
      "text/plain": [
       "(2, 2)"
      ]
     },
     "execution_count": 6,
     "metadata": {},
     "output_type": "execute_result"
    }
   ],
   "source": [
    "b.shape"
   ]
  },
  {
   "cell_type": "code",
   "execution_count": 7,
   "id": "dfee4b88-b494-4065-b153-0483e2540917",
   "metadata": {},
   "outputs": [
    {
     "data": {
      "text/plain": [
       "2"
      ]
     },
     "execution_count": 7,
     "metadata": {},
     "output_type": "execute_result"
    }
   ],
   "source": [
    "b.ndim"
   ]
  },
  {
   "cell_type": "code",
   "execution_count": 8,
   "id": "bcd10a65-1059-45f4-b772-0a5d4260f5ba",
   "metadata": {},
   "outputs": [
    {
     "name": "stdout",
     "output_type": "stream",
     "text": [
      "[[[ 2  4]\n",
      "  [ 6  8]\n",
      "  [ 9 10]\n",
      "  [56 43]]]\n"
     ]
    }
   ],
   "source": [
    "# creating 3 dimensional array or tensor\n",
    "c = np.array([[[2,4],[6,8],[9,10],[56,43]]])\n",
    "print(c)"
   ]
  },
  {
   "cell_type": "code",
   "execution_count": 9,
   "id": "b7ea21e0-b47a-4a7a-9acf-672251f310f0",
   "metadata": {},
   "outputs": [
    {
     "name": "stdout",
     "output_type": "stream",
     "text": [
      "(1, 4, 2)\n"
     ]
    }
   ],
   "source": [
    "print(c.shape)"
   ]
  },
  {
   "cell_type": "code",
   "execution_count": 10,
   "id": "c22976e3-be51-4c43-a454-aa75b413f4d4",
   "metadata": {},
   "outputs": [
    {
     "data": {
      "text/plain": [
       "3"
      ]
     },
     "execution_count": 10,
     "metadata": {},
     "output_type": "execute_result"
    }
   ],
   "source": [
    "c.ndim # check which dimensional array is"
   ]
  },
  {
   "cell_type": "markdown",
   "id": "1a5efca7-a44a-4e1e-9bbf-c2fa674bc488",
   "metadata": {},
   "source": [
    "**Structured array**"
   ]
  },
  {
   "cell_type": "code",
   "execution_count": 12,
   "id": "f32cac4b-58ab-4748-a8f8-987ce5acfb08",
   "metadata": {},
   "outputs": [
    {
     "name": "stdout",
     "output_type": "stream",
     "text": [
      "bhargavi\n"
     ]
    }
   ],
   "source": [
    "# creating structured arrays - records are on the form of rows and columns\n",
    "dtype = ([('id','i4'),('name', 'U10'),('marks','f8')])\n",
    "d1 = np.array([(1,\"mohini\",6.7),(2,\"bhargavi\",7.8),(3,\"gauri\",8.9)],dtype=dtype)\n",
    "\n",
    "print(d1['name'][1]) # accessing the feature via column name and row index"
   ]
  },
  {
   "cell_type": "code",
   "execution_count": 13,
   "id": "8203a2c1-1cbc-4c05-ae71-20ff5ceb0669",
   "metadata": {},
   "outputs": [
    {
     "name": "stdout",
     "output_type": "stream",
     "text": [
      "[(1, 'mohini', 6.7) (2, 'bhargavi', 7.8) (3, 'gauri', 8.9)]\n"
     ]
    }
   ],
   "source": [
    "print(d1) # accessing all the elements of the structured array"
   ]
  },
  {
   "cell_type": "code",
   "execution_count": 14,
   "id": "453c6989-f6d8-4d32-b657-c268122234d7",
   "metadata": {},
   "outputs": [
    {
     "name": "stdout",
     "output_type": "stream",
     "text": [
      "[1 2 3]\n",
      "['mohini' 'bhargavi' 'gauri']\n",
      "[6.7 7.8 8.9]\n"
     ]
    }
   ],
   "source": [
    "# accessing the columns in structured array\n",
    "print(d1['id'])\n",
    "print(d1['name'])\n",
    "print(d1['marks'])"
   ]
  },
  {
   "cell_type": "code",
   "execution_count": 15,
   "id": "15a7c609-c78d-43b8-a86b-16a57168866c",
   "metadata": {},
   "outputs": [
    {
     "name": "stdout",
     "output_type": "stream",
     "text": [
      "[('id', '<i4'), ('name', '<U10'), ('marks', '<f8')]\n"
     ]
    }
   ],
   "source": [
    "# will show datatypes of each column\n",
    "print(d1.dtype)"
   ]
  },
  {
   "cell_type": "code",
   "execution_count": 16,
   "id": "acc50337-d528-4108-a08d-3bf26063a6f8",
   "metadata": {},
   "outputs": [
    {
     "data": {
      "text/plain": [
       "array([[0., 0., 0.],\n",
       "       [0., 0., 0.]])"
      ]
     },
     "execution_count": 16,
     "metadata": {},
     "output_type": "execute_result"
    }
   ],
   "source": [
    "# for creating zeros array\n",
    "d = np.zeros((2,3))\n",
    "d"
   ]
  },
  {
   "cell_type": "code",
   "execution_count": 17,
   "id": "c275e7df-e593-484f-93b1-3ce1cfa1d765",
   "metadata": {},
   "outputs": [
    {
     "data": {
      "text/plain": [
       "2"
      ]
     },
     "execution_count": 17,
     "metadata": {},
     "output_type": "execute_result"
    }
   ],
   "source": [
    "d.ndim"
   ]
  },
  {
   "cell_type": "code",
   "execution_count": 18,
   "id": "89bbd368-eef0-4aef-a5ec-6144a2a5f0e4",
   "metadata": {},
   "outputs": [
    {
     "data": {
      "text/plain": [
       "(2, 3)"
      ]
     },
     "execution_count": 18,
     "metadata": {},
     "output_type": "execute_result"
    }
   ],
   "source": [
    "d.shape"
   ]
  },
  {
   "cell_type": "code",
   "execution_count": 19,
   "id": "1f4cb01e-2867-4807-a68a-2bdff4dd4a67",
   "metadata": {},
   "outputs": [
    {
     "name": "stdout",
     "output_type": "stream",
     "text": [
      "[[1. 1. 1. 1. 1.]\n",
      " [1. 1. 1. 1. 1.]\n",
      " [1. 1. 1. 1. 1.]]\n"
     ]
    }
   ],
   "source": [
    "# want to create array have value only 1\n",
    "e = np.ones((3,5))\n",
    "print(e)"
   ]
  },
  {
   "cell_type": "markdown",
   "id": "1596fef4-6f2d-4855-829d-37b1329161ed",
   "metadata": {},
   "source": [
    "**Identity matrix creation**"
   ]
  },
  {
   "cell_type": "code",
   "execution_count": 21,
   "id": "e282a97a-39d8-4f35-a989-ded8321b7bea",
   "metadata": {},
   "outputs": [
    {
     "name": "stdout",
     "output_type": "stream",
     "text": [
      "[[1. 0. 0.]\n",
      " [0. 1. 0.]\n",
      " [0. 0. 1.]]\n"
     ]
    }
   ],
   "source": [
    "f = np.eye(3) # creating identity matrix\n",
    "print(f)"
   ]
  },
  {
   "cell_type": "code",
   "execution_count": 22,
   "id": "0e6d21b9-7b4a-44a3-937e-34f30561f2a1",
   "metadata": {},
   "outputs": [
    {
     "name": "stdout",
     "output_type": "stream",
     "text": [
      "[1 3 5 7 9]\n"
     ]
    }
   ],
   "source": [
    "# creates an array with evenly spaced values specified in range\n",
    "g = np.arange(1,10,2)\n",
    "print(g)"
   ]
  },
  {
   "cell_type": "code",
   "execution_count": 23,
   "id": "09c8b178-cc24-4715-ac02-10b4c3774607",
   "metadata": {},
   "outputs": [
    {
     "name": "stdout",
     "output_type": "stream",
     "text": [
      "[0.  0.5 1.  1.5 2. ]\n"
     ]
    }
   ],
   "source": [
    "# creates array of evenly spaced numbers(specified interval - (displays in float))\n",
    "h = np.linspace(0,2,5) \n",
    "print(h)"
   ]
  },
  {
   "cell_type": "code",
   "execution_count": 24,
   "id": "c53f1f67-5666-4758-99e7-70b9267dd5b4",
   "metadata": {},
   "outputs": [
    {
     "data": {
      "text/plain": [
       "5"
      ]
     },
     "execution_count": 24,
     "metadata": {},
     "output_type": "execute_result"
    }
   ],
   "source": [
    "# specified number of elements\n",
    "h.size"
   ]
  },
  {
   "cell_type": "markdown",
   "id": "b3eda71b-9b59-4f20-a44e-c2033a7b6390",
   "metadata": {},
   "source": [
    "1. create a 2D array of shape(3,4) filled with all ones"
   ]
  },
  {
   "cell_type": "code",
   "execution_count": 26,
   "id": "f3968e94-f01f-4489-b9c2-8de47015339e",
   "metadata": {},
   "outputs": [
    {
     "name": "stdout",
     "output_type": "stream",
     "text": [
      "[[1. 1. 1. 1.]\n",
      " [1. 1. 1. 1.]\n",
      " [1. 1. 1. 1.]]\n"
     ]
    }
   ],
   "source": [
    "m = np.ones((3,4))\n",
    "print(m)"
   ]
  },
  {
   "cell_type": "markdown",
   "id": "2f00ae69-26af-43ce-8ee8-6febd90b8c84",
   "metadata": {},
   "source": [
    "2. create 1D numpy array with values from 10 to 50 with a step of 4"
   ]
  },
  {
   "cell_type": "code",
   "execution_count": 28,
   "id": "6cf11075-fdc8-4c0e-b8cc-e9391cd3f1e9",
   "metadata": {},
   "outputs": [
    {
     "name": "stdout",
     "output_type": "stream",
     "text": [
      "[10 14 18 22 26 30 34 38 42 46]\n"
     ]
    }
   ],
   "source": [
    "n = np.arange(10,50,4)\n",
    "print(n)"
   ]
  },
  {
   "cell_type": "markdown",
   "id": "fc518e92-e56a-4ac8-a9c3-82b9a9e7e7a1",
   "metadata": {},
   "source": [
    "3. create a 4x4 identity matrix"
   ]
  },
  {
   "cell_type": "code",
   "execution_count": 30,
   "id": "25d1959c-ad6c-41ee-bdb8-37d2b4cb647b",
   "metadata": {},
   "outputs": [
    {
     "name": "stdout",
     "output_type": "stream",
     "text": [
      "[[1. 0. 0. 0.]\n",
      " [0. 1. 0. 0.]\n",
      " [0. 0. 1. 0.]\n",
      " [0. 0. 0. 1.]]\n"
     ]
    }
   ],
   "source": [
    "p = np.eye(4)\n",
    "print(p)"
   ]
  },
  {
   "cell_type": "markdown",
   "id": "19f90bbf-bdbd-4b1a-b9c2-c91a2cffed2e",
   "metadata": {},
   "source": [
    "4. create an array with 5 values evenly spaced between 0 and 1"
   ]
  },
  {
   "cell_type": "code",
   "execution_count": 32,
   "id": "2e9d63e6-ea25-460c-9c26-23909bad6da4",
   "metadata": {},
   "outputs": [
    {
     "name": "stdout",
     "output_type": "stream",
     "text": [
      "[0.   0.25 0.5  0.75 1.  ]\n"
     ]
    }
   ],
   "source": [
    "q = np.linspace(0,1,5)\n",
    "print(q)"
   ]
  },
  {
   "cell_type": "markdown",
   "id": "2e5939da-c2c4-48f3-b67d-922edd602c96",
   "metadata": {},
   "source": [
    "5. create a 1d numpy array with values from 10 to 50 with a step of 5"
   ]
  },
  {
   "cell_type": "code",
   "execution_count": 34,
   "id": "9602a1c9-70a0-42f7-9344-803c38d5a9c7",
   "metadata": {},
   "outputs": [
    {
     "name": "stdout",
     "output_type": "stream",
     "text": [
      "[10 15 20 25 30 35 40 45]\n"
     ]
    }
   ],
   "source": [
    "r = np.arange(10,50,5)\n",
    "print(r)"
   ]
  },
  {
   "cell_type": "markdown",
   "id": "bba3ae6f-44a7-4c76-b1ef-5a45e9848641",
   "metadata": {},
   "source": [
    "6. create a 3x3 array with random integers between 10 and 99"
   ]
  },
  {
   "cell_type": "code",
   "execution_count": 36,
   "id": "38fd8249-83b7-4165-a782-d6c13cf7d306",
   "metadata": {},
   "outputs": [
    {
     "ename": "AttributeError",
     "evalue": "'numpy.ndarray' object has no attribute 'arange'",
     "output_type": "error",
     "traceback": [
      "\u001b[1;31m---------------------------------------------------------------------------\u001b[0m",
      "\u001b[1;31mAttributeError\u001b[0m                            Traceback (most recent call last)",
      "Cell \u001b[1;32mIn[36], line 1\u001b[0m\n\u001b[1;32m----> 1\u001b[0m s \u001b[38;5;241m=\u001b[39m np\u001b[38;5;241m.\u001b[39marray(\u001b[38;5;241m3\u001b[39m)\u001b[38;5;241m.\u001b[39marange(\u001b[38;5;241m10\u001b[39m,\u001b[38;5;241m99\u001b[39m)\n",
      "\u001b[1;31mAttributeError\u001b[0m: 'numpy.ndarray' object has no attribute 'arange'"
     ]
    }
   ],
   "source": [
    "s = np.array(3).arange(10,99)"
   ]
  },
  {
   "cell_type": "markdown",
   "id": "66a65420-8ec3-4875-9891-07aea7b44f4a",
   "metadata": {},
   "source": [
    "7. create an array of shape(2,3) filled with zeros and another filled with sevens"
   ]
  },
  {
   "cell_type": "code",
   "execution_count": 84,
   "id": "b3e90a7a-cfb8-4c2e-8f83-09fe2e8bd541",
   "metadata": {},
   "outputs": [
    {
     "name": "stdout",
     "output_type": "stream",
     "text": [
      "[[0. 0. 0.]\n",
      " [0. 0. 0.]]\n"
     ]
    },
    {
     "data": {
      "text/plain": [
       "array(7)"
      ]
     },
     "execution_count": 84,
     "metadata": {},
     "output_type": "execute_result"
    }
   ],
   "source": [
    "s = np.zeros((2,3))\n",
    "print(s)\n",
    "t = np.array((7))\n",
    "t"
   ]
  },
  {
   "cell_type": "markdown",
   "id": "af5677dd-20a7-4833-9f0e-8f2accbef183",
   "metadata": {},
   "source": [
    "8. create an array with values from 1 to 12 and reshape it to a 3x4 matrix"
   ]
  },
  {
   "cell_type": "code",
   "execution_count": 94,
   "id": "b9a4838f-26a5-4d1a-93f7-3c8c537b9ac0",
   "metadata": {},
   "outputs": [
    {
     "name": "stdout",
     "output_type": "stream",
     "text": [
      "[ 1  2  3  4  5  6  7  8  9 10 11 12]\n",
      "[[ 1  2  3  4]\n",
      " [ 5  6  7  8]\n",
      " [ 9 10 11 12]]\n"
     ]
    },
    {
     "data": {
      "text/plain": [
       "(3, 4)"
      ]
     },
     "execution_count": 94,
     "metadata": {},
     "output_type": "execute_result"
    }
   ],
   "source": [
    "t = np.arange(1,13)\n",
    "print(t)\n",
    "# t= np.reshape((3,4))\n",
    "re_shape = t.reshape(3,4)\n",
    "print(re_shape)\n",
    "re_shape.shape"
   ]
  },
  {
   "cell_type": "markdown",
   "id": "fd205e19-3f75-407d-ba50-92976cea6fcc",
   "metadata": {},
   "source": [
    "9. create a 2D array of shape(5,2) and display\n",
    "- number of dimensions\n",
    "- shape\n",
    "- total number of elements\n",
    "- data type"
   ]
  },
  {
   "cell_type": "code",
   "execution_count": 115,
   "id": "0e18af5c-84c1-4d20-a856-e9c3c576cb2c",
   "metadata": {},
   "outputs": [
    {
     "name": "stdout",
     "output_type": "stream",
     "text": [
      "[[2 4]\n",
      " [5 6]\n",
      " [7 6]\n",
      " [8 7]\n",
      " [9 0]]\n"
     ]
    },
    {
     "data": {
      "text/plain": [
       "2"
      ]
     },
     "execution_count": 115,
     "metadata": {},
     "output_type": "execute_result"
    }
   ],
   "source": [
    "arr = np.array([[2,4],[5,6],[7,6],[8,7],[9,0]])\n",
    "print(arr)\n",
    "# number of dimension\n",
    "arr.ndim\n"
   ]
  },
  {
   "cell_type": "code",
   "execution_count": 117,
   "id": "4897099b-5649-429c-8f4a-8e41af184ea6",
   "metadata": {},
   "outputs": [
    {
     "data": {
      "text/plain": [
       "(5, 2)"
      ]
     },
     "execution_count": 117,
     "metadata": {},
     "output_type": "execute_result"
    }
   ],
   "source": [
    "# shape\n",
    "arr.shape"
   ]
  },
  {
   "cell_type": "code",
   "execution_count": 119,
   "id": "ad41413c-4f6e-48c6-b217-4e6244144272",
   "metadata": {},
   "outputs": [
    {
     "data": {
      "text/plain": [
       "10"
      ]
     },
     "execution_count": 119,
     "metadata": {},
     "output_type": "execute_result"
    }
   ],
   "source": [
    "# number of elements\n",
    "arr.size"
   ]
  },
  {
   "cell_type": "code",
   "execution_count": 121,
   "id": "f5f6d207-d2e9-4e6e-b471-25946bb10cef",
   "metadata": {},
   "outputs": [
    {
     "data": {
      "text/plain": [
       "dtype('int32')"
      ]
     },
     "execution_count": 121,
     "metadata": {},
     "output_type": "execute_result"
    }
   ],
   "source": [
    "# datatype\n",
    "arr.dtype"
   ]
  },
  {
   "cell_type": "markdown",
   "id": "1ae3d889-33d6-4531-99cb-8f2e01bc3b6f",
   "metadata": {},
   "source": [
    "10. create a 2D array and access:\n",
    "- the first row\n",
    "- the second column\n",
    "- the last element"
   ]
  },
  {
   "cell_type": "code",
   "execution_count": 128,
   "id": "d65f481c-31b0-4fcc-9354-1b16299f837a",
   "metadata": {},
   "outputs": [
    {
     "name": "stdout",
     "output_type": "stream",
     "text": [
      "[[1 2]\n",
      " [3 4]]\n"
     ]
    }
   ],
   "source": [
    "array_2d = np.array([[1,2],[3,4]])\n",
    "print(array_2d)"
   ]
  },
  {
   "cell_type": "code",
   "execution_count": 156,
   "id": "c18744b2-3248-4ef6-9d3f-d738a2c3202d",
   "metadata": {},
   "outputs": [
    {
     "data": {
      "text/plain": [
       "array([1, 2])"
      ]
     },
     "execution_count": 156,
     "metadata": {},
     "output_type": "execute_result"
    }
   ],
   "source": [
    "# first row\n",
    "array_2d[0]"
   ]
  },
  {
   "cell_type": "code",
   "execution_count": 136,
   "id": "d61575d4-7bb6-4648-add7-4e015eb9b7f7",
   "metadata": {},
   "outputs": [
    {
     "data": {
      "text/plain": [
       "array([3, 4])"
      ]
     },
     "execution_count": 136,
     "metadata": {},
     "output_type": "execute_result"
    }
   ],
   "source": [
    "# second column\n",
    "array_2d[1]"
   ]
  },
  {
   "cell_type": "code",
   "execution_count": 154,
   "id": "f20744ef-681c-4fc5-b139-fa0ba6f871f5",
   "metadata": {},
   "outputs": [
    {
     "data": {
      "text/plain": [
       "4"
      ]
     },
     "execution_count": 154,
     "metadata": {},
     "output_type": "execute_result"
    }
   ],
   "source": [
    "# last element\n",
    "array_2d[(1,1)]"
   ]
  },
  {
   "cell_type": "code",
   "execution_count": null,
   "id": "89bf4e4a-accc-4567-b955-ee07e6b0a3ed",
   "metadata": {},
   "outputs": [],
   "source": []
  }
 ],
 "metadata": {
  "kernelspec": {
   "display_name": "Python 3 (ipykernel)",
   "language": "python",
   "name": "python3"
  },
  "language_info": {
   "codemirror_mode": {
    "name": "ipython",
    "version": 3
   },
   "file_extension": ".py",
   "mimetype": "text/x-python",
   "name": "python",
   "nbconvert_exporter": "python",
   "pygments_lexer": "ipython3",
   "version": "3.12.4"
  }
 },
 "nbformat": 4,
 "nbformat_minor": 5
}
