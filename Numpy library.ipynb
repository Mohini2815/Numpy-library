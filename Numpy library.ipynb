{
 "cells": [
  {
   "cell_type": "markdown",
   "id": "66b7fcce-75bc-4548-b901-3edc9bb714ae",
   "metadata": {},
   "source": [
    "# **Numpy** (numerical python)\n",
    "- It stand for numerical python.\n",
    "- it is used for numerical computation\n",
    "- it provide support for large multi-dimensional arrays and matrices along with a collection of highe-level mathematical function to operates on these arrays.\n",
    "\n",
    "**features of NumPy**\n",
    "1. **supports operation on N-dimensional arrays** - N-dimensional array also known as (n-D array) is a core data structure used in numpy for efficient storage and computation.\n",
    "2. **numpy allows broadcasting** i.e. arithematic operation on arrays of different shapes.\n",
    "3. **numpy also allow vectorization** i.e. eliminating needs for loops during operations on array.\n",
    "4. Numpy provides built-in support for linear algebra, statistics, trigonometry calculation\n",
    "5. numpy can be integrated with other python libraries like pandas, matplotlib, seaborn, scikit learn etc.\n",
    "\n",
    "**Data structure in numpy**\n",
    "\n",
    "- numpy primerily words with single core data structure. n-D array\n",
    "1. **n-dimensional array**\n",
    "- This can be of any (N) dimensions\n",
    "- N-D array can represent vectors (1D array) matrices (2D array) or tensors (3-D array)\n",
    "- N-D array are homogeneous which means all elements value in N-D array must be of same datatype\n",
    "- this array are of fixed size , once created we cannot change size of array\n",
    "\n",
    "2. **Structured array**\n",
    "- These arrays are **heterogeneous** arrays i.e. used to handle , store data of different datatypes similar to SQL, dataframes in pandas\n",
    "- allows accessing fields by name\n",
    "\n",
    "3. **Masked arrays**\n",
    "- These arrays are useful to deal with datasets containing missing values, invalid data or placeholder\n",
    "\n",
    "4. **Metrix**\n",
    "\n",
    "**datatypes used in structured arrays**\n",
    "\n",
    "1. Datatype - ':' or **'i4'** , python datatype equivalent - **int** , example - ('num','i4')\n",
    "2. Datatype - **'U10'** , python datatype equivalent - **str** , example - ('name','U10')\n",
    "3. Datatype - 'f' or **'f8'** , python datatype equivalent - **float** , example - ('nums','f8')\n",
    "4. Datatype -  **'bool'** , python datatype equivalent - **boolean** , example - ('accepted','bool')\n",
    "\n",
    "**Vectors** (1-D array)\n",
    "- vectors are one-dimensional array(1-D array) which stores data usually in list format\n",
    "\n",
    "**Matrix(2-D tensor)**\n",
    "- it is 2-D tensor that is arrays with rows and columns\n",
    "\n",
    "**Tensor** (N-D array)\n",
    "- tensor are arrays with 3 or more dimension"
   ]
  },
  {
   "cell_type": "code",
   "execution_count": 411,
   "id": "b2080c9d-3965-4255-ad87-bc497d1d740d",
   "metadata": {},
   "outputs": [],
   "source": [
    "import numpy as np"
   ]
  },
  {
   "cell_type": "code",
   "execution_count": 412,
   "id": "a2c63714-320c-417f-ae7f-4f5724335213",
   "metadata": {},
   "outputs": [
    {
     "name": "stdout",
     "output_type": "stream",
     "text": [
      "['ALLOW_THREADS', 'BUFSIZE', 'CLIP', 'DataSource', 'ERR_CALL', 'ERR_DEFAULT', 'ERR_IGNORE', 'ERR_LOG', 'ERR_PRINT', 'ERR_RAISE', 'ERR_WARN', 'FLOATING_POINT_SUPPORT', 'FPE_DIVIDEBYZERO', 'FPE_INVALID', 'FPE_OVERFLOW', 'FPE_UNDERFLOW', 'False_', 'Inf', 'Infinity', 'MAXDIMS', 'MAY_SHARE_BOUNDS', 'MAY_SHARE_EXACT', 'NAN', 'NINF', 'NZERO', 'NaN', 'PINF', 'PZERO', 'RAISE', 'RankWarning', 'SHIFT_DIVIDEBYZERO', 'SHIFT_INVALID', 'SHIFT_OVERFLOW', 'SHIFT_UNDERFLOW', 'ScalarType', 'True_', 'UFUNC_BUFSIZE_DEFAULT', 'UFUNC_PYVALS_NAME', 'WRAP', '_CopyMode', '_NoValue', '_UFUNC_API', '__NUMPY_SETUP__', '__all__', '__builtins__', '__cached__', '__config__', '__deprecated_attrs__', '__dir__', '__doc__', '__expired_functions__', '__file__', '__former_attrs__', '__future_scalars__', '__getattr__', '__loader__', '__name__', '__package__', '__path__', '__spec__', '__version__', '_add_newdoc_ufunc', '_builtins', '_distributor_init', '_financial_names', '_get_promotion_state', '_globals', '_int_extended_msg', '_mat', '_no_nep50_warning', '_pyinstaller_hooks_dir', '_pytesttester', '_set_promotion_state', '_specific_msg', '_typing', '_using_numpy2_behavior', '_utils', 'abs', 'absolute', 'add', 'add_docstring', 'add_newdoc', 'add_newdoc_ufunc', 'all', 'allclose', 'alltrue', 'amax', 'amin', 'angle', 'any', 'append', 'apply_along_axis', 'apply_over_axes', 'arange', 'arccos', 'arccosh', 'arcsin', 'arcsinh', 'arctan', 'arctan2', 'arctanh', 'argmax', 'argmin', 'argpartition', 'argsort', 'argwhere', 'around', 'array', 'array2string', 'array_equal', 'array_equiv', 'array_repr', 'array_split', 'array_str', 'asanyarray', 'asarray', 'asarray_chkfinite', 'ascontiguousarray', 'asfarray', 'asfortranarray', 'asmatrix', 'atleast_1d', 'atleast_2d', 'atleast_3d', 'average', 'bartlett', 'base_repr', 'binary_repr', 'bincount', 'bitwise_and', 'bitwise_not', 'bitwise_or', 'bitwise_xor', 'blackman', 'block', 'bmat', 'bool_', 'broadcast', 'broadcast_arrays', 'broadcast_shapes', 'broadcast_to', 'busday_count', 'busday_offset', 'busdaycalendar', 'byte', 'byte_bounds', 'bytes_', 'c_', 'can_cast', 'cast', 'cbrt', 'cdouble', 'ceil', 'cfloat', 'char', 'character', 'chararray', 'choose', 'clip', 'clongdouble', 'clongfloat', 'column_stack', 'common_type', 'compare_chararrays', 'compat', 'complex128', 'complex64', 'complex_', 'complexfloating', 'compress', 'concatenate', 'conj', 'conjugate', 'convolve', 'copy', 'copysign', 'copyto', 'corrcoef', 'correlate', 'cos', 'cosh', 'count_nonzero', 'cov', 'cross', 'csingle', 'ctypeslib', 'cumprod', 'cumproduct', 'cumsum', 'datetime64', 'datetime_as_string', 'datetime_data', 'deg2rad', 'degrees', 'delete', 'deprecate', 'deprecate_with_doc', 'diag', 'diag_indices', 'diag_indices_from', 'diagflat', 'diagonal', 'diff', 'digitize', 'disp', 'divide', 'divmod', 'dot', 'double', 'dsplit', 'dstack', 'dtype', 'dtypes', 'e', 'ediff1d', 'einsum', 'einsum_path', 'emath', 'empty', 'empty_like', 'equal', 'errstate', 'euler_gamma', 'exceptions', 'exp', 'exp2', 'expand_dims', 'expm1', 'expm1x', 'extract', 'eye', 'fabs', 'fastCopyAndTranspose', 'fft', 'fill_diagonal', 'find_common_type', 'finfo', 'fix', 'flatiter', 'flatnonzero', 'flexible', 'flip', 'fliplr', 'flipud', 'float16', 'float32', 'float64', 'float_', 'float_power', 'floating', 'floor', 'floor_divide', 'fmax', 'fmin', 'fmod', 'format_float_positional', 'format_float_scientific', 'format_parser', 'frexp', 'from_dlpack', 'frombuffer', 'fromfile', 'fromfunction', 'fromiter', 'frompyfunc', 'fromregex', 'fromstring', 'full', 'full_like', 'gcd', 'generic', 'genfromtxt', 'geomspace', 'get_array_wrap', 'get_include', 'get_printoptions', 'getbufsize', 'geterr', 'geterrcall', 'geterrobj', 'gradient', 'greater', 'greater_equal', 'half', 'hamming', 'hanning', 'heaviside', 'histogram', 'histogram2d', 'histogram_bin_edges', 'histogramdd', 'hsplit', 'hstack', 'hypot', 'i0', 'identity', 'iinfo', 'imag', 'in1d', 'index_exp', 'indices', 'inexact', 'inf', 'info', 'infty', 'inner', 'insert', 'int16', 'int32', 'int64', 'int8', 'int_', 'intc', 'integer', 'interp', 'intersect1d', 'intp', 'invert', 'is_busday', 'isclose', 'iscomplex', 'iscomplexobj', 'isfinite', 'isfortran', 'isin', 'isinf', 'isnan', 'isnat', 'isneginf', 'isposinf', 'isreal', 'isrealobj', 'isscalar', 'issctype', 'issubclass_', 'issubdtype', 'issubsctype', 'iterable', 'ix_', 'kaiser', 'kron', 'lcm', 'ldexp', 'left_shift', 'less', 'less_equal', 'lexsort', 'lib', 'linalg', 'linspace', 'little_endian', 'load', 'loadtxt', 'log', 'log10', 'log1p', 'log2', 'logaddexp', 'logaddexp2', 'logical_and', 'logical_not', 'logical_or', 'logical_xor', 'logspace', 'longcomplex', 'longdouble', 'longfloat', 'longlong', 'lookfor', 'ma', 'mask_indices', 'mat', 'matmul', 'matrix', 'max', 'maximum', 'maximum_sctype', 'may_share_memory', 'mean', 'median', 'memmap', 'meshgrid', 'mgrid', 'min', 'min_scalar_type', 'minimum', 'mintypecode', 'mod', 'modf', 'moveaxis', 'msort', 'multiply', 'nan', 'nan_to_num', 'nanargmax', 'nanargmin', 'nancumprod', 'nancumsum', 'nanmax', 'nanmean', 'nanmedian', 'nanmin', 'nanpercentile', 'nanprod', 'nanquantile', 'nanstd', 'nansum', 'nanvar', 'nbytes', 'ndarray', 'ndenumerate', 'ndim', 'ndindex', 'nditer', 'negative', 'nested_iters', 'newaxis', 'nextafter', 'nonzero', 'not_equal', 'numarray', 'number', 'obj2sctype', 'object_', 'ogrid', 'oldnumeric', 'ones', 'ones_like', 'outer', 'packbits', 'pad', 'partition', 'percentile', 'pi', 'piecewise', 'place', 'poly', 'poly1d', 'polyadd', 'polyder', 'polydiv', 'polyfit', 'polyint', 'polymul', 'polynomial', 'polysub', 'polyval', 'positive', 'power', 'printoptions', 'prod', 'product', 'promote_types', 'ptp', 'put', 'put_along_axis', 'putmask', 'quantile', 'r_', 'rad2deg', 'radians', 'random', 'ravel', 'ravel_multi_index', 'real', 'real_if_close', 'rec', 'recarray', 'recfromcsv', 'recfromtxt', 'reciprocal', 'record', 'remainder', 'repeat', 'require', 'reshape', 'resize', 'result_type', 'right_shift', 'rint', 'roll', 'rollaxis', 'roots', 'rot90', 'round', 'round_', 'row_stack', 's_', 'safe_eval', 'save', 'savetxt', 'savez', 'savez_compressed', 'sctype2char', 'sctypeDict', 'sctypes', 'searchsorted', 'select', 'set_numeric_ops', 'set_printoptions', 'set_string_function', 'setbufsize', 'setdiff1d', 'seterr', 'seterrcall', 'seterrobj', 'setxor1d', 'shape', 'shares_memory', 'short', 'show_config', 'show_runtime', 'sign', 'signbit', 'signedinteger', 'sin', 'sinc', 'single', 'singlecomplex', 'sinh', 'size', 'sometrue', 'sort', 'sort_complex', 'source', 'spacing', 'split', 'sqrt', 'square', 'squeeze', 'stack', 'std', 'str_', 'string_', 'subtract', 'sum', 'swapaxes', 'take', 'take_along_axis', 'tan', 'tanh', 'tensordot', 'test', 'testing', 'tile', 'timedelta64', 'trace', 'tracemalloc_domain', 'transpose', 'trapz', 'tri', 'tril', 'tril_indices', 'tril_indices_from', 'trim_zeros', 'triu', 'triu_indices', 'triu_indices_from', 'true_divide', 'trunc', 'typecodes', 'typename', 'ubyte', 'ufunc', 'uint', 'uint16', 'uint32', 'uint64', 'uint8', 'uintc', 'uintp', 'ulonglong', 'unicode_', 'union1d', 'unique', 'unpackbits', 'unravel_index', 'unsignedinteger', 'unwrap', 'ushort', 'vander', 'var', 'vdot', 'vectorize', 'version', 'void', 'vsplit', 'vstack', 'where', 'who', 'zeros', 'zeros_like']\n"
     ]
    }
   ],
   "source": [
    "print(dir(np))"
   ]
  },
  {
   "cell_type": "code",
   "execution_count": 413,
   "id": "434a1c16-26c5-4d25-96df-ea2c15d63509",
   "metadata": {},
   "outputs": [
    {
     "name": "stdout",
     "output_type": "stream",
     "text": [
      "[ 1 23  4  1]\n"
     ]
    }
   ],
   "source": [
    "a = np.array([1,23,4,1]) # creating 1 dimensional array\n",
    "print(a)"
   ]
  },
  {
   "cell_type": "code",
   "execution_count": 414,
   "id": "30fac5a7-ab2f-4023-89f9-4e4726cb27dc",
   "metadata": {},
   "outputs": [
    {
     "data": {
      "text/plain": [
       "(4,)"
      ]
     },
     "execution_count": 414,
     "metadata": {},
     "output_type": "execute_result"
    }
   ],
   "source": [
    "a.shape"
   ]
  },
  {
   "cell_type": "code",
   "execution_count": 415,
   "id": "35c47d89-8503-4aed-90d9-b1087a2b4b3a",
   "metadata": {},
   "outputs": [
    {
     "data": {
      "text/plain": [
       "1"
      ]
     },
     "execution_count": 415,
     "metadata": {},
     "output_type": "execute_result"
    }
   ],
   "source": [
    "a.ndim"
   ]
  },
  {
   "cell_type": "code",
   "execution_count": 416,
   "id": "908f6a41-7c1e-4eeb-a764-93e834af9858",
   "metadata": {},
   "outputs": [
    {
     "name": "stdout",
     "output_type": "stream",
     "text": [
      "[[1 2]\n",
      " [4 5]]\n"
     ]
    }
   ],
   "source": [
    "# creating 2 dimensional array\n",
    "b = np.array([[1,2],[4,5]])\n",
    "print(b)"
   ]
  },
  {
   "cell_type": "code",
   "execution_count": 417,
   "id": "04b6f070-fed4-4416-8377-47638048a08a",
   "metadata": {},
   "outputs": [
    {
     "data": {
      "text/plain": [
       "(2, 2)"
      ]
     },
     "execution_count": 417,
     "metadata": {},
     "output_type": "execute_result"
    }
   ],
   "source": [
    "b.shape"
   ]
  },
  {
   "cell_type": "code",
   "execution_count": 418,
   "id": "dfee4b88-b494-4065-b153-0483e2540917",
   "metadata": {},
   "outputs": [
    {
     "data": {
      "text/plain": [
       "2"
      ]
     },
     "execution_count": 418,
     "metadata": {},
     "output_type": "execute_result"
    }
   ],
   "source": [
    "b.ndim"
   ]
  },
  {
   "cell_type": "code",
   "execution_count": 419,
   "id": "bcd10a65-1059-45f4-b772-0a5d4260f5ba",
   "metadata": {},
   "outputs": [
    {
     "name": "stdout",
     "output_type": "stream",
     "text": [
      "[[[ 2  4]\n",
      "  [ 6  8]\n",
      "  [ 9 10]\n",
      "  [56 43]]]\n"
     ]
    }
   ],
   "source": [
    "# creating 3 dimensional array or tensor\n",
    "c = np.array([[[2,4],[6,8],[9,10],[56,43]]])\n",
    "print(c)"
   ]
  },
  {
   "cell_type": "code",
   "execution_count": 420,
   "id": "b7ea21e0-b47a-4a7a-9acf-672251f310f0",
   "metadata": {},
   "outputs": [
    {
     "name": "stdout",
     "output_type": "stream",
     "text": [
      "(1, 4, 2)\n"
     ]
    }
   ],
   "source": [
    "print(c.shape)"
   ]
  },
  {
   "cell_type": "code",
   "execution_count": 421,
   "id": "c22976e3-be51-4c43-a454-aa75b413f4d4",
   "metadata": {},
   "outputs": [
    {
     "data": {
      "text/plain": [
       "3"
      ]
     },
     "execution_count": 421,
     "metadata": {},
     "output_type": "execute_result"
    }
   ],
   "source": [
    "c.ndim # check which dimensional array is"
   ]
  },
  {
   "cell_type": "markdown",
   "id": "1a5efca7-a44a-4e1e-9bbf-c2fa674bc488",
   "metadata": {},
   "source": [
    "**Structured array**"
   ]
  },
  {
   "cell_type": "code",
   "execution_count": 423,
   "id": "f32cac4b-58ab-4748-a8f8-987ce5acfb08",
   "metadata": {},
   "outputs": [
    {
     "name": "stdout",
     "output_type": "stream",
     "text": [
      "bhargavi\n"
     ]
    }
   ],
   "source": [
    "# creating structured arrays - records are on the form of rows and columns\n",
    "dtype = ([('id','i4'),('name', 'U10'),('marks','f8')])\n",
    "d1 = np.array([(1,\"mohini\",6.7),(2,\"bhargavi\",7.8),(3,\"gauri\",8.9)],dtype=dtype)\n",
    "\n",
    "print(d1['name'][1]) # accessing the feature via column name and row index"
   ]
  },
  {
   "cell_type": "code",
   "execution_count": 424,
   "id": "8203a2c1-1cbc-4c05-ae71-20ff5ceb0669",
   "metadata": {},
   "outputs": [
    {
     "name": "stdout",
     "output_type": "stream",
     "text": [
      "[(1, 'mohini', 6.7) (2, 'bhargavi', 7.8) (3, 'gauri', 8.9)]\n"
     ]
    }
   ],
   "source": [
    "print(d1) # accessing all the elements of the structured array"
   ]
  },
  {
   "cell_type": "code",
   "execution_count": 425,
   "id": "453c6989-f6d8-4d32-b657-c268122234d7",
   "metadata": {},
   "outputs": [
    {
     "name": "stdout",
     "output_type": "stream",
     "text": [
      "[1 2 3]\n",
      "['mohini' 'bhargavi' 'gauri']\n",
      "[6.7 7.8 8.9]\n"
     ]
    }
   ],
   "source": [
    "# accessing the columns in structured array\n",
    "print(d1['id'])\n",
    "print(d1['name'])\n",
    "print(d1['marks'])"
   ]
  },
  {
   "cell_type": "code",
   "execution_count": 426,
   "id": "15a7c609-c78d-43b8-a86b-16a57168866c",
   "metadata": {},
   "outputs": [
    {
     "name": "stdout",
     "output_type": "stream",
     "text": [
      "[('id', '<i4'), ('name', '<U10'), ('marks', '<f8')]\n"
     ]
    }
   ],
   "source": [
    "# will show datatypes of each column\n",
    "print(d1.dtype)"
   ]
  },
  {
   "cell_type": "code",
   "execution_count": 427,
   "id": "acc50337-d528-4108-a08d-3bf26063a6f8",
   "metadata": {},
   "outputs": [
    {
     "data": {
      "text/plain": [
       "array([[0., 0., 0.],\n",
       "       [0., 0., 0.]])"
      ]
     },
     "execution_count": 427,
     "metadata": {},
     "output_type": "execute_result"
    }
   ],
   "source": [
    "# for creating zeros array\n",
    "d = np.zeros((2,3))\n",
    "d"
   ]
  },
  {
   "cell_type": "code",
   "execution_count": 428,
   "id": "c275e7df-e593-484f-93b1-3ce1cfa1d765",
   "metadata": {},
   "outputs": [
    {
     "data": {
      "text/plain": [
       "2"
      ]
     },
     "execution_count": 428,
     "metadata": {},
     "output_type": "execute_result"
    }
   ],
   "source": [
    "d.ndim"
   ]
  },
  {
   "cell_type": "code",
   "execution_count": 429,
   "id": "89bbd368-eef0-4aef-a5ec-6144a2a5f0e4",
   "metadata": {},
   "outputs": [
    {
     "data": {
      "text/plain": [
       "(2, 3)"
      ]
     },
     "execution_count": 429,
     "metadata": {},
     "output_type": "execute_result"
    }
   ],
   "source": [
    "d.shape"
   ]
  },
  {
   "cell_type": "code",
   "execution_count": 430,
   "id": "1f4cb01e-2867-4807-a68a-2bdff4dd4a67",
   "metadata": {},
   "outputs": [
    {
     "name": "stdout",
     "output_type": "stream",
     "text": [
      "[[1. 1. 1. 1. 1.]\n",
      " [1. 1. 1. 1. 1.]\n",
      " [1. 1. 1. 1. 1.]]\n"
     ]
    }
   ],
   "source": [
    "# want to create array have value only 1\n",
    "e = np.ones((3,5))\n",
    "print(e)"
   ]
  },
  {
   "cell_type": "markdown",
   "id": "1596fef4-6f2d-4855-829d-37b1329161ed",
   "metadata": {},
   "source": [
    "**Identity matrix creation**"
   ]
  },
  {
   "cell_type": "code",
   "execution_count": 432,
   "id": "e282a97a-39d8-4f35-a989-ded8321b7bea",
   "metadata": {},
   "outputs": [
    {
     "name": "stdout",
     "output_type": "stream",
     "text": [
      "[[1. 0. 0.]\n",
      " [0. 1. 0.]\n",
      " [0. 0. 1.]]\n"
     ]
    }
   ],
   "source": [
    "f = np.eye(3) # creating identity matrix\n",
    "print(f)"
   ]
  },
  {
   "cell_type": "code",
   "execution_count": 433,
   "id": "0e6d21b9-7b4a-44a3-937e-34f30561f2a1",
   "metadata": {},
   "outputs": [
    {
     "name": "stdout",
     "output_type": "stream",
     "text": [
      "[1 3 5 7 9]\n"
     ]
    }
   ],
   "source": [
    "# creates an array with evenly spaced values specified in range\n",
    "g = np.arange(1,10,2)\n",
    "print(g)"
   ]
  },
  {
   "cell_type": "code",
   "execution_count": 434,
   "id": "09c8b178-cc24-4715-ac02-10b4c3774607",
   "metadata": {},
   "outputs": [
    {
     "name": "stdout",
     "output_type": "stream",
     "text": [
      "[0.  0.5 1.  1.5 2. ]\n"
     ]
    }
   ],
   "source": [
    "# creates array of evenly spaced numbers(specified interval - (displays in float))\n",
    "h = np.linspace(0,2,5) \n",
    "print(h)"
   ]
  },
  {
   "cell_type": "code",
   "execution_count": 435,
   "id": "c53f1f67-5666-4758-99e7-70b9267dd5b4",
   "metadata": {},
   "outputs": [
    {
     "data": {
      "text/plain": [
       "5"
      ]
     },
     "execution_count": 435,
     "metadata": {},
     "output_type": "execute_result"
    }
   ],
   "source": [
    "# specified number of elements\n",
    "h.size"
   ]
  },
  {
   "cell_type": "markdown",
   "id": "3088daa4-340d-44af-8789-1e9720297baa",
   "metadata": {},
   "source": [
    "# Assignment 1"
   ]
  },
  {
   "cell_type": "markdown",
   "id": "b3eda71b-9b59-4f20-a44e-c2033a7b6390",
   "metadata": {},
   "source": [
    "1. create a 2D array of shape(3,4) filled with all ones"
   ]
  },
  {
   "cell_type": "code",
   "execution_count": 438,
   "id": "f3968e94-f01f-4489-b9c2-8de47015339e",
   "metadata": {},
   "outputs": [
    {
     "name": "stdout",
     "output_type": "stream",
     "text": [
      "[[1. 1. 1. 1.]\n",
      " [1. 1. 1. 1.]\n",
      " [1. 1. 1. 1.]]\n"
     ]
    }
   ],
   "source": [
    "m = np.ones((3,4))\n",
    "print(m)"
   ]
  },
  {
   "cell_type": "markdown",
   "id": "2f00ae69-26af-43ce-8ee8-6febd90b8c84",
   "metadata": {},
   "source": [
    "2. create 1D numpy array with values from 10 to 50 with a step of 4"
   ]
  },
  {
   "cell_type": "code",
   "execution_count": 440,
   "id": "6cf11075-fdc8-4c0e-b8cc-e9391cd3f1e9",
   "metadata": {},
   "outputs": [
    {
     "name": "stdout",
     "output_type": "stream",
     "text": [
      "[10 14 18 22 26 30 34 38 42 46]\n"
     ]
    }
   ],
   "source": [
    "n = np.arange(10,50,4)\n",
    "print(n)"
   ]
  },
  {
   "cell_type": "markdown",
   "id": "fc518e92-e56a-4ac8-a9c3-82b9a9e7e7a1",
   "metadata": {},
   "source": [
    "3. create a 4x4 identity matrix"
   ]
  },
  {
   "cell_type": "code",
   "execution_count": 442,
   "id": "25d1959c-ad6c-41ee-bdb8-37d2b4cb647b",
   "metadata": {},
   "outputs": [
    {
     "name": "stdout",
     "output_type": "stream",
     "text": [
      "[[1. 0. 0. 0.]\n",
      " [0. 1. 0. 0.]\n",
      " [0. 0. 1. 0.]\n",
      " [0. 0. 0. 1.]]\n"
     ]
    }
   ],
   "source": [
    "p = np.eye(4)\n",
    "print(p)"
   ]
  },
  {
   "cell_type": "markdown",
   "id": "19f90bbf-bdbd-4b1a-b9c2-c91a2cffed2e",
   "metadata": {},
   "source": [
    "4. create an array with 5 values evenly spaced between 0 and 1"
   ]
  },
  {
   "cell_type": "code",
   "execution_count": 444,
   "id": "2e9d63e6-ea25-460c-9c26-23909bad6da4",
   "metadata": {},
   "outputs": [
    {
     "name": "stdout",
     "output_type": "stream",
     "text": [
      "[0.   0.25 0.5  0.75 1.  ]\n"
     ]
    }
   ],
   "source": [
    "q = np.linspace(0,1,5)\n",
    "print(q)"
   ]
  },
  {
   "cell_type": "markdown",
   "id": "2e5939da-c2c4-48f3-b67d-922edd602c96",
   "metadata": {},
   "source": [
    "5. create a 1d numpy array with values from 10 to 50 with a step of 5"
   ]
  },
  {
   "cell_type": "code",
   "execution_count": 446,
   "id": "9602a1c9-70a0-42f7-9344-803c38d5a9c7",
   "metadata": {},
   "outputs": [
    {
     "name": "stdout",
     "output_type": "stream",
     "text": [
      "[10 15 20 25 30 35 40 45]\n"
     ]
    }
   ],
   "source": [
    "r = np.arange(10,50,5)\n",
    "print(r)"
   ]
  },
  {
   "cell_type": "markdown",
   "id": "bba3ae6f-44a7-4c76-b1ef-5a45e9848641",
   "metadata": {},
   "source": [
    "6. create a 3x3 array with random integers between 10 and 99"
   ]
  },
  {
   "cell_type": "code",
   "execution_count": 448,
   "id": "38fd8249-83b7-4165-a782-d6c13cf7d306",
   "metadata": {},
   "outputs": [
    {
     "name": "stdout",
     "output_type": "stream",
     "text": [
      "[0.04006703 0.22166935 0.33282465 0.15258563 0.55542331]\n"
     ]
    }
   ],
   "source": [
    "# random number methods\n",
    "u = np.random.rand(5)\n",
    "print(u)"
   ]
  },
  {
   "cell_type": "markdown",
   "id": "66a65420-8ec3-4875-9891-07aea7b44f4a",
   "metadata": {},
   "source": [
    "7. create an array of shape(2,3) filled with zeros and another filled with sevens"
   ]
  },
  {
   "cell_type": "code",
   "execution_count": 450,
   "id": "b3e90a7a-cfb8-4c2e-8f83-09fe2e8bd541",
   "metadata": {},
   "outputs": [
    {
     "name": "stdout",
     "output_type": "stream",
     "text": [
      "[[0. 0. 0.]\n",
      " [0. 0. 0.]]\n"
     ]
    },
    {
     "data": {
      "text/plain": [
       "array([[7, 7, 7],\n",
       "       [7, 7, 7]])"
      ]
     },
     "execution_count": 450,
     "metadata": {},
     "output_type": "execute_result"
    }
   ],
   "source": [
    "s = np.zeros((2,3))\n",
    "print(s)\n",
    "# full - create an array of fiven shape and fills with specified values\n",
    "t = np.full((2,3),7)\n",
    "t"
   ]
  },
  {
   "cell_type": "markdown",
   "id": "af5677dd-20a7-4833-9f0e-8f2accbef183",
   "metadata": {},
   "source": [
    "8. create an array with values from 1 to 12 and reshape it to a 3x4 matrix"
   ]
  },
  {
   "cell_type": "code",
   "execution_count": 452,
   "id": "b9a4838f-26a5-4d1a-93f7-3c8c537b9ac0",
   "metadata": {},
   "outputs": [
    {
     "name": "stdout",
     "output_type": "stream",
     "text": [
      "[ 1  2  3  4  5  6  7  8  9 10 11 12]\n",
      "[[ 1  2  3  4]\n",
      " [ 5  6  7  8]\n",
      " [ 9 10 11 12]]\n"
     ]
    },
    {
     "data": {
      "text/plain": [
       "(3, 4)"
      ]
     },
     "execution_count": 452,
     "metadata": {},
     "output_type": "execute_result"
    }
   ],
   "source": [
    "t = np.arange(1,13)\n",
    "print(t)\n",
    "# t= np.reshape((3,4))\n",
    "re_shape = t.reshape(3,4)\n",
    "print(re_shape)\n",
    "re_shape.shape"
   ]
  },
  {
   "cell_type": "markdown",
   "id": "fd205e19-3f75-407d-ba50-92976cea6fcc",
   "metadata": {},
   "source": [
    "9. create a 2D array of shape(5,2) and display\n",
    "- number of dimensions\n",
    "- shape\n",
    "- total number of elements\n",
    "- data type"
   ]
  },
  {
   "cell_type": "code",
   "execution_count": 454,
   "id": "0e18af5c-84c1-4d20-a856-e9c3c576cb2c",
   "metadata": {},
   "outputs": [
    {
     "name": "stdout",
     "output_type": "stream",
     "text": [
      "[[2 4]\n",
      " [5 6]\n",
      " [7 6]\n",
      " [8 7]\n",
      " [9 0]]\n"
     ]
    },
    {
     "data": {
      "text/plain": [
       "2"
      ]
     },
     "execution_count": 454,
     "metadata": {},
     "output_type": "execute_result"
    }
   ],
   "source": [
    "arr = np.array([[2,4],[5,6],[7,6],[8,7],[9,0]])\n",
    "print(arr)\n",
    "# number of dimension\n",
    "arr.ndim\n"
   ]
  },
  {
   "cell_type": "code",
   "execution_count": 455,
   "id": "4897099b-5649-429c-8f4a-8e41af184ea6",
   "metadata": {},
   "outputs": [
    {
     "data": {
      "text/plain": [
       "(5, 2)"
      ]
     },
     "execution_count": 455,
     "metadata": {},
     "output_type": "execute_result"
    }
   ],
   "source": [
    "# shape\n",
    "arr.shape"
   ]
  },
  {
   "cell_type": "code",
   "execution_count": 456,
   "id": "ad41413c-4f6e-48c6-b217-4e6244144272",
   "metadata": {},
   "outputs": [
    {
     "data": {
      "text/plain": [
       "10"
      ]
     },
     "execution_count": 456,
     "metadata": {},
     "output_type": "execute_result"
    }
   ],
   "source": [
    "# number of elements\n",
    "arr.size"
   ]
  },
  {
   "cell_type": "code",
   "execution_count": 457,
   "id": "f5f6d207-d2e9-4e6e-b471-25946bb10cef",
   "metadata": {},
   "outputs": [
    {
     "data": {
      "text/plain": [
       "dtype('int32')"
      ]
     },
     "execution_count": 457,
     "metadata": {},
     "output_type": "execute_result"
    }
   ],
   "source": [
    "# datatype\n",
    "arr.dtype"
   ]
  },
  {
   "cell_type": "markdown",
   "id": "1ae3d889-33d6-4531-99cb-8f2e01bc3b6f",
   "metadata": {},
   "source": [
    "10. create a 2D array and access:\n",
    "- the first row\n",
    "- the second column\n",
    "- the last element"
   ]
  },
  {
   "cell_type": "code",
   "execution_count": 459,
   "id": "d65f481c-31b0-4fcc-9354-1b16299f837a",
   "metadata": {},
   "outputs": [
    {
     "name": "stdout",
     "output_type": "stream",
     "text": [
      "[[1 2]\n",
      " [3 4]]\n"
     ]
    }
   ],
   "source": [
    "array_2d = np.array([[1,2],[3,4]])\n",
    "print(array_2d)"
   ]
  },
  {
   "cell_type": "code",
   "execution_count": 460,
   "id": "c18744b2-3248-4ef6-9d3f-d738a2c3202d",
   "metadata": {},
   "outputs": [
    {
     "data": {
      "text/plain": [
       "array([1, 2])"
      ]
     },
     "execution_count": 460,
     "metadata": {},
     "output_type": "execute_result"
    }
   ],
   "source": [
    "# first row\n",
    "array_2d[0]"
   ]
  },
  {
   "cell_type": "code",
   "execution_count": 461,
   "id": "d61575d4-7bb6-4648-add7-4e015eb9b7f7",
   "metadata": {},
   "outputs": [
    {
     "data": {
      "text/plain": [
       "array([3, 4])"
      ]
     },
     "execution_count": 461,
     "metadata": {},
     "output_type": "execute_result"
    }
   ],
   "source": [
    "# second column\n",
    "array_2d[1]"
   ]
  },
  {
   "cell_type": "code",
   "execution_count": 462,
   "id": "f20744ef-681c-4fc5-b139-fa0ba6f871f5",
   "metadata": {},
   "outputs": [
    {
     "data": {
      "text/plain": [
       "4"
      ]
     },
     "execution_count": 462,
     "metadata": {},
     "output_type": "execute_result"
    }
   ],
   "source": [
    "# last element\n",
    "array_2d[(1,1)]"
   ]
  },
  {
   "cell_type": "code",
   "execution_count": 463,
   "id": "89bf4e4a-accc-4567-b955-ee07e6b0a3ed",
   "metadata": {},
   "outputs": [
    {
     "name": "stdout",
     "output_type": "stream",
     "text": [
      "[[64 63 23]\n",
      " [48 79 32]\n",
      " [68 27 91]]\n"
     ]
    }
   ],
   "source": [
    "#np.random.randint() - generates an array of the given size and the numbers in th range\n",
    "\n",
    "c = np.random.randint(10,99,(3,3))\n",
    "print(c)"
   ]
  },
  {
   "cell_type": "code",
   "execution_count": 464,
   "id": "17323859-c9f2-4136-b947-16b82eed994a",
   "metadata": {},
   "outputs": [
    {
     "data": {
      "text/plain": [
       "array([[ 0.03520985, -1.20115001, -1.06680852],\n",
       "       [ 0.61541505,  0.74661017,  0.53749053],\n",
       "       [-0.14583741, -0.15141796, -0.61613677]])"
      ]
     },
     "execution_count": 464,
     "metadata": {},
     "output_type": "execute_result"
    }
   ],
   "source": [
    "d = np.random.randn(3,3)\n",
    "d"
   ]
  },
  {
   "cell_type": "code",
   "execution_count": 465,
   "id": "55b310bb-5f4d-48f0-aee7-5df6d4f9bfbf",
   "metadata": {},
   "outputs": [
    {
     "name": "stdout",
     "output_type": "stream",
     "text": [
      "[10.70631496  9.99932085 10.12046609  8.88472696 10.19836664 10.00071189\n",
      " 10.77303124]\n"
     ]
    }
   ],
   "source": [
    "e = np.random.randn(7) + 10 # 10 is mean\n",
    "print(e)"
   ]
  },
  {
   "cell_type": "code",
   "execution_count": 466,
   "id": "deec72af-da10-4997-89a3-7c58da1daaf8",
   "metadata": {},
   "outputs": [
    {
     "name": "stdout",
     "output_type": "stream",
     "text": [
      "[2 4 6 8]\n",
      "20\n",
      "5.0\n",
      "2.23606797749979\n",
      "8\n",
      "2\n",
      "0\n",
      "3\n"
     ]
    }
   ],
   "source": [
    "# mathematical operations of array\n",
    "\n",
    "# np.sum() - returns the total(sum) of all the elements\n",
    "\n",
    "f = np.array([2,4,6,8])\n",
    "print(f)\n",
    "print(np.sum(f))\n",
    "\n",
    "# np.mean() - return the mean(average) of all the items in the array\n",
    "print(np.mean(f))\n",
    "\n",
    "# np.std() - returns the standard deviation of all the items in the array\n",
    "print(np.std(f))\n",
    "\n",
    "# np.max and np.min\n",
    "print(np.max(f))\n",
    "print(np.min(f))\n",
    "\n",
    "# np.argmin and np.argmax - retuens the index value of max and min values\n",
    "print(np.argmin(f))\n",
    "print(np.argmax(f))"
   ]
  },
  {
   "cell_type": "markdown",
   "id": "3647bac7-9128-4673-a5ed-e34d9c2befe2",
   "metadata": {},
   "source": [
    "**Array manipulation**\n"
   ]
  },
  {
   "cell_type": "code",
   "execution_count": 468,
   "id": "15d374dc-6b8c-4b2d-ae78-737d4ae546ce",
   "metadata": {},
   "outputs": [
    {
     "name": "stdout",
     "output_type": "stream",
     "text": [
      "[  78 1220   30   40   67   40   50  123  145  654  678]\n",
      "[  30   40   40   50   67   78  123  145  654  678 1220]\n",
      "[  30   40   50   67   78  123  145  654  678 1220]\n",
      "[45 65 78 10 33 98]\n",
      "[  78 1220   30   40   67   40   50  123  145  654  678   45   65   78\n",
      "   10   33   98]\n",
      "[  10   30   33   40   40   45   50   65   67   78   78   98  123  145\n",
      "  654  678 1220]\n"
     ]
    }
   ],
   "source": [
    "g = np.array([78,1220,30,40,67,40,50,123,145,654,678])\n",
    "print(g)\n",
    "\n",
    "# np.sort() - returns sorted values in the array\n",
    "print(np.sort(g))\n",
    "\n",
    "# np.unique() - returns an array with sorted and unique elements\n",
    "print(np.unique(g))\n",
    "\n",
    "h = np.array([45,65,78,10,33,98])\n",
    "print(h)\n",
    "\n",
    "# np.concatenate() - returns the merged arrays , can join two or more than two arrays\n",
    "i= np.concatenate((g,h))\n",
    "print(i)\n",
    "print(np.sort(i))"
   ]
  },
  {
   "cell_type": "markdown",
   "id": "f330fece-dfbe-4c1b-b89f-746d28cb15de",
   "metadata": {},
   "source": [
    "# Assignment 2"
   ]
  },
  {
   "cell_type": "markdown",
   "id": "55caaba0-a6e4-47f9-ac7e-bd186f7c18ff",
   "metadata": {},
   "source": [
    "1. create 1D array of numbers from 0 to 9"
   ]
  },
  {
   "cell_type": "code",
   "execution_count": 471,
   "id": "f25a7056-15e8-47f4-8af3-a48a63b26b24",
   "metadata": {},
   "outputs": [],
   "source": [
    "import numpy as np\n"
   ]
  },
  {
   "cell_type": "code",
   "execution_count": 472,
   "id": "b8e5583f-cb8e-40f7-b326-a99f00d2186b",
   "metadata": {},
   "outputs": [
    {
     "name": "stdout",
     "output_type": "stream",
     "text": [
      "[0 1 2 3 4 5 6 7 8 9]\n"
     ]
    }
   ],
   "source": [
    "a = np.arange(0,10)\n",
    "print(a)"
   ]
  },
  {
   "cell_type": "markdown",
   "id": "a130f5be-a224-4587-83c3-f2d1b99a6085",
   "metadata": {},
   "source": [
    "2. find the mean , median,standard deviation and sum of elements in an array"
   ]
  },
  {
   "cell_type": "code",
   "execution_count": 474,
   "id": "8d017834-676a-48af-8c36-3de922d2c2dc",
   "metadata": {},
   "outputs": [
    {
     "name": "stdout",
     "output_type": "stream",
     "text": [
      "4.5\n"
     ]
    }
   ],
   "source": [
    "print(np.mean(a))"
   ]
  },
  {
   "cell_type": "code",
   "execution_count": 475,
   "id": "80d8483e-1351-41ae-8f0e-c357979e07d8",
   "metadata": {},
   "outputs": [
    {
     "name": "stdout",
     "output_type": "stream",
     "text": [
      "4.5\n"
     ]
    }
   ],
   "source": [
    "print(np.median(a))"
   ]
  },
  {
   "cell_type": "code",
   "execution_count": 476,
   "id": "ee2add9a-73d7-42a3-bb4c-aed233ef47f2",
   "metadata": {},
   "outputs": [
    {
     "name": "stdout",
     "output_type": "stream",
     "text": [
      "2.8722813232690143\n"
     ]
    }
   ],
   "source": [
    "print(np.std(a))"
   ]
  },
  {
   "cell_type": "code",
   "execution_count": 477,
   "id": "072895d4-961f-492c-aee9-65af3febd736",
   "metadata": {},
   "outputs": [
    {
     "name": "stdout",
     "output_type": "stream",
     "text": [
      "45\n"
     ]
    }
   ],
   "source": [
    "print(np.sum(a))"
   ]
  },
  {
   "cell_type": "markdown",
   "id": "c470fff6-ae75-435f-86a3-cb17785ed5bc",
   "metadata": {},
   "source": [
    "3. Find the maximum and minimum values in an array and their indices."
   ]
  },
  {
   "cell_type": "code",
   "execution_count": 479,
   "id": "dbef5e7c-8de4-4cb8-b058-0d86f03b24c3",
   "metadata": {},
   "outputs": [
    {
     "name": "stdout",
     "output_type": "stream",
     "text": [
      "9\n"
     ]
    }
   ],
   "source": [
    "print(np.max(a))"
   ]
  },
  {
   "cell_type": "code",
   "execution_count": 480,
   "id": "c3ce5945-b9e0-4ef1-bb22-5048c4770a3f",
   "metadata": {},
   "outputs": [
    {
     "name": "stdout",
     "output_type": "stream",
     "text": [
      "0\n"
     ]
    }
   ],
   "source": [
    "print(np.min(a))"
   ]
  },
  {
   "cell_type": "code",
   "execution_count": 481,
   "id": "5fc85599-8977-4928-aa0f-1d6345cba352",
   "metadata": {},
   "outputs": [
    {
     "name": "stdout",
     "output_type": "stream",
     "text": [
      "9\n"
     ]
    }
   ],
   "source": [
    "print(np.argmax(a))"
   ]
  },
  {
   "cell_type": "code",
   "execution_count": 482,
   "id": "a49d7e30-0f96-4e0f-b65f-200deeaf6294",
   "metadata": {},
   "outputs": [
    {
     "name": "stdout",
     "output_type": "stream",
     "text": [
      "0\n"
     ]
    }
   ],
   "source": [
    "print(np.argmin(a))"
   ]
  },
  {
   "cell_type": "markdown",
   "id": "8c1f469e-7364-49b4-9f47-83cfbde65e06",
   "metadata": {},
   "source": [
    "4. Generate a 1D array of 10 random integers between 1 and 100."
   ]
  },
  {
   "cell_type": "code",
   "execution_count": 484,
   "id": "b2ac3eee-310a-4b3f-a225-16be63e7a41d",
   "metadata": {},
   "outputs": [
    {
     "name": "stdout",
     "output_type": "stream",
     "text": [
      "[34 39 70 50 94  7 64 26 15  7]\n"
     ]
    }
   ],
   "source": [
    "b = np.random.randint(1,100,(10))\n",
    "print(b)"
   ]
  },
  {
   "cell_type": "markdown",
   "id": "fec97c14-c90d-40b4-8c29-8ac39f72b014",
   "metadata": {},
   "source": [
    "5. Create a 3x3 array of random floats."
   ]
  },
  {
   "cell_type": "code",
   "execution_count": 486,
   "id": "6baa552b-a9d1-4291-bef8-407b9b88aaf9",
   "metadata": {},
   "outputs": [
    {
     "name": "stdout",
     "output_type": "stream",
     "text": [
      "[[ 1.54512033  1.46689947 -1.05833106]\n",
      " [-1.09346539  1.65742719  0.31001678]\n",
      " [-1.70138941 -0.22288182 -1.51902722]]\n"
     ]
    }
   ],
   "source": [
    "c = np.random.randn(3,3)\n",
    "print(c)"
   ]
  },
  {
   "cell_type": "markdown",
   "id": "0798309f-62fb-4bf6-8a19-5c9e7b1a5b8f",
   "metadata": {},
   "source": [
    "6. Generate 1000 samples from a normal distribution and compute mean and std."
   ]
  },
  {
   "cell_type": "code",
   "execution_count": 488,
   "id": "9eecf6ce-b899-42a1-b42f-e065e9640ad8",
   "metadata": {},
   "outputs": [
    {
     "name": "stdout",
     "output_type": "stream",
     "text": [
      "[4868  619  422 1321 4862  271 3540 4569 3580 4222  483 2875  879  606\n",
      " 1933 2819 1036  378 1248  421 1055 4879 3276 4697  233 1129 1212 4391\n",
      " 1010 1797 1587 3946 3015 1662 1410 3647 4722    8  770 4358 1356 4731\n",
      " 3168 3115 1075 2909 1941 2377 4460 1029 2820 4592 3643 3339  809 4771\n",
      " 3382  998 4737 4324 4106 3286 1723  675 1560 1896 2835   70 1131   39\n",
      " 4921   26 3400 4379 4220  374 1677 4870 4321 3055  246 1449 1357 1136\n",
      "   22 1684 1435 2338 2350 4109 1291 1562 3822 3405  580 1992 1152  983\n",
      " 3531 1983 4996  343 2595 1712 1907 4886  896 1895 2515 1538  696 1608\n",
      " 3211   44 3719 4324 4046 4118 4570 1366  393 3455 3599  674 4378 3838\n",
      "  586 3306 4454 4038 4427 4550 3237 2387 3999 3578 2878 1259 2818 3973\n",
      " 1111   87  156 2733 1614 2132 1333 3976 2199 4298 1065  816 2960 4098\n",
      " 2069 4011   41 3997 1560  801 4862 2024 1940 2407 4735 1267  548 4737\n",
      " 3720 3142 2498   63  533  622 3868 3661 3962 2173 2212 3520 4722  334\n",
      "  287 3831 3958 1869 3863 2458 1484 3014 3561 1285  367  974  595 2839\n",
      " 3784 3830 2859 2016  301 1938  670 1355 1502 4292  791  277  161 3581\n",
      "  561 1424 1505 2775 1146 3116 2676   25 4399  413 3849 1606 1363 3953\n",
      " 2153 2983 1196 1384 4377 3342 4872  378 2456  471 4993 4154 2742 1180\n",
      " 4431 2143 1808 1889 1580 3194 3410 2955 3358 1827 1778 3693 4867 2650\n",
      " 3168 2653  368 3644 3595 1991  156 2291 2036 1193 1214 2402 3693 2438\n",
      " 4155  151  371 1461  988 2723 2305 3715 4967 1395   41  399 1616 4985\n",
      " 1911 1968 3317 3915 4746 3634  624  679 4211 2509 1776 4772 3591 3869\n",
      "  228 2883  631 4727 4951 4172 3081 1349 3620  650 4635 2017 1995 3684\n",
      " 1328 3412 1187  964 2717   13 4647 2532 4964 4744 4582 4515  576 3534\n",
      " 3971   48 2473 1852 2174 4323 4276 1939 1254  643 2364 2376 4990 4598\n",
      " 2861  533 2737   79 1126 4741 3558 2365 1444 1818  239 1182  639 3679\n",
      " 3850  579 4834 1619 2252 3085 4061 2855 2868 3011  867 3016   36  292\n",
      " 2738 3233 2582 3805  507 4963  315 4545 4634 1485 4167 3776 3193 2923\n",
      " 4577  370  363 2129 4077  224 3065 4520 1207 1232 1207 1567 3000 1254\n",
      " 2834 2780  841  132  162 3507 2769 3518 4588  226  328 2261 4115  404\n",
      " 4000 3241 2412 1312  803 2411 4188 1149 3024  929 3531 3190 3284   77\n",
      " 4098  175 3594 1458 2342 3228 1862 2224 2962 3207 4608 3947 1263 3555\n",
      " 2701  932  475 4512 1678 3652 2773 3489 2026  953 3083 1776 1814 2971\n",
      "  929  242  650 1104 3746 4509 1477 1977 3387 1288 1664 4038 2365 4525\n",
      " 1420 2276  355 3661 3147 3886 2943 2622 3952 3166 1963 1327 4035 4135\n",
      " 3644 1049 3734 1729  429 4107  646 1103 4431 4384 1438  500 1460 2009\n",
      " 2384 3075 1705 4816 4780 4215 1614 3320  950 4227 2419  696 4402 3833\n",
      " 4378  157 1350 1467  814  257   73  682  843 2034 3685 4858 3380 4249\n",
      " 1436 4910  834  970  373 4987 4671 2600 2237 4984  774  505 1306   25\n",
      " 2597 4862 3012 1949 2864 4225 3217 2115  824 2709 3562 4728 1678 2158\n",
      " 3231 3825 1739 2676  372 3942 2147 3528 4583 2544 4098 2680 3069 3114\n",
      " 3424 3084 4202 3280 4454  585   66 2447 2167 1616 1829  322 2149 4064\n",
      " 1408 1603  627 3031 3696 3190 4812 1895  704  450 2040 2894 3000  131\n",
      " 1816 4775  365 4034 1775 3264  794 4373 1927 1664 3961 2630 3008  547\n",
      " 4553 3883 4748 1085 4402 4155  513 2839 2260 4270 2749 3770 1124  330\n",
      " 3678 4611   20  242 3421 4433 3204   46 2557 4656 3395 2723 3077 2977\n",
      "   17 4965 1144 4920 2687 1509  594 4320  872 4550 2904   51 2963 4842\n",
      " 3198 3905 4465 2472 1274 4832 4992 4640 2018 4214 3646 4568 1679 1593\n",
      " 1193 1133 3917 1313  702 4885 4446 4426 4071 4260 3574 2449 2033 4860\n",
      " 4861 2187 3407 2143 1911 4774  968  939 2348 4791 3686 3608 2529 4677\n",
      " 3349 1540 1804   69 4422 2175 1335   55  360  456 4135 4729 4670  713\n",
      " 4239 1941 1932 1205 2905 3960 3228 4234 4891 3688  376 1767 2377 1707\n",
      "  151  705 3972  560  144 1086  336 2739 1160 1642 2256 3278 1625 3221\n",
      " 4304  401 2607 1741 1988 4498 3272  315 1361 1076 1426 2559 2178  277\n",
      " 4697 2672 2965 3397 2423  608 4785 3446 1753 1232 2521 3832 3597  361\n",
      " 4157  494 3084 1119   69 1299 2510 1783 1716  501 4196 1546 1027  430\n",
      " 2562 1904 4922  214 3407 3596  587 2504 2673 3928 3570  448 3202 2516\n",
      " 1236 1292 4952 4229  955 4688 2865 3063 2613 4015   63 4200  890 1105\n",
      " 1756 1938  351  614 2616 3095 2036 2250 1184 3807 4924  617 4590 2041\n",
      " 1045 4045 3187 3929  483 4201 2838 4347  994 4583 1306 4488 2377  423\n",
      " 2555 3959 2829 3230  917 4452 2921 2906  725 4565 1060 3827 4222 4044\n",
      " 4040 3907 3903 1554 1622 1123 1935 1750 3601 2073 1029  793 1314 3009\n",
      " 3147 4148 3688  457 3469 2875 3398 3798 2248 3105  182 4385  466 2503\n",
      "  872 2113 3372 4447  110 3363 4739 4223  581 4243 2727 3704 3016 1809\n",
      "  324  850 4468 3791 3047  735 4432 4215 3738 2211 4243 2789 4702 1809\n",
      " 4066  582 3191 1863 4171 4485 3432 3058 4160 3375 3430 3754 3559  994\n",
      "  556 1871 2707 1794 4692 2134 1360 4300 1499 1342 2428 1225 2914 2144\n",
      " 4178 1876 3373 4148 3990 3969 2074  377 2885 4504 2844 2361 2026   98\n",
      " 4258 4097 1009 3432  634  626   87  854 4079 3126 1308 4368 2948 1029\n",
      " 3424 3567 4034 2655  708 4511 1010 1885 2813  708 4805 4007 1269 2095\n",
      " 4293 4038  440 4233 2153 3477 4450 2370  442  599 3486 1011   49 1985\n",
      " 1368 4902 4819 1108 2134 2274 1038  787 3071 3991  122 4982  566 2600\n",
      " 2387 2046 1268  279 1443 2605]\n"
     ]
    }
   ],
   "source": [
    "d = np.random.randint(1,5000,(1000))\n",
    "print(d)"
   ]
  },
  {
   "cell_type": "code",
   "execution_count": 489,
   "id": "1c4cf807-163a-4fc3-bb35-e7986b854c7a",
   "metadata": {},
   "outputs": [
    {
     "name": "stdout",
     "output_type": "stream",
     "text": [
      "2499.578\n"
     ]
    }
   ],
   "source": [
    "print(np.mean(d))"
   ]
  },
  {
   "cell_type": "code",
   "execution_count": 490,
   "id": "e314bc5f-aa1e-403b-8fa6-086adfb8d79d",
   "metadata": {},
   "outputs": [
    {
     "name": "stdout",
     "output_type": "stream",
     "text": [
      "1472.470317499134\n"
     ]
    }
   ],
   "source": [
    "print(np.std(d))"
   ]
  },
  {
   "cell_type": "markdown",
   "id": "0480505c-a513-4b8a-88d8-82060aae4b16",
   "metadata": {},
   "source": [
    "7. Get unique values from an array and their counts."
   ]
  },
  {
   "cell_type": "code",
   "execution_count": 492,
   "id": "cfe681c1-8069-44b3-b6cb-4a236be484ad",
   "metadata": {},
   "outputs": [
    {
     "name": "stdout",
     "output_type": "stream",
     "text": [
      "[11 23 11 45 32 65 78 21 55 65 87 90 21]\n"
     ]
    }
   ],
   "source": [
    "e = np.array([11,23,11,45,32,65,78,21,55,65,87,90,21])\n",
    "print(e)"
   ]
  },
  {
   "cell_type": "code",
   "execution_count": 493,
   "id": "9c11550b-ea09-446a-a116-c06f5cadb909",
   "metadata": {},
   "outputs": [
    {
     "name": "stdout",
     "output_type": "stream",
     "text": [
      "[11 21 23 32 45 55 65 78 87 90]\n"
     ]
    }
   ],
   "source": [
    "print(np.unique(e))"
   ]
  },
  {
   "cell_type": "markdown",
   "id": "f6b2d899-a864-4ff3-bd0d-f7922062efa7",
   "metadata": {},
   "source": [
    "8. Generate a 2D array of shape (5, 5) from a normal distribution with mean=50 and std=10."
   ]
  },
  {
   "cell_type": "code",
   "execution_count": 495,
   "id": "79dd43cf-b65a-41b3-8d99-f4d73d86595e",
   "metadata": {},
   "outputs": [
    {
     "name": "stdout",
     "output_type": "stream",
     "text": [
      "[[ 1  2  3  4  5]\n",
      " [ 6  7  8  9 10]\n",
      " [11 12 13 14 15]\n",
      " [16 17 18 19 20]\n",
      " [21 22 23 24 25]]\n"
     ]
    }
   ],
   "source": [
    "f = np.array([[1,2,3,4,5],[6,7,8,9,10],[11,12,13,14,15],[16,17,18,19,20],[21,22,23,24,25]])\n",
    "print(f)"
   ]
  },
  {
   "cell_type": "code",
   "execution_count": 496,
   "id": "f5ae6e1a-6b36-41ef-908f-0ecb3369dd8b",
   "metadata": {},
   "outputs": [
    {
     "data": {
      "text/plain": [
       "(5, 5)"
      ]
     },
     "execution_count": 496,
     "metadata": {},
     "output_type": "execute_result"
    }
   ],
   "source": [
    "f.shape"
   ]
  },
  {
   "cell_type": "code",
   "execution_count": 497,
   "id": "82f944c7-b0a6-4bf4-be7d-9d80c5ecd42e",
   "metadata": {},
   "outputs": [
    {
     "name": "stdout",
     "output_type": "stream",
     "text": [
      "[[51 52 53 54 55]\n",
      " [56 57 58 59 60]\n",
      " [61 62 63 64 65]\n",
      " [66 67 68 69 70]\n",
      " [71 72 73 74 75]]\n"
     ]
    }
   ],
   "source": [
    "print(f + 50)"
   ]
  },
  {
   "cell_type": "code",
   "execution_count": 498,
   "id": "646cdb34-52ed-4492-bbeb-ac86b294c22b",
   "metadata": {},
   "outputs": [
    {
     "data": {
      "text/plain": [
       "array([[11, 12, 13, 14, 15],\n",
       "       [16, 17, 18, 19, 20],\n",
       "       [21, 22, 23, 24, 25],\n",
       "       [26, 27, 28, 29, 30],\n",
       "       [31, 32, 33, 34, 35]])"
      ]
     },
     "execution_count": 498,
     "metadata": {},
     "output_type": "execute_result"
    }
   ],
   "source": [
    "f + 10"
   ]
  },
  {
   "cell_type": "markdown",
   "id": "0c71184c-ed99-4005-8b45-3a412ef48470",
   "metadata": {},
   "source": [
    "9. create a numpy array of even numbers between 2 and 20"
   ]
  },
  {
   "cell_type": "code",
   "execution_count": 500,
   "id": "b97db918-09d1-4c83-9905-f9178b5e0945",
   "metadata": {},
   "outputs": [
    {
     "data": {
      "text/plain": [
       "array([ 2,  4,  6,  8, 10, 12, 14, 16, 18])"
      ]
     },
     "execution_count": 500,
     "metadata": {},
     "output_type": "execute_result"
    }
   ],
   "source": [
    "even = np.arange(2,20,(2))\n",
    "even"
   ]
  },
  {
   "cell_type": "markdown",
   "id": "e3bce659-9f4c-42fb-b7b4-8c5a4f77cd5c",
   "metadata": {},
   "source": [
    "10. Find the shape, size, and data type of the array a = np.array([[1, 2], [3, 4]])."
   ]
  },
  {
   "cell_type": "code",
   "execution_count": 502,
   "id": "57455c0b-b8eb-497a-8779-c6fe9ec2a883",
   "metadata": {},
   "outputs": [
    {
     "name": "stdout",
     "output_type": "stream",
     "text": [
      "[[1 2]\n",
      " [3 4]]\n"
     ]
    }
   ],
   "source": [
    "a = np.array([[1,2],[3,4]])\n",
    "print(a)"
   ]
  },
  {
   "cell_type": "code",
   "execution_count": 503,
   "id": "7105b92c-5bb0-4057-bdbe-00bb0625b18a",
   "metadata": {},
   "outputs": [
    {
     "data": {
      "text/plain": [
       "(2, 2)"
      ]
     },
     "execution_count": 503,
     "metadata": {},
     "output_type": "execute_result"
    }
   ],
   "source": [
    "a.shape"
   ]
  },
  {
   "cell_type": "code",
   "execution_count": 504,
   "id": "79c483ce-1fe7-4015-8ccc-3d7e96c3e8e2",
   "metadata": {},
   "outputs": [
    {
     "data": {
      "text/plain": [
       "4"
      ]
     },
     "execution_count": 504,
     "metadata": {},
     "output_type": "execute_result"
    }
   ],
   "source": [
    "a.size"
   ]
  },
  {
   "cell_type": "code",
   "execution_count": 505,
   "id": "27716dce-0080-4c10-88e3-f59019f8cb49",
   "metadata": {},
   "outputs": [
    {
     "data": {
      "text/plain": [
       "dtype('int32')"
      ]
     },
     "execution_count": 505,
     "metadata": {},
     "output_type": "execute_result"
    }
   ],
   "source": [
    "a.dtype"
   ]
  },
  {
   "cell_type": "markdown",
   "id": "c0bf4937-2a25-46af-98ff-1b85e4e9479f",
   "metadata": {},
   "source": [
    "11. Generate a 1D array of 5 random numbers between 0 and 1."
   ]
  },
  {
   "cell_type": "code",
   "execution_count": 507,
   "id": "7839fa3b-5a01-4886-a045-f9bd6279d792",
   "metadata": {},
   "outputs": [
    {
     "name": "stdout",
     "output_type": "stream",
     "text": [
      "[0 0 0 0 0]\n"
     ]
    }
   ],
   "source": [
    "g = np.random.randint(0,1,(5))\n",
    "print(g)"
   ]
  },
  {
   "cell_type": "code",
   "execution_count": 508,
   "id": "1710dab7-03f1-4411-89b8-85676f2ef4c2",
   "metadata": {},
   "outputs": [],
   "source": [
    "g = np.random.rand(5)"
   ]
  },
  {
   "cell_type": "code",
   "execution_count": 509,
   "id": "5ff9b246-5128-4329-9ccf-217d7bf8f8e3",
   "metadata": {},
   "outputs": [
    {
     "data": {
      "text/plain": [
       "array([0.55705567, 0.97609498, 0.51528003, 0.69007864, 0.84064702])"
      ]
     },
     "execution_count": 509,
     "metadata": {},
     "output_type": "execute_result"
    }
   ],
   "source": [
    "g"
   ]
  },
  {
   "cell_type": "markdown",
   "id": "45300041-4260-49af-8762-71c1213b8fbc",
   "metadata": {},
   "source": [
    "12. Find the maximum, minimum, and sum of elements in the array [5, 8, 2, 9, 1]."
   ]
  },
  {
   "cell_type": "code",
   "execution_count": 511,
   "id": "84378747-d054-478e-a1e4-02f0afcbe96c",
   "metadata": {},
   "outputs": [
    {
     "name": "stdout",
     "output_type": "stream",
     "text": [
      "[5 8 2 9 1]\n"
     ]
    }
   ],
   "source": [
    "h = np.array([5,8,2,9,1])\n",
    "print(h)"
   ]
  },
  {
   "cell_type": "code",
   "execution_count": 512,
   "id": "f4a28a31-078b-4079-a005-4e2bd5cc85ce",
   "metadata": {},
   "outputs": [
    {
     "name": "stdout",
     "output_type": "stream",
     "text": [
      "9\n"
     ]
    }
   ],
   "source": [
    "print(np.max(h))"
   ]
  },
  {
   "cell_type": "code",
   "execution_count": 513,
   "id": "a91ffb2f-c7e8-40e6-95d5-722c80c71384",
   "metadata": {},
   "outputs": [
    {
     "name": "stdout",
     "output_type": "stream",
     "text": [
      "1\n"
     ]
    }
   ],
   "source": [
    "print(np.min(h))"
   ]
  },
  {
   "cell_type": "code",
   "execution_count": 514,
   "id": "ffa60d41-096d-4e13-89fb-b681dce75a8f",
   "metadata": {},
   "outputs": [
    {
     "name": "stdout",
     "output_type": "stream",
     "text": [
      "25\n"
     ]
    }
   ],
   "source": [
    "print(np.sum(h))"
   ]
  },
  {
   "cell_type": "markdown",
   "id": "db467d40-ffc6-4873-8a23-39a3bc0baea1",
   "metadata": {},
   "source": [
    "13. Get the first 3 elements from the array [10, 20, 30, 40, 50]."
   ]
  },
  {
   "cell_type": "code",
   "execution_count": 516,
   "id": "164f00ee-1fd4-4213-860e-95916ef25246",
   "metadata": {},
   "outputs": [
    {
     "name": "stdout",
     "output_type": "stream",
     "text": [
      "[10 20 30 40 50]\n"
     ]
    }
   ],
   "source": [
    "array1 = np.array([10,20,30,40,50])\n",
    "print(array1)"
   ]
  },
  {
   "cell_type": "code",
   "execution_count": 517,
   "id": "d2b6d745-32a9-47c8-a6be-9569dea099fc",
   "metadata": {},
   "outputs": [
    {
     "data": {
      "text/plain": [
       "array([10, 20, 30])"
      ]
     },
     "execution_count": 517,
     "metadata": {},
     "output_type": "execute_result"
    }
   ],
   "source": [
    "array1[:3]"
   ]
  },
  {
   "cell_type": "markdown",
   "id": "c0b8d2d4-a2c4-45be-bdc6-275b6ddcaa5a",
   "metadata": {},
   "source": [
    "# **Matrix operations**"
   ]
  },
  {
   "cell_type": "code",
   "execution_count": 519,
   "id": "7803b5af-19dc-40b1-9f14-28c902eaf302",
   "metadata": {},
   "outputs": [],
   "source": [
    "import numpy as np"
   ]
  },
  {
   "cell_type": "code",
   "execution_count": 520,
   "id": "d6eb5a67-5805-48a0-9ebe-f24faf386d6a",
   "metadata": {},
   "outputs": [
    {
     "name": "stdout",
     "output_type": "stream",
     "text": [
      "[[3 4]\n",
      " [5 6]]\n",
      "[[10 12]\n",
      " [ 3  6]]\n"
     ]
    }
   ],
   "source": [
    "a = np.array([[3,4],[5,6]]) # matrix 1\n",
    "b = np.array([[10,12],[3,6]]) # matrix 2\n",
    "print(a)\n",
    "print(b)"
   ]
  },
  {
   "cell_type": "code",
   "execution_count": 521,
   "id": "e2933969-c11f-4c4c-8638-dd4f0948e7e5",
   "metadata": {},
   "outputs": [
    {
     "name": "stdout",
     "output_type": "stream",
     "text": [
      "[[13 16]\n",
      " [ 8 12]]\n"
     ]
    }
   ],
   "source": [
    "print(a + b) # addition"
   ]
  },
  {
   "cell_type": "code",
   "execution_count": 522,
   "id": "266eaa5a-5ad6-42c0-a24c-17c5fd73a7aa",
   "metadata": {},
   "outputs": [
    {
     "name": "stdout",
     "output_type": "stream",
     "text": [
      "[[-7 -8]\n",
      " [ 2  0]]\n"
     ]
    }
   ],
   "source": [
    "print(a - b) # subtraction"
   ]
  },
  {
   "cell_type": "code",
   "execution_count": 523,
   "id": "a5cc503b-f32e-41ae-90cd-a2061207477c",
   "metadata": {},
   "outputs": [
    {
     "name": "stdout",
     "output_type": "stream",
     "text": [
      "[[30 48]\n",
      " [15 36]]\n"
     ]
    }
   ],
   "source": [
    "print(a * b) # multiplication"
   ]
  },
  {
   "cell_type": "code",
   "execution_count": 524,
   "id": "4ad2fc2a-8fc8-4b6b-8937-8742d9b4bda3",
   "metadata": {},
   "outputs": [
    {
     "name": "stdout",
     "output_type": "stream",
     "text": [
      "[[42 60]\n",
      " [68 96]]\n"
     ]
    }
   ],
   "source": [
    "print(np.dot(a,b)) # matrix dot product"
   ]
  },
  {
   "cell_type": "code",
   "execution_count": 525,
   "id": "5d217c19-6721-46c1-a979-2e7166a38c9c",
   "metadata": {},
   "outputs": [
    {
     "name": "stdout",
     "output_type": "stream",
     "text": [
      "[[3 5]\n",
      " [4 6]]\n"
     ]
    }
   ],
   "source": [
    "print(a.T) # transpose of a"
   ]
  },
  {
   "cell_type": "code",
   "execution_count": 526,
   "id": "18c98ed7-8320-4da5-a9ab-a9e3d7d5f83e",
   "metadata": {},
   "outputs": [
    {
     "name": "stdout",
     "output_type": "stream",
     "text": [
      "[[10  3]\n",
      " [12  6]]\n"
     ]
    }
   ],
   "source": [
    "print(b.T) # transpose of b"
   ]
  },
  {
   "cell_type": "code",
   "execution_count": 527,
   "id": "14f69d8c-fd43-42bf-bfb2-c938e08ebc39",
   "metadata": {},
   "outputs": [
    {
     "name": "stdout",
     "output_type": "stream",
     "text": [
      "-2.0000000000000004\n"
     ]
    }
   ],
   "source": [
    "from numpy.linalg import det # important to import if using determinant\n",
    "print(det(a)) # matrix determinant"
   ]
  },
  {
   "cell_type": "code",
   "execution_count": 528,
   "id": "7b6df891-dea0-4a2a-82ca-803b21926099",
   "metadata": {},
   "outputs": [
    {
     "name": "stdout",
     "output_type": "stream",
     "text": [
      "Matrix A is: \n",
      " [[1 3]\n",
      " [4 5]]\n",
      "Vector V is: \n",
      " [2 3]\n",
      "Dot product is : \n",
      " [11 23]\n"
     ]
    }
   ],
   "source": [
    "# dot product of matrix and vector\n",
    "A = np.array([[1,3],[4,5]]) # 2D array\n",
    "V = np.array([2,3]) # 1D array\n",
    "\n",
    "print('Matrix A is: \\n',A)\n",
    "print('Vector V is: \\n',V)\n",
    "\n",
    "print('Dot product is : \\n',np.dot(A,V))"
   ]
  },
  {
   "cell_type": "markdown",
   "id": "339e27dd-337d-4443-8e43-66859da899bc",
   "metadata": {},
   "source": [
    "**Random Sampling** : randomly picks values from a given array"
   ]
  },
  {
   "cell_type": "code",
   "execution_count": 530,
   "id": "13f1135d-01da-4415-abc1-825c656da7ea",
   "metadata": {},
   "outputs": [
    {
     "name": "stdout",
     "output_type": "stream",
     "text": [
      "[5 3 3 7 6]\n",
      "[3 8 6 4 7]\n",
      "[1 0]\n",
      "[[4 3]\n",
      " [7 6]]\n",
      "[[6 7 8]\n",
      " [3 4 5]]\n"
     ]
    }
   ],
   "source": [
    "c = np.array([1,2,3,4,5,6,7,8,9,10])\n",
    "d = np.random.choice(c,size = 5)\n",
    "print(d)\n",
    "\n",
    "e = np.array([[3,4,5],[6,7,8]])\n",
    "f = np.random.choice(e.flatten(),size = 5,replace = False) # flatten() - converts 2d array in 1d and replace = False will not repeat any value\n",
    "print(f)\n",
    "\n",
    "# .shape[] selects row randomly\n",
    "r = np.random.choice(e.shape[0], size = 2, replace = False) \n",
    "print(r)\n",
    "\n",
    "# randomly selects column\n",
    "col = np.random.choice(e.shape[1], size = 2, replace = False)\n",
    "print(e[:,col])\n",
    "print(e[r])"
   ]
  },
  {
   "cell_type": "markdown",
   "id": "8525b39a-58ab-49b5-bbf8-3e6417f441dd",
   "metadata": {},
   "source": [
    "**Random shuffling** - change array elements positions randomly"
   ]
  },
  {
   "cell_type": "code",
   "execution_count": 532,
   "id": "1aa30e84-f330-4b35-8b72-02a4318d3ac0",
   "metadata": {},
   "outputs": [
    {
     "name": "stdout",
     "output_type": "stream",
     "text": [
      "[ 2  4  6  8 10]\n",
      "[ 4  6  2 10  8]\n",
      "[[2 4 6]\n",
      " [1 2 3]\n",
      " [7 8 9]]\n",
      "[[1 2 3]\n",
      " [2 4 6]\n",
      " [7 8 9]]\n"
     ]
    }
   ],
   "source": [
    "g = np.array([2,4,6,8,10])\n",
    "print(g)\n",
    "np.random.shuffle(g)\n",
    "print(g)\n",
    "\n",
    "# random shuffling on 2d array\n",
    "h = np.array([[2,4,6],[1,2,3],[7,8,9]])\n",
    "print(h)\n",
    "np.random.shuffle(h)\n",
    "print(h)"
   ]
  },
  {
   "cell_type": "markdown",
   "id": "e4c52298-d41e-45a2-b8e2-2e12bd65bb88",
   "metadata": {},
   "source": [
    "**Comparison in array**"
   ]
  },
  {
   "cell_type": "code",
   "execution_count": 534,
   "id": "f0c179c0-2b4b-4a9e-91dd-35489a65ca83",
   "metadata": {},
   "outputs": [
    {
     "name": "stdout",
     "output_type": "stream",
     "text": [
      "[False False False]\n",
      "[ True  True  True]\n",
      "[False False False]\n",
      "[ True  True  True]\n",
      "[False False False]\n",
      "[ True  True  True]\n"
     ]
    }
   ],
   "source": [
    "i = np.array([1,2,3])\n",
    "j = np.array([4,5,6])\n",
    "print(i == j)\n",
    "print(i != j)\n",
    "print(i >= j)\n",
    "print(i <= j)\n",
    "print(i > j)\n",
    "print(i < j)\n"
   ]
  },
  {
   "cell_type": "markdown",
   "id": "a69380da-cb08-4260-adfe-fb351467d774",
   "metadata": {},
   "source": [
    "# Assignment 3"
   ]
  },
  {
   "cell_type": "markdown",
   "id": "d97cd062-e38f-4c82-a0fa-92965a3aac0f",
   "metadata": {},
   "source": [
    "1. Given two arrays add , subtract , multiply them element - wise"
   ]
  },
  {
   "cell_type": "code",
   "execution_count": 537,
   "id": "f5198d55-df57-42c2-bacc-ab4c982ed586",
   "metadata": {},
   "outputs": [
    {
     "name": "stdout",
     "output_type": "stream",
     "text": [
      "[5 7 9]\n",
      "[-3 -3 -3]\n",
      "[ 4 10 18]\n"
     ]
    }
   ],
   "source": [
    "a = np.array([1,2,3])\n",
    "b = np.array([4,5,6])\n",
    "print(a+b)\n",
    "print(a-b)\n",
    "print(a*b)"
   ]
  },
  {
   "cell_type": "markdown",
   "id": "fe48f929-4678-42e6-8294-10978f7bcc97",
   "metadata": {},
   "source": [
    "2. Create two 2×2 NumPy arrays and perform matrix addition.\n"
   ]
  },
  {
   "cell_type": "code",
   "execution_count": 539,
   "id": "822761ca-95eb-4782-afa4-e0b44ea621e7",
   "metadata": {},
   "outputs": [
    {
     "name": "stdout",
     "output_type": "stream",
     "text": [
      "[[12 10]\n",
      " [ 6  9]]\n",
      "[[ 4 67]\n",
      " [10 31]]\n",
      "[[16 77]\n",
      " [16 40]]\n"
     ]
    }
   ],
   "source": [
    "matrix1 = np.array([[12,10],[6,9]])\n",
    "matrix2 = np.array([[4,67],[10,31]])\n",
    "print(matrix1)\n",
    "print(matrix2)\n",
    "print(matrix1 + matrix2)"
   ]
  },
  {
   "cell_type": "markdown",
   "id": "c10e8cb5-5bdb-4d22-8aa6-be6aa3784ac7",
   "metadata": {},
   "source": [
    "3. Create a 2×3 matrix and a 3×2 matrix, then perform matrix multiplication using NumPy.\n"
   ]
  },
  {
   "cell_type": "code",
   "execution_count": 541,
   "id": "ba7365a7-2f64-43bd-b600-42794e4c3651",
   "metadata": {},
   "outputs": [
    {
     "name": "stdout",
     "output_type": "stream",
     "text": [
      "[[1 2 3]\n",
      " [4 5 6]]\n",
      "[[1 2]\n",
      " [6 5]\n",
      " [9 1]]\n"
     ]
    }
   ],
   "source": [
    "a = np.array([[1,2,3],[4,5,6]])\n",
    "b = np.array([[1,2],[6,5],[9,1]])\n",
    "print(a)\n",
    "print(b)"
   ]
  },
  {
   "cell_type": "code",
   "execution_count": 542,
   "id": "c362d0db-595d-4d53-a636-c11ceac6e181",
   "metadata": {},
   "outputs": [
    {
     "name": "stdout",
     "output_type": "stream",
     "text": [
      "[[40 15]\n",
      " [88 39]]\n"
     ]
    }
   ],
   "source": [
    "print(np.dot(a,b))"
   ]
  },
  {
   "cell_type": "markdown",
   "id": "39756a39-3420-4a46-bc7b-23c82aee22df",
   "metadata": {},
   "source": [
    "4. Create two 3×3 matrices and subtract the second from the first.\n"
   ]
  },
  {
   "cell_type": "code",
   "execution_count": 544,
   "id": "ff17770e-6f19-409a-94ca-bfd3e8cc5967",
   "metadata": {},
   "outputs": [
    {
     "name": "stdout",
     "output_type": "stream",
     "text": [
      "[[[ 1 34 21]\n",
      "  [56 88 10]]]\n",
      "[[[36 12 18]\n",
      "  [56 43 21]]]\n"
     ]
    }
   ],
   "source": [
    "a = np.array([[[1,34,21],[56,88,10]]])\n",
    "b = np.array([[[36,12,18],[56,43,21]]])\n",
    "print(a)\n",
    "print(b)"
   ]
  },
  {
   "cell_type": "code",
   "execution_count": 545,
   "id": "2cc1a2a1-e476-4671-afdc-a914d4986c55",
   "metadata": {},
   "outputs": [
    {
     "name": "stdout",
     "output_type": "stream",
     "text": [
      "[[[-35  22   3]\n",
      "  [  0  45 -11]]]\n"
     ]
    }
   ],
   "source": [
    "print(a-b)"
   ]
  },
  {
   "cell_type": "markdown",
   "id": "6d4b87aa-c690-4f3c-972e-3e4c3c4ba977",
   "metadata": {},
   "source": [
    "5. Create a 1D array with values from 10 to 20. Randomly pick 3 elements without replacement.\n"
   ]
  },
  {
   "cell_type": "code",
   "execution_count": 547,
   "id": "6b9ea1f4-0c74-4712-870a-a5bfdb0b861c",
   "metadata": {},
   "outputs": [
    {
     "name": "stdout",
     "output_type": "stream",
     "text": [
      "[10 11 12 13 14 15 16 17 18 19]\n"
     ]
    }
   ],
   "source": [
    "arr = np.arange(10,20)\n",
    "print(arr)"
   ]
  },
  {
   "cell_type": "code",
   "execution_count": 548,
   "id": "6601e5bb-bbc2-4c84-a991-346b034be90d",
   "metadata": {},
   "outputs": [],
   "source": [
    "r = np.random.choice(arr,size = 3,replace = False)"
   ]
  },
  {
   "cell_type": "code",
   "execution_count": 549,
   "id": "b1b1e1e5-c2fe-4ffc-ac00-0c9ae2f42a92",
   "metadata": {},
   "outputs": [
    {
     "data": {
      "text/plain": [
       "array([13, 18, 14])"
      ]
     },
     "execution_count": 549,
     "metadata": {},
     "output_type": "execute_result"
    }
   ],
   "source": [
    "r"
   ]
  },
  {
   "cell_type": "markdown",
   "id": "494959d6-6002-4b3f-b82c-cba914a2261a",
   "metadata": {},
   "source": [
    "6. Create a 4×3 matrix. Randomly select one of the rows.\n"
   ]
  },
  {
   "cell_type": "code",
   "execution_count": 551,
   "id": "96c15a11-8c8b-4171-87ec-12821b14c22d",
   "metadata": {},
   "outputs": [
    {
     "name": "stdout",
     "output_type": "stream",
     "text": [
      "[[ 1  2  3]\n",
      " [21  4  5]\n",
      " [ 5  7  6]\n",
      " [32  1  7]]\n",
      "[3 0]\n"
     ]
    }
   ],
   "source": [
    "a = np.array([[1,2,3],[21,4,5],[5,7,6],[32,1,7]])\n",
    "print(a)\n",
    "random_row = np.random.choice(a.shape[0],size = 2,replace = False)\n",
    "print(random_row)"
   ]
  },
  {
   "cell_type": "markdown",
   "id": "ecf7d4d9-be42-4a25-993d-74f812fb8977",
   "metadata": {},
   "source": [
    "7. Create an array with values from 1 to 10 and shuffle it in place.\n"
   ]
  },
  {
   "cell_type": "code",
   "execution_count": 553,
   "id": "055ae35c-75b2-4ea3-8fd0-f42e3213e285",
   "metadata": {},
   "outputs": [
    {
     "name": "stdout",
     "output_type": "stream",
     "text": [
      "[1 2 3 4 5 6 7 8 9]\n",
      "[7 6 1 9 5 4 2 8 3]\n"
     ]
    }
   ],
   "source": [
    "a = np.arange(1,10)\n",
    "print(a)\n",
    "np.random.shuffle(a)\n",
    "print(a)"
   ]
  },
  {
   "cell_type": "markdown",
   "id": "9f13477a-266d-4f49-a974-a86b3d6ed4df",
   "metadata": {},
   "source": [
    "8. Create two 2×2 matrices and return a boolean matrix where the first is greater than the second.\n"
   ]
  },
  {
   "cell_type": "code",
   "execution_count": 555,
   "id": "616f5ccf-1e3a-4835-b43a-90529cdbe0f6",
   "metadata": {},
   "outputs": [
    {
     "name": "stdout",
     "output_type": "stream",
     "text": [
      "False\n"
     ]
    }
   ],
   "source": [
    "m1 = ([[1,2],[4,5]])\n",
    "m2 = ([[67,1],[8,10]])\n",
    "print(m1 > m2)"
   ]
  },
  {
   "cell_type": "markdown",
   "id": "3dbd3f49-8bce-4243-9dd4-efabd8cb6cb6",
   "metadata": {},
   "source": [
    "9. Create a 3×3 matrix with random integers (0–20). Count how many elements are greater than 10.\n"
   ]
  },
  {
   "cell_type": "code",
   "execution_count": 557,
   "id": "6b4bc6da-88c8-48d8-be49-8bcd1fb890a4",
   "metadata": {},
   "outputs": [
    {
     "name": "stdout",
     "output_type": "stream",
     "text": [
      "[[ 7 10 17]\n",
      " [ 9 18  7]\n",
      " [19  3  7]]\n"
     ]
    }
   ],
   "source": [
    "m = np.random.randint(0,20,(3,3))\n",
    "print(m)"
   ]
  },
  {
   "cell_type": "code",
   "execution_count": 558,
   "id": "c3f6bae8-7a1b-4d86-aef6-2a90acab2c23",
   "metadata": {},
   "outputs": [
    {
     "name": "stdout",
     "output_type": "stream",
     "text": [
      "[[False False  True]\n",
      " [False  True False]\n",
      " [ True False False]]\n"
     ]
    }
   ],
   "source": [
    "print(m > 10)"
   ]
  },
  {
   "cell_type": "markdown",
   "id": "38db4607-6692-4c22-9b04-c2470793bd9a",
   "metadata": {},
   "source": [
    "10. Convert a 2D array to a 1D array (flatten it)."
   ]
  },
  {
   "cell_type": "code",
   "execution_count": 560,
   "id": "e8215c4d-38ac-453f-b571-b1cd633918ca",
   "metadata": {},
   "outputs": [
    {
     "name": "stdout",
     "output_type": "stream",
     "text": [
      "[[ 1  2]\n",
      " [21  4]\n",
      " [ 5  7]\n",
      " [32  1]]\n",
      "[ 7  5  1  1 21  2 21 32]\n"
     ]
    }
   ],
   "source": [
    "a = np.array([[1,2],[21,4],[5,7],[32,1]])\n",
    "print(a)\n",
    "b = np.random.choice(a.flatten(),size = 8)\n",
    "print(b)"
   ]
  },
  {
   "cell_type": "markdown",
   "id": "83622683-a766-40bb-bbd8-42008403819d",
   "metadata": {},
   "source": [
    "# Permutation\n",
    "- **np.random.permutation** - shuffles the elements of the given range or array Returns a new order\n",
    "- shuffles the elements of a sequence (array or range) to return a new order.\n",
    "- Doesn't change the original elements.\n",
    "\n",
    "- **Algorithm** used by numpy for permutation is\n",
    "  - **Fisher-yates** - for generating random numbers it uses MT19937\n",
    "\n",
    "\n",
    "- np.random.permutation() returns a re-arranged array (it does not affect the original array)\n",
    "\n",
    "\n",
    "- **difference between shuffle and permutation in numpy**\n",
    "1. **In-place modification** - *np.random.shuffle* modifies the original array while *np.random.permutation* returns a new array\n",
    "2. **Return value** - *np.random.shuffle* returns None while *np.random.permutation* returns the shuffled array\n",
    "3. **original array** - *np.random.shuffle* changes the original array while *np.random.permutation* leaves it unchanged\n",
    "4. **usage** - use *np.random.shuffle* for modifying the single array while *np.random.permutation* use for generating multiple shuffled versions\n",
    "\n",
    "**Shuffling columns in numpy**\n",
    "- we use permutation() to shuffle columns in numpy"
   ]
  },
  {
   "cell_type": "code",
   "execution_count": 562,
   "id": "df27604c-bb46-4cd0-8528-29c57dedd661",
   "metadata": {},
   "outputs": [
    {
     "data": {
      "text/plain": [
       "array([14,  0, 11,  4,  6,  5,  2, 12,  7, 10,  9,  1, 13,  8,  3])"
      ]
     },
     "execution_count": 562,
     "metadata": {},
     "output_type": "execute_result"
    }
   ],
   "source": [
    "np.random.permutation(15) # generates elements in the given range and shuffles them"
   ]
  },
  {
   "cell_type": "code",
   "execution_count": 563,
   "id": "3861c1ed-cd3c-4d30-b2b3-b94f7d644cf3",
   "metadata": {},
   "outputs": [
    {
     "data": {
      "text/plain": [
       "array([54, 12,  1, 12, 21, 11, 32, 43])"
      ]
     },
     "execution_count": 563,
     "metadata": {},
     "output_type": "execute_result"
    }
   ],
   "source": [
    "a = np.array([12,1,32,12,43,11,54,21])\n",
    "np.random.permutation(a)\n"
   ]
  },
  {
   "cell_type": "code",
   "execution_count": 564,
   "id": "2606273e-3cc7-4c78-b206-d09ffde9522a",
   "metadata": {},
   "outputs": [
    {
     "name": "stdout",
     "output_type": "stream",
     "text": [
      "[[1 2 3]\n",
      " [4 5 6]\n",
      " [7 8 9]]\n",
      "[[3 1 2]\n",
      " [6 4 5]\n",
      " [9 7 8]]\n"
     ]
    }
   ],
   "source": [
    "a = np.array([[1,2,3],\n",
    "             [4,5,6],\n",
    "              [7,8,9]])\n",
    "print(a)\n",
    "\n",
    "# to shuffle columns use np.random.permutation\n",
    "col_shuffle = a[:,np.random.permutation(a.shape[1])]\n",
    "print(col_shuffle)"
   ]
  },
  {
   "cell_type": "markdown",
   "id": "042ad499-5b7f-43ed-a94a-3ed10803fe2e",
   "metadata": {},
   "source": [
    "**np.cumsum()** -  will add first element and next element till last element will print it "
   ]
  },
  {
   "cell_type": "code",
   "execution_count": 566,
   "id": "38c5ad7c-6306-495a-a4f6-b72159e83b92",
   "metadata": {},
   "outputs": [
    {
     "name": "stdout",
     "output_type": "stream",
     "text": [
      "[ 2  4  6  8 10]\n",
      "[ 1  3  6 10 15 21 28 36 45]\n",
      "[[ 1  2  3]\n",
      " [ 5  7  9]\n",
      " [12 15 18]]\n",
      "[[ 1  3  6]\n",
      " [ 4  9 15]\n",
      " [ 7 15 24]]\n"
     ]
    }
   ],
   "source": [
    "a = np.array([2,4,6,8,10])\n",
    "print(a)\n",
    "np.cumsum(a) \n",
    "\n",
    "b = np.array([[1,2,3],\n",
    "             [4,5,6],\n",
    "              [7,8,9]])\n",
    "print(np.cumsum(b)) # returns flattened array\n",
    "\n",
    "print(np.cumsum(b,axis=0)) # columnwise addition\n",
    "print(np.cumsum(b,axis=1)) # row wise addition"
   ]
  },
  {
   "cell_type": "markdown",
   "id": "2fe516b6-00ae-48ca-9dbb-240fe9c39eeb",
   "metadata": {},
   "source": [
    "**np.cumprod** - cumulative product"
   ]
  },
  {
   "cell_type": "code",
   "execution_count": 568,
   "id": "7596bdd1-a2a5-4c99-b334-b0d0c3abae87",
   "metadata": {},
   "outputs": [
    {
     "name": "stdout",
     "output_type": "stream",
     "text": [
      "[ 2  4  6  8 10]\n"
     ]
    },
    {
     "data": {
      "text/plain": [
       "array([   2,    8,   48,  384, 3840])"
      ]
     },
     "execution_count": 568,
     "metadata": {},
     "output_type": "execute_result"
    }
   ],
   "source": [
    "a = np.array([2,4,6,8,10])\n",
    "print(a)\n",
    "np.cumprod(a)"
   ]
  },
  {
   "cell_type": "code",
   "execution_count": 569,
   "id": "cf639d21-ba07-41ec-86a6-fe4d2e4dd4fc",
   "metadata": {},
   "outputs": [
    {
     "name": "stdout",
     "output_type": "stream",
     "text": [
      "[     1      2      6     24    120    720   5040  40320 362880]\n",
      "[[  1   2   6]\n",
      " [  4  20 120]\n",
      " [  7  56 504]]\n",
      "[[  1   2   3]\n",
      " [  4  10  18]\n",
      " [ 28  80 162]]\n"
     ]
    }
   ],
   "source": [
    "b = np.array([[1,2,3],\n",
    "             [4,5,6],\n",
    "              [7,8,9]])\n",
    "print(np.cumprod(b))\n",
    "\n",
    "print(np.cumprod(b,axis=1)) # row wise multiplication\n",
    "\n",
    "print(np.cumprod(b,axis=0)) # column wise multiplication"
   ]
  },
  {
   "cell_type": "markdown",
   "id": "d4e28d83-856b-4d52-9ed5-2a32116c79df",
   "metadata": {},
   "source": [
    "# logical conditions in numpy"
   ]
  },
  {
   "cell_type": "code",
   "execution_count": 571,
   "id": "778faba9-855f-4216-bbb3-741b1fc054ed",
   "metadata": {},
   "outputs": [
    {
     "name": "stdout",
     "output_type": "stream",
     "text": [
      "[False False  True  True  True  True]\n",
      "[ True  True  True  True  True  True]\n",
      "[ True  True False False False False]\n"
     ]
    }
   ],
   "source": [
    "a = np.array([1,2,3,4,5,6])\n",
    "print(np.logical_and(a>2,a<10)) # returns true only if both the conditions are true\n",
    "print(np.logical_or(a>2,a<10)) # returns true even if one condition is true\n",
    "print(np.logical_not(a>2)) # returns the inverse output if true -  it will return false, if false it will return true"
   ]
  },
  {
   "cell_type": "code",
   "execution_count": 572,
   "id": "4368bbd4-d291-4a28-8e68-77a42dfeb19e",
   "metadata": {},
   "outputs": [
    {
     "data": {
      "text/plain": [
       "True"
      ]
     },
     "execution_count": 572,
     "metadata": {},
     "output_type": "execute_result"
    }
   ],
   "source": [
    "np.any(a>5) # returns true only if any element meet the specified condition"
   ]
  },
  {
   "cell_type": "code",
   "execution_count": 573,
   "id": "90fce45a-8d9b-4bd4-9848-56d93930d8b1",
   "metadata": {},
   "outputs": [
    {
     "data": {
      "text/plain": [
       "True"
      ]
     },
     "execution_count": 573,
     "metadata": {},
     "output_type": "execute_result"
    }
   ],
   "source": [
    "np.all(a<10) # returns true only if all the elements meet the specified condition"
   ]
  },
  {
   "cell_type": "markdown",
   "id": "621a691f-ae0d-4ff5-9cf5-85d3d4981662",
   "metadata": {},
   "source": [
    "**filtering data**\n",
    "- **&** - works same as logical but instead of returning boolean values it returns real values\n",
    "- **|** - works same as logical but instead of returning boolean values it returns real values"
   ]
  },
  {
   "cell_type": "code",
   "execution_count": 575,
   "id": "879e123a-2734-4204-8b20-18e546e71e32",
   "metadata": {},
   "outputs": [
    {
     "name": "stdout",
     "output_type": "stream",
     "text": [
      "[4 5 6]\n"
     ]
    }
   ],
   "source": [
    "print(a[(a<10) & (a>3)]) # returns the elements that meets both the specified conditions"
   ]
  },
  {
   "cell_type": "code",
   "execution_count": 576,
   "id": "e1312fe1-9aa6-4213-b6f7-39b5df1087f3",
   "metadata": {},
   "outputs": [
    {
     "name": "stdout",
     "output_type": "stream",
     "text": [
      "[1 2 3 4 5 6]\n"
     ]
    }
   ],
   "source": [
    "print(a[(a<10) | (a>3)]) # returns the element that meets either one of the specified condition"
   ]
  },
  {
   "cell_type": "code",
   "execution_count": 577,
   "id": "f4f0a564-f0e3-468a-a1b4-93efade4b897",
   "metadata": {},
   "outputs": [
    {
     "name": "stdout",
     "output_type": "stream",
     "text": [
      "[1 2 3 4 5]\n"
     ]
    }
   ],
   "source": [
    "print(a[~(a>5)]) # returns the elements which meets the opposite condition of the specified condition"
   ]
  },
  {
   "cell_type": "code",
   "execution_count": 578,
   "id": "cb9fbd13-b24d-4514-ad34-e7bc3df83845",
   "metadata": {},
   "outputs": [
    {
     "name": "stdout",
     "output_type": "stream",
     "text": [
      "(array([3, 4, 5], dtype=int64),)\n"
     ]
    }
   ],
   "source": [
    "print(np.where(a>3)) # returns the indice / index of the elements which meet the specified condition"
   ]
  },
  {
   "cell_type": "code",
   "execution_count": 579,
   "id": "7a57ec30-294b-474c-9f15-17c6fbbaeda9",
   "metadata": {},
   "outputs": [
    {
     "data": {
      "text/plain": [
       "array([25, 65, 30, 40, 50])"
      ]
     },
     "execution_count": 579,
     "metadata": {},
     "output_type": "execute_result"
    }
   ],
   "source": [
    "d = np.array([10,20,30,40,50])\n",
    "e = np.array([25,65,32,76,88])\n",
    "\n",
    "np.where(d > 20, d ,e) # returns the elements based on the condition and the given arrays"
   ]
  },
  {
   "cell_type": "markdown",
   "id": "69481c07-63ee-42dc-8c5c-8ba95e002427",
   "metadata": {},
   "source": [
    "**statistical methods in array**"
   ]
  },
  {
   "cell_type": "code",
   "execution_count": 581,
   "id": "8f91b9d8-96ff-40f7-a854-b42520b8dc3e",
   "metadata": {},
   "outputs": [
    {
     "name": "stdout",
     "output_type": "stream",
     "text": [
      "6.0\n",
      "6.5\n"
     ]
    }
   ],
   "source": [
    "a = np.array([2,4,6,7,9]) # for odd number of elements in array it returns the middle element\n",
    "print(np.median(a))\n",
    "\n",
    "a = np.array([2,4,6,7,9,10]) # for even number of elements in array it return the average of middle elements\n",
    "print(np.median(a))\n",
    "\n"
   ]
  },
  {
   "cell_type": "code",
   "execution_count": 582,
   "id": "f1312735-aeb0-4ac1-8aca-5170cb44cfec",
   "metadata": {},
   "outputs": [
    {
     "name": "stdout",
     "output_type": "stream",
     "text": [
      "5.5\n",
      "[[2 4 5]\n",
      " [6 7 8]]\n",
      "[4. 7.]\n",
      "[4.  5.5 6.5]\n"
     ]
    }
   ],
   "source": [
    "c = np.array([[2,4,5],[6,7,8]])\n",
    "print(np.median(c))\n",
    "print(c)\n",
    "print(np.median(c,axis=1)) # returns median of each row\n",
    "print(np.median(c,axis=0)) # returns median of each column"
   ]
  },
  {
   "cell_type": "code",
   "execution_count": 583,
   "id": "0567a4ad-32c7-4c93-8252-93093b722b19",
   "metadata": {},
   "outputs": [
    {
     "name": "stdout",
     "output_type": "stream",
     "text": [
      "2.75\n",
      "3.1\n"
     ]
    }
   ],
   "source": [
    "# np.percentile()\n",
    "\n",
    "a = np.array([1,2,3,4,5,6,7,8])\n",
    "print(np.percentile(a,25))\n",
    "print(np.percentile(a,30))"
   ]
  },
  {
   "cell_type": "code",
   "execution_count": 584,
   "id": "1f9e8760-a62a-44be-9973-48d5a9603010",
   "metadata": {},
   "outputs": [
    {
     "name": "stdout",
     "output_type": "stream",
     "text": [
      "2.75\n",
      "4.5\n",
      "6.25\n"
     ]
    }
   ],
   "source": [
    "# np.quartile\n",
    "print(np.quantile(a,0.25))\n",
    "print(np.quantile(a,0.50))\n",
    "print(np.quantile(a,0.75))"
   ]
  },
  {
   "cell_type": "code",
   "execution_count": 585,
   "id": "be5121ed-b3f3-4e57-bcb8-c1bde32f41ec",
   "metadata": {},
   "outputs": [
    {
     "name": "stdout",
     "output_type": "stream",
     "text": [
      "using percentile\n",
      "4.25\n",
      "5.5\n",
      "6.75\n",
      "using quantile\n",
      "4.25\n",
      "5.5\n",
      "6.75\n",
      "using percentile\n",
      "for row\n",
      "[3.  6.5]\n",
      "[4. 7.]\n",
      "[4.5 7.5]\n",
      "for column\n",
      "[3.   4.75 5.75]\n",
      "[4.  5.5 6.5]\n",
      "[5.   6.25 7.25]\n",
      "using quantile\n",
      "for row\n",
      "[3.  6.5]\n",
      "[4. 7.]\n",
      "[4.5 7.5]\n",
      "for column\n",
      "[3.   4.75 5.75]\n",
      "[4.  5.5 6.5]\n",
      "[5.   6.25 7.25]\n"
     ]
    }
   ],
   "source": [
    "c = np.array([[2,4,5],[6,7,8]])\n",
    "print('using percentile')\n",
    "print(np.percentile(c,25))\n",
    "print(np.percentile(c,50))\n",
    "print(np.percentile(c,75))\n",
    "print('using quantile')\n",
    "print(np.quantile(c,0.25))\n",
    "print(np.quantile(c,0.50))\n",
    "print(np.quantile(c,0.75))\n",
    "\n",
    "print('using percentile')\n",
    "print('for row')\n",
    "print(np.percentile(c,25,axis=1))\n",
    "print(np.percentile(c,50,axis=1))\n",
    "print(np.percentile(c,75,axis=1))\n",
    "\n",
    "print('for column')\n",
    "print(np.percentile(c,25,axis=0))\n",
    "print(np.percentile(c,50,axis=0))\n",
    "print(np.percentile(c,75,axis=0))\n",
    "print('using quantile')\n",
    "print('for row')\n",
    "print(np.quantile(c,0.25,axis=1))\n",
    "print(np.quantile(c,0.50,axis=1))\n",
    "print(np.quantile(c,0.75,axis=1))\n",
    "print('for column')\n",
    "print(np.quantile(c,0.25,axis=0))\n",
    "print(np.quantile(c,0.50,axis=0))\n",
    "print(np.quantile(c,0.75,axis=0))\n"
   ]
  },
  {
   "cell_type": "code",
   "execution_count": 586,
   "id": "5c127cbe-0a9f-4347-be4c-73ea46b39fc6",
   "metadata": {},
   "outputs": [
    {
     "name": "stdout",
     "output_type": "stream",
     "text": [
      "5.25\n",
      "[1.55555556 0.66666667]\n",
      "[4.   2.25 2.25]\n",
      "1.9720265943665387\n"
     ]
    }
   ],
   "source": [
    "# np.var() - dispersion/spread of the data points\n",
    "\n",
    "print(np.var(a))\n",
    "print(np.var(c,axis=1))\n",
    "print(np.var(c,axis=0))\n",
    "print(np.std(c))"
   ]
  },
  {
   "cell_type": "markdown",
   "id": "940af077-5857-494d-8d20-edf64995eef9",
   "metadata": {},
   "source": [
    "1. Given arr = np.array([1, 2, 3, 4]),shuffle the array without modifying the original."
   ]
  },
  {
   "cell_type": "code",
   "execution_count": 589,
   "id": "83acd1cd-af09-4214-b813-bec9cb315861",
   "metadata": {},
   "outputs": [
    {
     "name": "stdout",
     "output_type": "stream",
     "text": [
      "[1 2 3 4]\n",
      "[3 4 2 1]\n"
     ]
    }
   ],
   "source": [
    "arr = np.array([1,2,3,4])\n",
    "print(arr)\n",
    "print(np.random.permutation(arr))"
   ]
  },
  {
   "cell_type": "markdown",
   "id": "f98d4206-5328-4021-9fa2-5a877b0b68b4",
   "metadata": {},
   "source": [
    "2. Write a program to:\n",
    "- Create an array of numbers from 1 to 10.\n",
    "- Generate a new array that is a randomly permuted version of the original.\n",
    "- Print both arrays to show that the original is unchanged."
   ]
  },
  {
   "cell_type": "code",
   "execution_count": 591,
   "id": "75389fa8-cb85-4377-afa2-cc04fd271883",
   "metadata": {},
   "outputs": [
    {
     "name": "stdout",
     "output_type": "stream",
     "text": [
      "unchanged array =  [1 2 3 4 5 6 7 8 9]\n",
      "shuffled array [8 2 4 5 1 7 3 9 6]\n"
     ]
    }
   ],
   "source": [
    "# create array of numbers between 1 to 10\n",
    "a = np.arange(1,10)\n",
    "arr = np.random.permutation(a)\n",
    "print('unchanged array = ',a)\n",
    "print('shuffled array',arr)"
   ]
  },
  {
   "cell_type": "markdown",
   "id": "76269de3-ae32-4484-bd44-c5eabc4caa53",
   "metadata": {},
   "source": [
    "3. Write a program that:\n",
    "- Takes a 1D NumPy array of positive integers.\n",
    "- Calculates and prints:\n",
    "- The cumulative sum (np.cumsum)\n",
    "- The cumulative product (np.cumprod)"
   ]
  },
  {
   "cell_type": "code",
   "execution_count": 593,
   "id": "f86647fa-5a90-4a05-97a1-45b5a8f8c252",
   "metadata": {},
   "outputs": [
    {
     "name": "stdout",
     "output_type": "stream",
     "text": [
      "[11 23 14 23 21  6  4  8  1]\n",
      "cumulative sum of array =  [ 11  34  48  71  92  98 102 110 111]\n",
      "cumulative product of array =  [       11       253      3542     81466   1710786  10264716  41058864\n",
      " 328470912 328470912]\n"
     ]
    }
   ],
   "source": [
    "a = np.array([11,23,14,23,21,6,4,8,1])\n",
    "print(a)\n",
    "print('cumulative sum of array = ',np.cumsum(a))\n",
    "print('cumulative product of array = ',np.cumprod(a))"
   ]
  },
  {
   "cell_type": "markdown",
   "id": "6ce3ec34-b7f1-4562-9254-08f98878bf4c",
   "metadata": {},
   "source": [
    "4. Take a 3D array, Write a program to compute:\n",
    "- Cumulative sum along axis 0\n",
    "- Cumulative product along axis 1"
   ]
  },
  {
   "cell_type": "code",
   "execution_count": 595,
   "id": "c45c4245-561d-4bb1-b34e-4a72f2f747aa",
   "metadata": {},
   "outputs": [
    {
     "name": "stdout",
     "output_type": "stream",
     "text": [
      "[[[1 2 3]\n",
      "  [4 5 6]\n",
      "  [7 8 9]]]\n",
      "cumulative sum along axis 0 =  [[[1 2 3]\n",
      "  [4 5 6]\n",
      "  [7 8 9]]]\n",
      "cumulative product along axis 1 =  [[[  1   2   3]\n",
      "  [  4  10  18]\n",
      "  [ 28  80 162]]]\n"
     ]
    }
   ],
   "source": [
    "a = np.array([[[1,2,3],[4,5,6],[7,8,9]]])\n",
    "print(a)\n",
    "print('cumulative sum along axis 0 = ',np.cumsum(a,axis = 0))\n",
    "print('cumulative product along axis 1 = ',np.cumprod(a,axis = 1))\n"
   ]
  },
  {
   "cell_type": "markdown",
   "id": "b1188374-57db-4aca-b929-3f5777833cae",
   "metadata": {},
   "source": [
    "5. Take an array of student scores and Write a program to:\n",
    "- Print all scores greater than 60 and less than 85.\n",
    "- Replace all scores less than 50 with 0 using logical indexing."
   ]
  },
  {
   "cell_type": "code",
   "execution_count": 597,
   "id": "68f3858a-cc5e-4337-b809-8030067faf0e",
   "metadata": {},
   "outputs": [
    {
     "name": "stdout",
     "output_type": "stream",
     "text": [
      "[67 72 66]\n"
     ]
    }
   ],
   "source": [
    "arr = np.array([67,60,72,66,34,21,98])\n",
    "print(arr[(arr < 85) & (arr > 60 )])"
   ]
  },
  {
   "cell_type": "code",
   "execution_count": 603,
   "id": "122e9d0d-951b-4544-b3bf-45e93baf226e",
   "metadata": {},
   "outputs": [
    {
     "name": "stdout",
     "output_type": "stream",
     "text": [
      "replaced with 0  [67 60 72 66  0  0 98]\n"
     ]
    }
   ],
   "source": [
    "arr[arr < 50] = 0\n",
    "print('replaced with 0 ',arr)"
   ]
  },
  {
   "cell_type": "markdown",
   "id": "8447f90e-de84-4612-81d8-68e9991edd57",
   "metadata": {},
   "source": [
    "6. Take an array a = [12,15,16,22,21,35,65,70,85,100,40]. Write a program to:\n",
    "- Compute the median\n",
    "- Compute the 25th, 50th, and 75th percentiles\n",
    "- Compute the 0.1, 0.5, and 0.9 quantiles"
   ]
  },
  {
   "cell_type": "code",
   "execution_count": 612,
   "id": "2bef969b-45de-419a-9e69-188269c2fea7",
   "metadata": {},
   "outputs": [
    {
     "name": "stdout",
     "output_type": "stream",
     "text": [
      "[ 12  15  16  22  21  35  65  70  85 100  40]\n",
      "median of given array =  35.0\n",
      "percentile : \n",
      "25th percentile =  18.5\n",
      "50th percentile =  35.0\n",
      "75th percentile =  67.5\n",
      "Quantiles : \n",
      "15.0\n",
      "35.0\n",
      "85.0\n"
     ]
    }
   ],
   "source": [
    "a = np.array([12,15,16,22,21,35,65,70,85,100,40])\n",
    "print(a)\n",
    "print('median of given array = ',np.median(a))\n",
    "print('percentile : ')\n",
    "print('25th percentile = ',np.percentile(a,25))\n",
    "print('50th percentile = ',np.percentile(a,50))\n",
    "print('75th percentile = ',np.percentile(a,75))\n",
    "print('Quantiles : ')\n",
    "print(np.quantile(a,0.1))\n",
    "print(np.quantile(a,0.5))\n",
    "print(np.quantile(a,0.9))"
   ]
  },
  {
   "cell_type": "code",
   "execution_count": null,
   "id": "be9bebb4-dc92-4d76-add5-32745af77921",
   "metadata": {},
   "outputs": [],
   "source": []
  },
  {
   "cell_type": "code",
   "execution_count": null,
   "id": "6ff388bb-4280-4362-952b-7785a958b972",
   "metadata": {},
   "outputs": [],
   "source": []
  }
 ],
 "metadata": {
  "kernelspec": {
   "display_name": "Python 3 (ipykernel)",
   "language": "python",
   "name": "python3"
  },
  "language_info": {
   "codemirror_mode": {
    "name": "ipython",
    "version": 3
   },
   "file_extension": ".py",
   "mimetype": "text/x-python",
   "name": "python",
   "nbconvert_exporter": "python",
   "pygments_lexer": "ipython3",
   "version": "3.12.4"
  }
 },
 "nbformat": 4,
 "nbformat_minor": 5
}
